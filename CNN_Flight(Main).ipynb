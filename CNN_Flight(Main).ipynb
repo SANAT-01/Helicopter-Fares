{
  "cells": [
    {
      "cell_type": "code",
      "execution_count": 1,
      "metadata": {
        "colab": {
          "base_uri": "https://localhost:8080/"
        },
        "id": "WlnHzJa0Jonz",
        "outputId": "fed5c73b-c26c-4bfe-b6e7-7fc2e61cbe9e"
      },
      "outputs": [
        {
          "name": "stdout",
          "output_type": "stream",
          "text": [
            "Mounted at /content/drive\n"
          ]
        }
      ],
      "source": [
        "from google.colab import drive\n",
        "drive.mount('/content/drive')"
      ]
    },
    {
      "attachments": {},
      "cell_type": "markdown",
      "metadata": {
        "id": "kChG7OIAMyz6"
      },
      "source": [
        "## Importing libraries"
      ]
    },
    {
      "cell_type": "code",
      "execution_count": 1,
      "metadata": {
        "id": "V6cDFU_sVZvB"
      },
      "outputs": [
        {
          "name": "stderr",
          "output_type": "stream",
          "text": [
            "2023-07-02 12:08:07.105947: I tensorflow/tsl/cuda/cudart_stub.cc:28] Could not find cuda drivers on your machine, GPU will not be used.\n",
            "2023-07-02 12:08:07.138075: I tensorflow/tsl/cuda/cudart_stub.cc:28] Could not find cuda drivers on your machine, GPU will not be used.\n",
            "2023-07-02 12:08:07.138794: I tensorflow/core/platform/cpu_feature_guard.cc:182] This TensorFlow binary is optimized to use available CPU instructions in performance-critical operations.\n",
            "To enable the following instructions: AVX2 FMA, in other operations, rebuild TensorFlow with the appropriate compiler flags.\n",
            "2023-07-02 12:08:07.750290: W tensorflow/compiler/tf2tensorrt/utils/py_utils.cc:38] TF-TRT Warning: Could not find TensorRT\n"
          ]
        }
      ],
      "source": [
        "import pandas as  pd\n",
        "import numpy as np\n",
        "from tensorflow.keras.models import Sequential\n",
        "from tensorflow.keras.layers import Dense\n",
        "from sklearn.metrics import classification_report\n",
        "import pandas as pd\n",
        "import seaborn as sns"
      ]
    },
    {
      "cell_type": "code",
      "execution_count": 2,
      "metadata": {
        "id": "1DCEG145yRfX"
      },
      "outputs": [],
      "source": [
        "import math\n",
        "import tensorflow as tf\n",
        "import matplotlib.pyplot as plt\n",
        "from tensorflow.keras import Model\n",
        "from tensorflow.keras.optimizers import Adam\n",
        "from sklearn.preprocessing import StandardScaler\n",
        "from tensorflow.keras.layers import Dense, Dropout\n",
        "from sklearn.model_selection import train_test_split\n",
        "from tensorflow.keras.losses import MeanSquaredLogarithmicError\n",
        "from tensorflow.keras.optimizers import SGD\n",
        "from sklearn.metrics import mean_squared_error\n",
        "from sklearn.metrics import mean_absolute_error"
      ]
    },
    {
      "cell_type": "code",
      "execution_count": 4,
      "metadata": {
        "colab": {
          "base_uri": "https://localhost:8080/"
        },
        "id": "F1vqhgAM7gk4",
        "outputId": "369fbe35-554f-4f1a-cea6-ee422988eb9a"
      },
      "outputs": [
        {
          "name": "stdout",
          "output_type": "stream",
          "text": [
            "Collecting tensorflow_addons\n",
            "  Downloading tensorflow_addons-0.20.0-cp310-cp310-manylinux_2_17_x86_64.manylinux2014_x86_64.whl (591 kB)\n",
            "\u001b[?25l     \u001b[90m━━━━━━━━━━━━━━━━━━━━━━━━━━━━━━━━━━━━━━━━\u001b[0m \u001b[32m0.0/591.0 kB\u001b[0m \u001b[31m?\u001b[0m eta \u001b[36m-:--:--\u001b[0m\r\u001b[2K     \u001b[91m━━━━━━━━━━━━━━━━━━━━━━━━━━━━━━━━━━━━━\u001b[0m\u001b[91m╸\u001b[0m \u001b[32m583.7/591.0 kB\u001b[0m \u001b[31m20.2 MB/s\u001b[0m eta \u001b[36m0:00:01\u001b[0m\r\u001b[2K     \u001b[90m━━━━━━━━━━━━━━━━━━━━━━━━━━━━━━━━━━━━━━\u001b[0m \u001b[32m591.0/591.0 kB\u001b[0m \u001b[31m15.0 MB/s\u001b[0m eta \u001b[36m0:00:00\u001b[0m\n",
            "\u001b[?25hRequirement already satisfied: packaging in /usr/local/lib/python3.10/dist-packages (from tensorflow_addons) (23.1)\n",
            "Collecting typeguard<3.0.0,>=2.7 (from tensorflow_addons)\n",
            "  Downloading typeguard-2.13.3-py3-none-any.whl (17 kB)\n",
            "Installing collected packages: typeguard, tensorflow_addons\n",
            "Successfully installed tensorflow_addons-0.20.0 typeguard-2.13.3\n"
          ]
        }
      ],
      "source": [
        "!pip install tensorflow_addons"
      ]
    },
    {
      "cell_type": "code",
      "execution_count": 5,
      "metadata": {
        "colab": {
          "base_uri": "https://localhost:8080/"
        },
        "id": "uc-OMSTGzTWF",
        "outputId": "e9c59992-ad7f-489b-878b-e857f7dbc9e1"
      },
      "outputs": [
        {
          "name": "stderr",
          "output_type": "stream",
          "text": [
            "/usr/local/lib/python3.10/dist-packages/tensorflow_addons/utils/tfa_eol_msg.py:23: UserWarning: \n",
            "\n",
            "TensorFlow Addons (TFA) has ended development and introduction of new features.\n",
            "TFA has entered a minimal maintenance and release mode until a planned end of life in May 2024.\n",
            "Please modify downstream libraries to take dependencies from other repositories in our TensorFlow community (e.g. Keras, Keras-CV, and Keras-NLP). \n",
            "\n",
            "For more information see: https://github.com/tensorflow/addons/issues/2807 \n",
            "\n",
            "  warnings.warn(\n"
          ]
        }
      ],
      "source": [
        "import PIL\n",
        "from tensorflow import keras\n",
        "import tensorflow_addons as tfa\n",
        "from tensorflow.keras import layers"
      ]
    },
    {
      "cell_type": "code",
      "execution_count": 6,
      "metadata": {
        "id": "EjmVU1tZUT6Z"
      },
      "outputs": [],
      "source": [
        "from __future__ import absolute_import, division, print_function"
      ]
    },
    {
      "cell_type": "code",
      "execution_count": 7,
      "metadata": {
        "id": "n11npYc7p2Qm"
      },
      "outputs": [],
      "source": [
        "def plot_history(history, key):\n",
        "  plt.plot(history.history[key])\n",
        "  plt.plot(history.history['val_'+key])\n",
        "  plt.xlabel(\"Epochs\")\n",
        "  plt.ylabel(key)\n",
        "  plt.legend([key, 'val_'+key])\n",
        "  plt.show()\n",
        "# Plot the history"
      ]
    },
    {
      "cell_type": "code",
      "execution_count": 8,
      "metadata": {
        "id": "875UGIkGPum5"
      },
      "outputs": [],
      "source": [
        "def plot_history2(history):\n",
        "  plt.plot(history.history['mae'])\n",
        "  plt.plot(history.history['mse'])\n",
        "  plt.plot(history.history['mape'])\n",
        "  plt.xlabel(\"Epochs\")\n",
        "  plt.ylabel('Loss')\n",
        "  plt.legend(['mae', 'mape', 'mse'])\n",
        "  plt.show()\n",
        "# Plot the history"
      ]
    },
    {
      "attachments": {},
      "cell_type": "markdown",
      "metadata": {
        "id": "bufXPgr_M5d1"
      },
      "source": [
        "## Loading Datasets"
      ]
    },
    {
      "cell_type": "code",
      "execution_count": 9,
      "metadata": {
        "id": "ye2DcFIqUdKm"
      },
      "outputs": [],
      "source": [
        "train = pd.read_csv(\"/content/drive/MyDrive/Colab Notebooks/data/Flight.csv\")"
      ]
    },
    {
      "cell_type": "code",
      "execution_count": 10,
      "metadata": {
        "colab": {
          "base_uri": "https://localhost:8080/"
        },
        "id": "Rsl9bPyuVi3m",
        "outputId": "40aa4405-514d-4302-d48d-b35bf892e0cd"
      },
      "outputs": [
        {
          "data": {
            "text/plain": [
              "(97023, 9)"
            ]
          },
          "execution_count": 10,
          "metadata": {},
          "output_type": "execute_result"
        }
      ],
      "source": [
        "train.shape"
      ]
    },
    {
      "cell_type": "code",
      "execution_count": 11,
      "metadata": {
        "id": "R7LjYi88VhR3"
      },
      "outputs": [],
      "source": [
        "train = train.drop(['Unnamed: 0'], axis = 1)"
      ]
    },
    {
      "attachments": {},
      "cell_type": "markdown",
      "metadata": {
        "id": "CMlahOfRNDOb"
      },
      "source": [
        "## Data Preprocessing"
      ]
    },
    {
      "cell_type": "code",
      "execution_count": 12,
      "metadata": {
        "colab": {
          "base_uri": "https://localhost:8080/",
          "height": 206
        },
        "id": "lcyFlg7KVut8",
        "outputId": "16e2a8d9-e1eb-4766-de34-ace2e2a80830"
      },
      "outputs": [
        {
          "data": {
            "text/html": [
              "\n",
              "  <div id=\"df-a83fa5bd-64f9-48cd-8f3b-21902e0000f1\">\n",
              "    <div class=\"colab-df-container\">\n",
              "      <div>\n",
              "<style scoped>\n",
              "    .dataframe tbody tr th:only-of-type {\n",
              "        vertical-align: middle;\n",
              "    }\n",
              "\n",
              "    .dataframe tbody tr th {\n",
              "        vertical-align: top;\n",
              "    }\n",
              "\n",
              "    .dataframe thead th {\n",
              "        text-align: right;\n",
              "    }\n",
              "</style>\n",
              "<table border=\"1\" class=\"dataframe\">\n",
              "  <thead>\n",
              "    <tr style=\"text-align: right;\">\n",
              "      <th></th>\n",
              "      <th>fare_amount</th>\n",
              "      <th>passenger_count</th>\n",
              "      <th>H_Distance</th>\n",
              "      <th>Year</th>\n",
              "      <th>Month</th>\n",
              "      <th>Date</th>\n",
              "      <th>Day of Week</th>\n",
              "      <th>Hour</th>\n",
              "    </tr>\n",
              "  </thead>\n",
              "  <tbody>\n",
              "    <tr>\n",
              "      <th>0</th>\n",
              "      <td>4.9</td>\n",
              "      <td>2</td>\n",
              "      <td>1.055053</td>\n",
              "      <td>2012</td>\n",
              "      <td>7</td>\n",
              "      <td>30</td>\n",
              "      <td>0</td>\n",
              "      <td>16</td>\n",
              "    </tr>\n",
              "    <tr>\n",
              "      <th>1</th>\n",
              "      <td>6.9</td>\n",
              "      <td>1</td>\n",
              "      <td>2.715959</td>\n",
              "      <td>2011</td>\n",
              "      <td>2</td>\n",
              "      <td>22</td>\n",
              "      <td>1</td>\n",
              "      <td>13</td>\n",
              "    </tr>\n",
              "    <tr>\n",
              "      <th>2</th>\n",
              "      <td>14.1</td>\n",
              "      <td>1</td>\n",
              "      <td>5.101370</td>\n",
              "      <td>2010</td>\n",
              "      <td>10</td>\n",
              "      <td>7</td>\n",
              "      <td>3</td>\n",
              "      <td>21</td>\n",
              "    </tr>\n",
              "    <tr>\n",
              "      <th>3</th>\n",
              "      <td>12.1</td>\n",
              "      <td>5</td>\n",
              "      <td>4.800593</td>\n",
              "      <td>2009</td>\n",
              "      <td>10</td>\n",
              "      <td>2</td>\n",
              "      <td>4</td>\n",
              "      <td>22</td>\n",
              "    </tr>\n",
              "    <tr>\n",
              "      <th>4</th>\n",
              "      <td>21.3</td>\n",
              "      <td>1</td>\n",
              "      <td>7.088301</td>\n",
              "      <td>2009</td>\n",
              "      <td>10</td>\n",
              "      <td>7</td>\n",
              "      <td>2</td>\n",
              "      <td>8</td>\n",
              "    </tr>\n",
              "  </tbody>\n",
              "</table>\n",
              "</div>\n",
              "      <button class=\"colab-df-convert\" onclick=\"convertToInteractive('df-a83fa5bd-64f9-48cd-8f3b-21902e0000f1')\"\n",
              "              title=\"Convert this dataframe to an interactive table.\"\n",
              "              style=\"display:none;\">\n",
              "        \n",
              "  <svg xmlns=\"http://www.w3.org/2000/svg\" height=\"24px\"viewBox=\"0 0 24 24\"\n",
              "       width=\"24px\">\n",
              "    <path d=\"M0 0h24v24H0V0z\" fill=\"none\"/>\n",
              "    <path d=\"M18.56 5.44l.94 2.06.94-2.06 2.06-.94-2.06-.94-.94-2.06-.94 2.06-2.06.94zm-11 1L8.5 8.5l.94-2.06 2.06-.94-2.06-.94L8.5 2.5l-.94 2.06-2.06.94zm10 10l.94 2.06.94-2.06 2.06-.94-2.06-.94-.94-2.06-.94 2.06-2.06.94z\"/><path d=\"M17.41 7.96l-1.37-1.37c-.4-.4-.92-.59-1.43-.59-.52 0-1.04.2-1.43.59L10.3 9.45l-7.72 7.72c-.78.78-.78 2.05 0 2.83L4 21.41c.39.39.9.59 1.41.59.51 0 1.02-.2 1.41-.59l7.78-7.78 2.81-2.81c.8-.78.8-2.07 0-2.86zM5.41 20L4 18.59l7.72-7.72 1.47 1.35L5.41 20z\"/>\n",
              "  </svg>\n",
              "      </button>\n",
              "      \n",
              "  <style>\n",
              "    .colab-df-container {\n",
              "      display:flex;\n",
              "      flex-wrap:wrap;\n",
              "      gap: 12px;\n",
              "    }\n",
              "\n",
              "    .colab-df-convert {\n",
              "      background-color: #E8F0FE;\n",
              "      border: none;\n",
              "      border-radius: 50%;\n",
              "      cursor: pointer;\n",
              "      display: none;\n",
              "      fill: #1967D2;\n",
              "      height: 32px;\n",
              "      padding: 0 0 0 0;\n",
              "      width: 32px;\n",
              "    }\n",
              "\n",
              "    .colab-df-convert:hover {\n",
              "      background-color: #E2EBFA;\n",
              "      box-shadow: 0px 1px 2px rgba(60, 64, 67, 0.3), 0px 1px 3px 1px rgba(60, 64, 67, 0.15);\n",
              "      fill: #174EA6;\n",
              "    }\n",
              "\n",
              "    [theme=dark] .colab-df-convert {\n",
              "      background-color: #3B4455;\n",
              "      fill: #D2E3FC;\n",
              "    }\n",
              "\n",
              "    [theme=dark] .colab-df-convert:hover {\n",
              "      background-color: #434B5C;\n",
              "      box-shadow: 0px 1px 3px 1px rgba(0, 0, 0, 0.15);\n",
              "      filter: drop-shadow(0px 1px 2px rgba(0, 0, 0, 0.3));\n",
              "      fill: #FFFFFF;\n",
              "    }\n",
              "  </style>\n",
              "\n",
              "      <script>\n",
              "        const buttonEl =\n",
              "          document.querySelector('#df-a83fa5bd-64f9-48cd-8f3b-21902e0000f1 button.colab-df-convert');\n",
              "        buttonEl.style.display =\n",
              "          google.colab.kernel.accessAllowed ? 'block' : 'none';\n",
              "\n",
              "        async function convertToInteractive(key) {\n",
              "          const element = document.querySelector('#df-a83fa5bd-64f9-48cd-8f3b-21902e0000f1');\n",
              "          const dataTable =\n",
              "            await google.colab.kernel.invokeFunction('convertToInteractive',\n",
              "                                                     [key], {});\n",
              "          if (!dataTable) return;\n",
              "\n",
              "          const docLinkHtml = 'Like what you see? Visit the ' +\n",
              "            '<a target=\"_blank\" href=https://colab.research.google.com/notebooks/data_table.ipynb>data table notebook</a>'\n",
              "            + ' to learn more about interactive tables.';\n",
              "          element.innerHTML = '';\n",
              "          dataTable['output_type'] = 'display_data';\n",
              "          await google.colab.output.renderOutput(dataTable, element);\n",
              "          const docLink = document.createElement('div');\n",
              "          docLink.innerHTML = docLinkHtml;\n",
              "          element.appendChild(docLink);\n",
              "        }\n",
              "      </script>\n",
              "    </div>\n",
              "  </div>\n",
              "  "
            ],
            "text/plain": [
              "   fare_amount  passenger_count  H_Distance  Year  Month  Date  Day of Week  \\\n",
              "0          4.9                2    1.055053  2012      7    30            0   \n",
              "1          6.9                1    2.715959  2011      2    22            1   \n",
              "2         14.1                1    5.101370  2010     10     7            3   \n",
              "3         12.1                5    4.800593  2009     10     2            4   \n",
              "4         21.3                1    7.088301  2009     10     7            2   \n",
              "\n",
              "   Hour  \n",
              "0    16  \n",
              "1    13  \n",
              "2    21  \n",
              "3    22  \n",
              "4     8  "
            ]
          },
          "execution_count": 12,
          "metadata": {},
          "output_type": "execute_result"
        }
      ],
      "source": [
        "train.head()"
      ]
    },
    {
      "attachments": {},
      "cell_type": "markdown",
      "metadata": {
        "id": "QhpuckL8NOqP"
      },
      "source": [
        "Check for null values"
      ]
    },
    {
      "cell_type": "code",
      "execution_count": 13,
      "metadata": {
        "colab": {
          "base_uri": "https://localhost:8080/"
        },
        "id": "6dmHEMIINIw5",
        "outputId": "5fff9352-6471-4128-d794-64aaa43621e3"
      },
      "outputs": [
        {
          "data": {
            "text/plain": [
              "fare_amount        0\n",
              "passenger_count    0\n",
              "H_Distance         0\n",
              "Year               0\n",
              "Month              0\n",
              "Date               0\n",
              "Day of Week        0\n",
              "Hour               0\n",
              "dtype: int64"
            ]
          },
          "execution_count": 13,
          "metadata": {},
          "output_type": "execute_result"
        }
      ],
      "source": [
        "train.isnull().sum()"
      ]
    },
    {
      "attachments": {},
      "cell_type": "markdown",
      "metadata": {
        "id": "VAse_-ZiNRk9"
      },
      "source": [
        "Describing dataframe"
      ]
    },
    {
      "cell_type": "code",
      "execution_count": 14,
      "metadata": {
        "colab": {
          "base_uri": "https://localhost:8080/"
        },
        "id": "hNzSV9EsNUIU",
        "outputId": "508c6af0-3567-4c0a-8037-51ebfe98287d"
      },
      "outputs": [
        {
          "name": "stdout",
          "output_type": "stream",
          "text": [
            "<class 'pandas.core.frame.DataFrame'>\n",
            "RangeIndex: 97023 entries, 0 to 97022\n",
            "Data columns (total 8 columns):\n",
            " #   Column           Non-Null Count  Dtype  \n",
            "---  ------           --------------  -----  \n",
            " 0   fare_amount      97023 non-null  float64\n",
            " 1   passenger_count  97023 non-null  int64  \n",
            " 2   H_Distance       97023 non-null  float64\n",
            " 3   Year             97023 non-null  int64  \n",
            " 4   Month            97023 non-null  int64  \n",
            " 5   Date             97023 non-null  int64  \n",
            " 6   Day of Week      97023 non-null  int64  \n",
            " 7   Hour             97023 non-null  int64  \n",
            "dtypes: float64(2), int64(6)\n",
            "memory usage: 5.9 MB\n"
          ]
        }
      ],
      "source": [
        "train.info()"
      ]
    },
    {
      "cell_type": "code",
      "execution_count": 15,
      "metadata": {
        "colab": {
          "base_uri": "https://localhost:8080/",
          "height": 300
        },
        "id": "AnRscXaWNZNt",
        "outputId": "81cb37d9-b557-46a2-d3e8-99c036dc2ee0"
      },
      "outputs": [
        {
          "data": {
            "text/html": [
              "\n",
              "  <div id=\"df-6846a924-d31c-4a29-b6a0-bdb2ef84b52d\">\n",
              "    <div class=\"colab-df-container\">\n",
              "      <div>\n",
              "<style scoped>\n",
              "    .dataframe tbody tr th:only-of-type {\n",
              "        vertical-align: middle;\n",
              "    }\n",
              "\n",
              "    .dataframe tbody tr th {\n",
              "        vertical-align: top;\n",
              "    }\n",
              "\n",
              "    .dataframe thead th {\n",
              "        text-align: right;\n",
              "    }\n",
              "</style>\n",
              "<table border=\"1\" class=\"dataframe\">\n",
              "  <thead>\n",
              "    <tr style=\"text-align: right;\">\n",
              "      <th></th>\n",
              "      <th>fare_amount</th>\n",
              "      <th>passenger_count</th>\n",
              "      <th>H_Distance</th>\n",
              "      <th>Year</th>\n",
              "      <th>Month</th>\n",
              "      <th>Date</th>\n",
              "      <th>Day of Week</th>\n",
              "      <th>Hour</th>\n",
              "    </tr>\n",
              "  </thead>\n",
              "  <tbody>\n",
              "    <tr>\n",
              "      <th>count</th>\n",
              "      <td>97023.000000</td>\n",
              "      <td>97023.000000</td>\n",
              "      <td>97023.000000</td>\n",
              "      <td>97023.000000</td>\n",
              "      <td>97023.000000</td>\n",
              "      <td>97023.000000</td>\n",
              "      <td>97023.000000</td>\n",
              "      <td>97023.000000</td>\n",
              "    </tr>\n",
              "    <tr>\n",
              "      <th>mean</th>\n",
              "      <td>11.162088</td>\n",
              "      <td>1.688084</td>\n",
              "      <td>3.296804</td>\n",
              "      <td>2011.738876</td>\n",
              "      <td>6.268751</td>\n",
              "      <td>15.684652</td>\n",
              "      <td>3.029931</td>\n",
              "      <td>13.519001</td>\n",
              "    </tr>\n",
              "    <tr>\n",
              "      <th>std</th>\n",
              "      <td>9.121696</td>\n",
              "      <td>1.306013</td>\n",
              "      <td>3.520169</td>\n",
              "      <td>1.865130</td>\n",
              "      <td>3.435961</td>\n",
              "      <td>8.690549</td>\n",
              "      <td>1.949860</td>\n",
              "      <td>6.509714</td>\n",
              "    </tr>\n",
              "    <tr>\n",
              "      <th>min</th>\n",
              "      <td>2.500000</td>\n",
              "      <td>1.000000</td>\n",
              "      <td>0.000000</td>\n",
              "      <td>2009.000000</td>\n",
              "      <td>1.000000</td>\n",
              "      <td>1.000000</td>\n",
              "      <td>0.000000</td>\n",
              "      <td>0.000000</td>\n",
              "    </tr>\n",
              "    <tr>\n",
              "      <th>25%</th>\n",
              "      <td>6.000000</td>\n",
              "      <td>1.000000</td>\n",
              "      <td>1.261556</td>\n",
              "      <td>2010.000000</td>\n",
              "      <td>3.000000</td>\n",
              "      <td>8.000000</td>\n",
              "      <td>1.000000</td>\n",
              "      <td>9.000000</td>\n",
              "    </tr>\n",
              "    <tr>\n",
              "      <th>50%</th>\n",
              "      <td>8.500000</td>\n",
              "      <td>1.000000</td>\n",
              "      <td>2.151434</td>\n",
              "      <td>2012.000000</td>\n",
              "      <td>6.000000</td>\n",
              "      <td>16.000000</td>\n",
              "      <td>3.000000</td>\n",
              "      <td>14.000000</td>\n",
              "    </tr>\n",
              "    <tr>\n",
              "      <th>75%</th>\n",
              "      <td>12.500000</td>\n",
              "      <td>2.000000</td>\n",
              "      <td>3.918542</td>\n",
              "      <td>2013.000000</td>\n",
              "      <td>9.000000</td>\n",
              "      <td>23.000000</td>\n",
              "      <td>5.000000</td>\n",
              "      <td>19.000000</td>\n",
              "    </tr>\n",
              "    <tr>\n",
              "      <th>max</th>\n",
              "      <td>160.000000</td>\n",
              "      <td>6.000000</td>\n",
              "      <td>39.516128</td>\n",
              "      <td>2015.000000</td>\n",
              "      <td>12.000000</td>\n",
              "      <td>31.000000</td>\n",
              "      <td>6.000000</td>\n",
              "      <td>23.000000</td>\n",
              "    </tr>\n",
              "  </tbody>\n",
              "</table>\n",
              "</div>\n",
              "      <button class=\"colab-df-convert\" onclick=\"convertToInteractive('df-6846a924-d31c-4a29-b6a0-bdb2ef84b52d')\"\n",
              "              title=\"Convert this dataframe to an interactive table.\"\n",
              "              style=\"display:none;\">\n",
              "        \n",
              "  <svg xmlns=\"http://www.w3.org/2000/svg\" height=\"24px\"viewBox=\"0 0 24 24\"\n",
              "       width=\"24px\">\n",
              "    <path d=\"M0 0h24v24H0V0z\" fill=\"none\"/>\n",
              "    <path d=\"M18.56 5.44l.94 2.06.94-2.06 2.06-.94-2.06-.94-.94-2.06-.94 2.06-2.06.94zm-11 1L8.5 8.5l.94-2.06 2.06-.94-2.06-.94L8.5 2.5l-.94 2.06-2.06.94zm10 10l.94 2.06.94-2.06 2.06-.94-2.06-.94-.94-2.06-.94 2.06-2.06.94z\"/><path d=\"M17.41 7.96l-1.37-1.37c-.4-.4-.92-.59-1.43-.59-.52 0-1.04.2-1.43.59L10.3 9.45l-7.72 7.72c-.78.78-.78 2.05 0 2.83L4 21.41c.39.39.9.59 1.41.59.51 0 1.02-.2 1.41-.59l7.78-7.78 2.81-2.81c.8-.78.8-2.07 0-2.86zM5.41 20L4 18.59l7.72-7.72 1.47 1.35L5.41 20z\"/>\n",
              "  </svg>\n",
              "      </button>\n",
              "      \n",
              "  <style>\n",
              "    .colab-df-container {\n",
              "      display:flex;\n",
              "      flex-wrap:wrap;\n",
              "      gap: 12px;\n",
              "    }\n",
              "\n",
              "    .colab-df-convert {\n",
              "      background-color: #E8F0FE;\n",
              "      border: none;\n",
              "      border-radius: 50%;\n",
              "      cursor: pointer;\n",
              "      display: none;\n",
              "      fill: #1967D2;\n",
              "      height: 32px;\n",
              "      padding: 0 0 0 0;\n",
              "      width: 32px;\n",
              "    }\n",
              "\n",
              "    .colab-df-convert:hover {\n",
              "      background-color: #E2EBFA;\n",
              "      box-shadow: 0px 1px 2px rgba(60, 64, 67, 0.3), 0px 1px 3px 1px rgba(60, 64, 67, 0.15);\n",
              "      fill: #174EA6;\n",
              "    }\n",
              "\n",
              "    [theme=dark] .colab-df-convert {\n",
              "      background-color: #3B4455;\n",
              "      fill: #D2E3FC;\n",
              "    }\n",
              "\n",
              "    [theme=dark] .colab-df-convert:hover {\n",
              "      background-color: #434B5C;\n",
              "      box-shadow: 0px 1px 3px 1px rgba(0, 0, 0, 0.15);\n",
              "      filter: drop-shadow(0px 1px 2px rgba(0, 0, 0, 0.3));\n",
              "      fill: #FFFFFF;\n",
              "    }\n",
              "  </style>\n",
              "\n",
              "      <script>\n",
              "        const buttonEl =\n",
              "          document.querySelector('#df-6846a924-d31c-4a29-b6a0-bdb2ef84b52d button.colab-df-convert');\n",
              "        buttonEl.style.display =\n",
              "          google.colab.kernel.accessAllowed ? 'block' : 'none';\n",
              "\n",
              "        async function convertToInteractive(key) {\n",
              "          const element = document.querySelector('#df-6846a924-d31c-4a29-b6a0-bdb2ef84b52d');\n",
              "          const dataTable =\n",
              "            await google.colab.kernel.invokeFunction('convertToInteractive',\n",
              "                                                     [key], {});\n",
              "          if (!dataTable) return;\n",
              "\n",
              "          const docLinkHtml = 'Like what you see? Visit the ' +\n",
              "            '<a target=\"_blank\" href=https://colab.research.google.com/notebooks/data_table.ipynb>data table notebook</a>'\n",
              "            + ' to learn more about interactive tables.';\n",
              "          element.innerHTML = '';\n",
              "          dataTable['output_type'] = 'display_data';\n",
              "          await google.colab.output.renderOutput(dataTable, element);\n",
              "          const docLink = document.createElement('div');\n",
              "          docLink.innerHTML = docLinkHtml;\n",
              "          element.appendChild(docLink);\n",
              "        }\n",
              "      </script>\n",
              "    </div>\n",
              "  </div>\n",
              "  "
            ],
            "text/plain": [
              "        fare_amount  passenger_count    H_Distance          Year  \\\n",
              "count  97023.000000     97023.000000  97023.000000  97023.000000   \n",
              "mean      11.162088         1.688084      3.296804   2011.738876   \n",
              "std        9.121696         1.306013      3.520169      1.865130   \n",
              "min        2.500000         1.000000      0.000000   2009.000000   \n",
              "25%        6.000000         1.000000      1.261556   2010.000000   \n",
              "50%        8.500000         1.000000      2.151434   2012.000000   \n",
              "75%       12.500000         2.000000      3.918542   2013.000000   \n",
              "max      160.000000         6.000000     39.516128   2015.000000   \n",
              "\n",
              "              Month          Date   Day of Week          Hour  \n",
              "count  97023.000000  97023.000000  97023.000000  97023.000000  \n",
              "mean       6.268751     15.684652      3.029931     13.519001  \n",
              "std        3.435961      8.690549      1.949860      6.509714  \n",
              "min        1.000000      1.000000      0.000000      0.000000  \n",
              "25%        3.000000      8.000000      1.000000      9.000000  \n",
              "50%        6.000000     16.000000      3.000000     14.000000  \n",
              "75%        9.000000     23.000000      5.000000     19.000000  \n",
              "max       12.000000     31.000000      6.000000     23.000000  "
            ]
          },
          "execution_count": 15,
          "metadata": {},
          "output_type": "execute_result"
        }
      ],
      "source": [
        "train.describe()"
      ]
    },
    {
      "attachments": {},
      "cell_type": "markdown",
      "metadata": {
        "id": "VRnq90j2O3AV"
      },
      "source": [
        "droppin the rows with Haversine distance eqauls zero"
      ]
    },
    {
      "cell_type": "code",
      "execution_count": 16,
      "metadata": {
        "id": "2av-m419N4SR"
      },
      "outputs": [],
      "source": [
        "train = train[train['H_Distance'] != 0]"
      ]
    },
    {
      "cell_type": "code",
      "execution_count": 17,
      "metadata": {
        "colab": {
          "base_uri": "https://localhost:8080/",
          "height": 300
        },
        "id": "wSneBkz4OsA4",
        "outputId": "0d9630c8-391b-41dc-a6e3-3ed7feff1f68"
      },
      "outputs": [
        {
          "data": {
            "text/html": [
              "\n",
              "  <div id=\"df-f4caaf63-df59-4d2d-9afe-496637e7600d\">\n",
              "    <div class=\"colab-df-container\">\n",
              "      <div>\n",
              "<style scoped>\n",
              "    .dataframe tbody tr th:only-of-type {\n",
              "        vertical-align: middle;\n",
              "    }\n",
              "\n",
              "    .dataframe tbody tr th {\n",
              "        vertical-align: top;\n",
              "    }\n",
              "\n",
              "    .dataframe thead th {\n",
              "        text-align: right;\n",
              "    }\n",
              "</style>\n",
              "<table border=\"1\" class=\"dataframe\">\n",
              "  <thead>\n",
              "    <tr style=\"text-align: right;\">\n",
              "      <th></th>\n",
              "      <th>fare_amount</th>\n",
              "      <th>passenger_count</th>\n",
              "      <th>H_Distance</th>\n",
              "      <th>Year</th>\n",
              "      <th>Month</th>\n",
              "      <th>Date</th>\n",
              "      <th>Day of Week</th>\n",
              "      <th>Hour</th>\n",
              "    </tr>\n",
              "  </thead>\n",
              "  <tbody>\n",
              "    <tr>\n",
              "      <th>count</th>\n",
              "      <td>96099.000000</td>\n",
              "      <td>96099.000000</td>\n",
              "      <td>96099.000000</td>\n",
              "      <td>96099.000000</td>\n",
              "      <td>96099.000000</td>\n",
              "      <td>96099.000000</td>\n",
              "      <td>96099.000000</td>\n",
              "      <td>96099.000000</td>\n",
              "    </tr>\n",
              "    <tr>\n",
              "      <th>mean</th>\n",
              "      <td>11.193861</td>\n",
              "      <td>1.687957</td>\n",
              "      <td>3.328503</td>\n",
              "      <td>2011.743129</td>\n",
              "      <td>6.268556</td>\n",
              "      <td>15.683795</td>\n",
              "      <td>3.029969</td>\n",
              "      <td>13.515822</td>\n",
              "    </tr>\n",
              "    <tr>\n",
              "      <th>std</th>\n",
              "      <td>9.143699</td>\n",
              "      <td>1.305807</td>\n",
              "      <td>3.522105</td>\n",
              "      <td>1.866377</td>\n",
              "      <td>3.436559</td>\n",
              "      <td>8.690212</td>\n",
              "      <td>1.950510</td>\n",
              "      <td>6.511627</td>\n",
              "    </tr>\n",
              "    <tr>\n",
              "      <th>min</th>\n",
              "      <td>2.500000</td>\n",
              "      <td>1.000000</td>\n",
              "      <td>0.000084</td>\n",
              "      <td>2009.000000</td>\n",
              "      <td>1.000000</td>\n",
              "      <td>1.000000</td>\n",
              "      <td>0.000000</td>\n",
              "      <td>0.000000</td>\n",
              "    </tr>\n",
              "    <tr>\n",
              "      <th>25%</th>\n",
              "      <td>6.000000</td>\n",
              "      <td>1.000000</td>\n",
              "      <td>1.282180</td>\n",
              "      <td>2010.000000</td>\n",
              "      <td>3.000000</td>\n",
              "      <td>8.000000</td>\n",
              "      <td>1.000000</td>\n",
              "      <td>9.000000</td>\n",
              "    </tr>\n",
              "    <tr>\n",
              "      <th>50%</th>\n",
              "      <td>8.500000</td>\n",
              "      <td>1.000000</td>\n",
              "      <td>2.173121</td>\n",
              "      <td>2012.000000</td>\n",
              "      <td>6.000000</td>\n",
              "      <td>16.000000</td>\n",
              "      <td>3.000000</td>\n",
              "      <td>14.000000</td>\n",
              "    </tr>\n",
              "    <tr>\n",
              "      <th>75%</th>\n",
              "      <td>12.500000</td>\n",
              "      <td>2.000000</td>\n",
              "      <td>3.945338</td>\n",
              "      <td>2013.000000</td>\n",
              "      <td>9.000000</td>\n",
              "      <td>23.000000</td>\n",
              "      <td>5.000000</td>\n",
              "      <td>19.000000</td>\n",
              "    </tr>\n",
              "    <tr>\n",
              "      <th>max</th>\n",
              "      <td>160.000000</td>\n",
              "      <td>6.000000</td>\n",
              "      <td>39.516128</td>\n",
              "      <td>2015.000000</td>\n",
              "      <td>12.000000</td>\n",
              "      <td>31.000000</td>\n",
              "      <td>6.000000</td>\n",
              "      <td>23.000000</td>\n",
              "    </tr>\n",
              "  </tbody>\n",
              "</table>\n",
              "</div>\n",
              "      <button class=\"colab-df-convert\" onclick=\"convertToInteractive('df-f4caaf63-df59-4d2d-9afe-496637e7600d')\"\n",
              "              title=\"Convert this dataframe to an interactive table.\"\n",
              "              style=\"display:none;\">\n",
              "        \n",
              "  <svg xmlns=\"http://www.w3.org/2000/svg\" height=\"24px\"viewBox=\"0 0 24 24\"\n",
              "       width=\"24px\">\n",
              "    <path d=\"M0 0h24v24H0V0z\" fill=\"none\"/>\n",
              "    <path d=\"M18.56 5.44l.94 2.06.94-2.06 2.06-.94-2.06-.94-.94-2.06-.94 2.06-2.06.94zm-11 1L8.5 8.5l.94-2.06 2.06-.94-2.06-.94L8.5 2.5l-.94 2.06-2.06.94zm10 10l.94 2.06.94-2.06 2.06-.94-2.06-.94-.94-2.06-.94 2.06-2.06.94z\"/><path d=\"M17.41 7.96l-1.37-1.37c-.4-.4-.92-.59-1.43-.59-.52 0-1.04.2-1.43.59L10.3 9.45l-7.72 7.72c-.78.78-.78 2.05 0 2.83L4 21.41c.39.39.9.59 1.41.59.51 0 1.02-.2 1.41-.59l7.78-7.78 2.81-2.81c.8-.78.8-2.07 0-2.86zM5.41 20L4 18.59l7.72-7.72 1.47 1.35L5.41 20z\"/>\n",
              "  </svg>\n",
              "      </button>\n",
              "      \n",
              "  <style>\n",
              "    .colab-df-container {\n",
              "      display:flex;\n",
              "      flex-wrap:wrap;\n",
              "      gap: 12px;\n",
              "    }\n",
              "\n",
              "    .colab-df-convert {\n",
              "      background-color: #E8F0FE;\n",
              "      border: none;\n",
              "      border-radius: 50%;\n",
              "      cursor: pointer;\n",
              "      display: none;\n",
              "      fill: #1967D2;\n",
              "      height: 32px;\n",
              "      padding: 0 0 0 0;\n",
              "      width: 32px;\n",
              "    }\n",
              "\n",
              "    .colab-df-convert:hover {\n",
              "      background-color: #E2EBFA;\n",
              "      box-shadow: 0px 1px 2px rgba(60, 64, 67, 0.3), 0px 1px 3px 1px rgba(60, 64, 67, 0.15);\n",
              "      fill: #174EA6;\n",
              "    }\n",
              "\n",
              "    [theme=dark] .colab-df-convert {\n",
              "      background-color: #3B4455;\n",
              "      fill: #D2E3FC;\n",
              "    }\n",
              "\n",
              "    [theme=dark] .colab-df-convert:hover {\n",
              "      background-color: #434B5C;\n",
              "      box-shadow: 0px 1px 3px 1px rgba(0, 0, 0, 0.15);\n",
              "      filter: drop-shadow(0px 1px 2px rgba(0, 0, 0, 0.3));\n",
              "      fill: #FFFFFF;\n",
              "    }\n",
              "  </style>\n",
              "\n",
              "      <script>\n",
              "        const buttonEl =\n",
              "          document.querySelector('#df-f4caaf63-df59-4d2d-9afe-496637e7600d button.colab-df-convert');\n",
              "        buttonEl.style.display =\n",
              "          google.colab.kernel.accessAllowed ? 'block' : 'none';\n",
              "\n",
              "        async function convertToInteractive(key) {\n",
              "          const element = document.querySelector('#df-f4caaf63-df59-4d2d-9afe-496637e7600d');\n",
              "          const dataTable =\n",
              "            await google.colab.kernel.invokeFunction('convertToInteractive',\n",
              "                                                     [key], {});\n",
              "          if (!dataTable) return;\n",
              "\n",
              "          const docLinkHtml = 'Like what you see? Visit the ' +\n",
              "            '<a target=\"_blank\" href=https://colab.research.google.com/notebooks/data_table.ipynb>data table notebook</a>'\n",
              "            + ' to learn more about interactive tables.';\n",
              "          element.innerHTML = '';\n",
              "          dataTable['output_type'] = 'display_data';\n",
              "          await google.colab.output.renderOutput(dataTable, element);\n",
              "          const docLink = document.createElement('div');\n",
              "          docLink.innerHTML = docLinkHtml;\n",
              "          element.appendChild(docLink);\n",
              "        }\n",
              "      </script>\n",
              "    </div>\n",
              "  </div>\n",
              "  "
            ],
            "text/plain": [
              "        fare_amount  passenger_count    H_Distance          Year  \\\n",
              "count  96099.000000     96099.000000  96099.000000  96099.000000   \n",
              "mean      11.193861         1.687957      3.328503   2011.743129   \n",
              "std        9.143699         1.305807      3.522105      1.866377   \n",
              "min        2.500000         1.000000      0.000084   2009.000000   \n",
              "25%        6.000000         1.000000      1.282180   2010.000000   \n",
              "50%        8.500000         1.000000      2.173121   2012.000000   \n",
              "75%       12.500000         2.000000      3.945338   2013.000000   \n",
              "max      160.000000         6.000000     39.516128   2015.000000   \n",
              "\n",
              "              Month          Date   Day of Week          Hour  \n",
              "count  96099.000000  96099.000000  96099.000000  96099.000000  \n",
              "mean       6.268556     15.683795      3.029969     13.515822  \n",
              "std        3.436559      8.690212      1.950510      6.511627  \n",
              "min        1.000000      1.000000      0.000000      0.000000  \n",
              "25%        3.000000      8.000000      1.000000      9.000000  \n",
              "50%        6.000000     16.000000      3.000000     14.000000  \n",
              "75%        9.000000     23.000000      5.000000     19.000000  \n",
              "max       12.000000     31.000000      6.000000     23.000000  "
            ]
          },
          "execution_count": 17,
          "metadata": {},
          "output_type": "execute_result"
        }
      ],
      "source": [
        "train.describe()"
      ]
    },
    {
      "attachments": {},
      "cell_type": "markdown",
      "metadata": {
        "id": "ZGQgFFmMPVvH"
      },
      "source": [
        "Splitting the into train and test set"
      ]
    },
    {
      "cell_type": "code",
      "execution_count": 18,
      "metadata": {
        "id": "KPVOyDZaWhFq"
      },
      "outputs": [],
      "source": [
        "y_train = train['fare_amount']\n",
        "x_train = train.drop(['fare_amount'], axis = 1)"
      ]
    },
    {
      "cell_type": "code",
      "execution_count": 19,
      "metadata": {
        "id": "ebnQz3S0V41R"
      },
      "outputs": [],
      "source": [
        "from sklearn.model_selection import train_test_split\n",
        "x_train, x_test, y_train, y_test = train_test_split(x_train, y_train, test_size=0.20, random_state=99)"
      ]
    },
    {
      "cell_type": "code",
      "execution_count": 20,
      "metadata": {
        "colab": {
          "base_uri": "https://localhost:8080/",
          "height": 423
        },
        "id": "QctHYlZHXBDJ",
        "outputId": "9e065640-e7a7-4063-d4bc-9b1432df5577"
      },
      "outputs": [
        {
          "data": {
            "text/html": [
              "\n",
              "  <div id=\"df-c8a2d6ff-67e9-41f0-88a7-c19060f06051\">\n",
              "    <div class=\"colab-df-container\">\n",
              "      <div>\n",
              "<style scoped>\n",
              "    .dataframe tbody tr th:only-of-type {\n",
              "        vertical-align: middle;\n",
              "    }\n",
              "\n",
              "    .dataframe tbody tr th {\n",
              "        vertical-align: top;\n",
              "    }\n",
              "\n",
              "    .dataframe thead th {\n",
              "        text-align: right;\n",
              "    }\n",
              "</style>\n",
              "<table border=\"1\" class=\"dataframe\">\n",
              "  <thead>\n",
              "    <tr style=\"text-align: right;\">\n",
              "      <th></th>\n",
              "      <th>passenger_count</th>\n",
              "      <th>H_Distance</th>\n",
              "      <th>Year</th>\n",
              "      <th>Month</th>\n",
              "      <th>Date</th>\n",
              "      <th>Day of Week</th>\n",
              "      <th>Hour</th>\n",
              "    </tr>\n",
              "  </thead>\n",
              "  <tbody>\n",
              "    <tr>\n",
              "      <th>84491</th>\n",
              "      <td>2</td>\n",
              "      <td>0.874832</td>\n",
              "      <td>2013</td>\n",
              "      <td>1</td>\n",
              "      <td>29</td>\n",
              "      <td>1</td>\n",
              "      <td>21</td>\n",
              "    </tr>\n",
              "    <tr>\n",
              "      <th>37693</th>\n",
              "      <td>1</td>\n",
              "      <td>1.941140</td>\n",
              "      <td>2012</td>\n",
              "      <td>12</td>\n",
              "      <td>5</td>\n",
              "      <td>2</td>\n",
              "      <td>8</td>\n",
              "    </tr>\n",
              "    <tr>\n",
              "      <th>72495</th>\n",
              "      <td>1</td>\n",
              "      <td>3.037259</td>\n",
              "      <td>2014</td>\n",
              "      <td>12</td>\n",
              "      <td>5</td>\n",
              "      <td>4</td>\n",
              "      <td>0</td>\n",
              "    </tr>\n",
              "    <tr>\n",
              "      <th>67371</th>\n",
              "      <td>1</td>\n",
              "      <td>4.894181</td>\n",
              "      <td>2012</td>\n",
              "      <td>9</td>\n",
              "      <td>17</td>\n",
              "      <td>0</td>\n",
              "      <td>17</td>\n",
              "    </tr>\n",
              "    <tr>\n",
              "      <th>47454</th>\n",
              "      <td>1</td>\n",
              "      <td>20.683306</td>\n",
              "      <td>2013</td>\n",
              "      <td>5</td>\n",
              "      <td>5</td>\n",
              "      <td>6</td>\n",
              "      <td>17</td>\n",
              "    </tr>\n",
              "    <tr>\n",
              "      <th>...</th>\n",
              "      <td>...</td>\n",
              "      <td>...</td>\n",
              "      <td>...</td>\n",
              "      <td>...</td>\n",
              "      <td>...</td>\n",
              "      <td>...</td>\n",
              "      <td>...</td>\n",
              "    </tr>\n",
              "    <tr>\n",
              "      <th>57589</th>\n",
              "      <td>1</td>\n",
              "      <td>1.414564</td>\n",
              "      <td>2013</td>\n",
              "      <td>7</td>\n",
              "      <td>16</td>\n",
              "      <td>1</td>\n",
              "      <td>16</td>\n",
              "    </tr>\n",
              "    <tr>\n",
              "      <th>36361</th>\n",
              "      <td>2</td>\n",
              "      <td>1.411577</td>\n",
              "      <td>2014</td>\n",
              "      <td>1</td>\n",
              "      <td>31</td>\n",
              "      <td>4</td>\n",
              "      <td>17</td>\n",
              "    </tr>\n",
              "    <tr>\n",
              "      <th>46715</th>\n",
              "      <td>1</td>\n",
              "      <td>3.447727</td>\n",
              "      <td>2009</td>\n",
              "      <td>10</td>\n",
              "      <td>30</td>\n",
              "      <td>4</td>\n",
              "      <td>0</td>\n",
              "    </tr>\n",
              "    <tr>\n",
              "      <th>23809</th>\n",
              "      <td>1</td>\n",
              "      <td>1.896915</td>\n",
              "      <td>2012</td>\n",
              "      <td>12</td>\n",
              "      <td>7</td>\n",
              "      <td>4</td>\n",
              "      <td>8</td>\n",
              "    </tr>\n",
              "    <tr>\n",
              "      <th>29595</th>\n",
              "      <td>1</td>\n",
              "      <td>0.999656</td>\n",
              "      <td>2010</td>\n",
              "      <td>10</td>\n",
              "      <td>14</td>\n",
              "      <td>3</td>\n",
              "      <td>10</td>\n",
              "    </tr>\n",
              "  </tbody>\n",
              "</table>\n",
              "<p>76879 rows × 7 columns</p>\n",
              "</div>\n",
              "      <button class=\"colab-df-convert\" onclick=\"convertToInteractive('df-c8a2d6ff-67e9-41f0-88a7-c19060f06051')\"\n",
              "              title=\"Convert this dataframe to an interactive table.\"\n",
              "              style=\"display:none;\">\n",
              "        \n",
              "  <svg xmlns=\"http://www.w3.org/2000/svg\" height=\"24px\"viewBox=\"0 0 24 24\"\n",
              "       width=\"24px\">\n",
              "    <path d=\"M0 0h24v24H0V0z\" fill=\"none\"/>\n",
              "    <path d=\"M18.56 5.44l.94 2.06.94-2.06 2.06-.94-2.06-.94-.94-2.06-.94 2.06-2.06.94zm-11 1L8.5 8.5l.94-2.06 2.06-.94-2.06-.94L8.5 2.5l-.94 2.06-2.06.94zm10 10l.94 2.06.94-2.06 2.06-.94-2.06-.94-.94-2.06-.94 2.06-2.06.94z\"/><path d=\"M17.41 7.96l-1.37-1.37c-.4-.4-.92-.59-1.43-.59-.52 0-1.04.2-1.43.59L10.3 9.45l-7.72 7.72c-.78.78-.78 2.05 0 2.83L4 21.41c.39.39.9.59 1.41.59.51 0 1.02-.2 1.41-.59l7.78-7.78 2.81-2.81c.8-.78.8-2.07 0-2.86zM5.41 20L4 18.59l7.72-7.72 1.47 1.35L5.41 20z\"/>\n",
              "  </svg>\n",
              "      </button>\n",
              "      \n",
              "  <style>\n",
              "    .colab-df-container {\n",
              "      display:flex;\n",
              "      flex-wrap:wrap;\n",
              "      gap: 12px;\n",
              "    }\n",
              "\n",
              "    .colab-df-convert {\n",
              "      background-color: #E8F0FE;\n",
              "      border: none;\n",
              "      border-radius: 50%;\n",
              "      cursor: pointer;\n",
              "      display: none;\n",
              "      fill: #1967D2;\n",
              "      height: 32px;\n",
              "      padding: 0 0 0 0;\n",
              "      width: 32px;\n",
              "    }\n",
              "\n",
              "    .colab-df-convert:hover {\n",
              "      background-color: #E2EBFA;\n",
              "      box-shadow: 0px 1px 2px rgba(60, 64, 67, 0.3), 0px 1px 3px 1px rgba(60, 64, 67, 0.15);\n",
              "      fill: #174EA6;\n",
              "    }\n",
              "\n",
              "    [theme=dark] .colab-df-convert {\n",
              "      background-color: #3B4455;\n",
              "      fill: #D2E3FC;\n",
              "    }\n",
              "\n",
              "    [theme=dark] .colab-df-convert:hover {\n",
              "      background-color: #434B5C;\n",
              "      box-shadow: 0px 1px 3px 1px rgba(0, 0, 0, 0.15);\n",
              "      filter: drop-shadow(0px 1px 2px rgba(0, 0, 0, 0.3));\n",
              "      fill: #FFFFFF;\n",
              "    }\n",
              "  </style>\n",
              "\n",
              "      <script>\n",
              "        const buttonEl =\n",
              "          document.querySelector('#df-c8a2d6ff-67e9-41f0-88a7-c19060f06051 button.colab-df-convert');\n",
              "        buttonEl.style.display =\n",
              "          google.colab.kernel.accessAllowed ? 'block' : 'none';\n",
              "\n",
              "        async function convertToInteractive(key) {\n",
              "          const element = document.querySelector('#df-c8a2d6ff-67e9-41f0-88a7-c19060f06051');\n",
              "          const dataTable =\n",
              "            await google.colab.kernel.invokeFunction('convertToInteractive',\n",
              "                                                     [key], {});\n",
              "          if (!dataTable) return;\n",
              "\n",
              "          const docLinkHtml = 'Like what you see? Visit the ' +\n",
              "            '<a target=\"_blank\" href=https://colab.research.google.com/notebooks/data_table.ipynb>data table notebook</a>'\n",
              "            + ' to learn more about interactive tables.';\n",
              "          element.innerHTML = '';\n",
              "          dataTable['output_type'] = 'display_data';\n",
              "          await google.colab.output.renderOutput(dataTable, element);\n",
              "          const docLink = document.createElement('div');\n",
              "          docLink.innerHTML = docLinkHtml;\n",
              "          element.appendChild(docLink);\n",
              "        }\n",
              "      </script>\n",
              "    </div>\n",
              "  </div>\n",
              "  "
            ],
            "text/plain": [
              "       passenger_count  H_Distance  Year  Month  Date  Day of Week  Hour\n",
              "84491                2    0.874832  2013      1    29            1    21\n",
              "37693                1    1.941140  2012     12     5            2     8\n",
              "72495                1    3.037259  2014     12     5            4     0\n",
              "67371                1    4.894181  2012      9    17            0    17\n",
              "47454                1   20.683306  2013      5     5            6    17\n",
              "...                ...         ...   ...    ...   ...          ...   ...\n",
              "57589                1    1.414564  2013      7    16            1    16\n",
              "36361                2    1.411577  2014      1    31            4    17\n",
              "46715                1    3.447727  2009     10    30            4     0\n",
              "23809                1    1.896915  2012     12     7            4     8\n",
              "29595                1    0.999656  2010     10    14            3    10\n",
              "\n",
              "[76879 rows x 7 columns]"
            ]
          },
          "execution_count": 20,
          "metadata": {},
          "output_type": "execute_result"
        }
      ],
      "source": [
        "x_train"
      ]
    },
    {
      "cell_type": "code",
      "execution_count": 21,
      "metadata": {
        "colab": {
          "base_uri": "https://localhost:8080/"
        },
        "id": "Kh0greW4XCWs",
        "outputId": "0ab7b984-51fd-4efb-de17-4ca5f2711414"
      },
      "outputs": [
        {
          "data": {
            "text/plain": [
              "84491     6.00\n",
              "37693     7.50\n",
              "72495    22.00\n",
              "67371    12.00\n",
              "47454    57.33\n",
              "         ...  \n",
              "57589    10.50\n",
              "36361     6.50\n",
              "46715    10.90\n",
              "23809     8.50\n",
              "29595     4.90\n",
              "Name: fare_amount, Length: 76879, dtype: float64"
            ]
          },
          "execution_count": 21,
          "metadata": {},
          "output_type": "execute_result"
        }
      ],
      "source": [
        "y_train"
      ]
    },
    {
      "cell_type": "code",
      "execution_count": 22,
      "metadata": {
        "colab": {
          "base_uri": "https://localhost:8080/",
          "height": 74
        },
        "id": "6LbEzEZEXD81",
        "outputId": "9260318b-0787-468e-f910-f916bd38985b"
      },
      "outputs": [
        {
          "data": {
            "text/html": [
              "<style>#sk-container-id-1 {color: black;background-color: white;}#sk-container-id-1 pre{padding: 0;}#sk-container-id-1 div.sk-toggleable {background-color: white;}#sk-container-id-1 label.sk-toggleable__label {cursor: pointer;display: block;width: 100%;margin-bottom: 0;padding: 0.3em;box-sizing: border-box;text-align: center;}#sk-container-id-1 label.sk-toggleable__label-arrow:before {content: \"▸\";float: left;margin-right: 0.25em;color: #696969;}#sk-container-id-1 label.sk-toggleable__label-arrow:hover:before {color: black;}#sk-container-id-1 div.sk-estimator:hover label.sk-toggleable__label-arrow:before {color: black;}#sk-container-id-1 div.sk-toggleable__content {max-height: 0;max-width: 0;overflow: hidden;text-align: left;background-color: #f0f8ff;}#sk-container-id-1 div.sk-toggleable__content pre {margin: 0.2em;color: black;border-radius: 0.25em;background-color: #f0f8ff;}#sk-container-id-1 input.sk-toggleable__control:checked~div.sk-toggleable__content {max-height: 200px;max-width: 100%;overflow: auto;}#sk-container-id-1 input.sk-toggleable__control:checked~label.sk-toggleable__label-arrow:before {content: \"▾\";}#sk-container-id-1 div.sk-estimator input.sk-toggleable__control:checked~label.sk-toggleable__label {background-color: #d4ebff;}#sk-container-id-1 div.sk-label input.sk-toggleable__control:checked~label.sk-toggleable__label {background-color: #d4ebff;}#sk-container-id-1 input.sk-hidden--visually {border: 0;clip: rect(1px 1px 1px 1px);clip: rect(1px, 1px, 1px, 1px);height: 1px;margin: -1px;overflow: hidden;padding: 0;position: absolute;width: 1px;}#sk-container-id-1 div.sk-estimator {font-family: monospace;background-color: #f0f8ff;border: 1px dotted black;border-radius: 0.25em;box-sizing: border-box;margin-bottom: 0.5em;}#sk-container-id-1 div.sk-estimator:hover {background-color: #d4ebff;}#sk-container-id-1 div.sk-parallel-item::after {content: \"\";width: 100%;border-bottom: 1px solid gray;flex-grow: 1;}#sk-container-id-1 div.sk-label:hover label.sk-toggleable__label {background-color: #d4ebff;}#sk-container-id-1 div.sk-serial::before {content: \"\";position: absolute;border-left: 1px solid gray;box-sizing: border-box;top: 0;bottom: 0;left: 50%;z-index: 0;}#sk-container-id-1 div.sk-serial {display: flex;flex-direction: column;align-items: center;background-color: white;padding-right: 0.2em;padding-left: 0.2em;position: relative;}#sk-container-id-1 div.sk-item {position: relative;z-index: 1;}#sk-container-id-1 div.sk-parallel {display: flex;align-items: stretch;justify-content: center;background-color: white;position: relative;}#sk-container-id-1 div.sk-item::before, #sk-container-id-1 div.sk-parallel-item::before {content: \"\";position: absolute;border-left: 1px solid gray;box-sizing: border-box;top: 0;bottom: 0;left: 50%;z-index: -1;}#sk-container-id-1 div.sk-parallel-item {display: flex;flex-direction: column;z-index: 1;position: relative;background-color: white;}#sk-container-id-1 div.sk-parallel-item:first-child::after {align-self: flex-end;width: 50%;}#sk-container-id-1 div.sk-parallel-item:last-child::after {align-self: flex-start;width: 50%;}#sk-container-id-1 div.sk-parallel-item:only-child::after {width: 0;}#sk-container-id-1 div.sk-dashed-wrapped {border: 1px dashed gray;margin: 0 0.4em 0.5em 0.4em;box-sizing: border-box;padding-bottom: 0.4em;background-color: white;}#sk-container-id-1 div.sk-label label {font-family: monospace;font-weight: bold;display: inline-block;line-height: 1.2em;}#sk-container-id-1 div.sk-label-container {text-align: center;}#sk-container-id-1 div.sk-container {/* jupyter's `normalize.less` sets `[hidden] { display: none; }` but bootstrap.min.css set `[hidden] { display: none !important; }` so we also need the `!important` here to be able to override the default hidden behavior on the sphinx rendered scikit-learn.org. See: https://github.com/scikit-learn/scikit-learn/issues/21755 */display: inline-block !important;position: relative;}#sk-container-id-1 div.sk-text-repr-fallback {display: none;}</style><div id=\"sk-container-id-1\" class=\"sk-top-container\"><div class=\"sk-text-repr-fallback\"><pre>StandardScaler()</pre><b>In a Jupyter environment, please rerun this cell to show the HTML representation or trust the notebook. <br />On GitHub, the HTML representation is unable to render, please try loading this page with nbviewer.org.</b></div><div class=\"sk-container\" hidden><div class=\"sk-item\"><div class=\"sk-estimator sk-toggleable\"><input class=\"sk-toggleable__control sk-hidden--visually\" id=\"sk-estimator-id-1\" type=\"checkbox\" checked><label for=\"sk-estimator-id-1\" class=\"sk-toggleable__label sk-toggleable__label-arrow\">StandardScaler</label><div class=\"sk-toggleable__content\"><pre>StandardScaler()</pre></div></div></div></div></div>"
            ],
            "text/plain": [
              "StandardScaler()"
            ]
          },
          "execution_count": 22,
          "metadata": {},
          "output_type": "execute_result"
        }
      ],
      "source": [
        "from sklearn.preprocessing import StandardScaler\n",
        "\n",
        "scaler = StandardScaler()\n",
        "scaler.fit(x_train)"
      ]
    },
    {
      "cell_type": "code",
      "execution_count": 23,
      "metadata": {
        "id": "Z7WOOSGtXg5C"
      },
      "outputs": [],
      "source": [
        "trainx_scaled = scaler.transform(x_train)\n",
        "testx_scaled = scaler.transform(x_test)"
      ]
    },
    {
      "cell_type": "code",
      "execution_count": 24,
      "metadata": {
        "colab": {
          "base_uri": "https://localhost:8080/"
        },
        "id": "bTi9MiMThwPq",
        "outputId": "d517c343-d825-4805-ef80-982708e58d01"
      },
      "outputs": [
        {
          "data": {
            "text/plain": [
              "((76879, 7), (19220, 7))"
            ]
          },
          "execution_count": 24,
          "metadata": {},
          "output_type": "execute_result"
        }
      ],
      "source": [
        "trainx_scaled.shape, testx_scaled.shape"
      ]
    },
    {
      "cell_type": "code",
      "execution_count": 25,
      "metadata": {
        "id": "BSJXsODCyRct"
      },
      "outputs": [],
      "source": [
        "x_train_scaled = pd.DataFrame(trainx_scaled, columns=x_train.columns)\n",
        "x_test_scaled = pd.DataFrame(testx_scaled, columns = x_test.columns)"
      ]
    },
    {
      "attachments": {},
      "cell_type": "markdown",
      "metadata": {
        "id": "csvZH0cUSKEL"
      },
      "source": [
        "## Creating different ANN models"
      ]
    },
    {
      "attachments": {},
      "cell_type": "markdown",
      "metadata": {
        "id": "7jwcVUNa5eMw"
      },
      "source": [
        "A. Creating a baseline Neural network with the following specifications.\n",
        "2 hidden layers, each with 16 and 8 neurons respectively. Sigmoid activation, Batch Size=128 for Gradient Descent."
      ]
    },
    {
      "cell_type": "code",
      "execution_count": null,
      "metadata": {
        "id": "JcKrTEoPyRaM"
      },
      "outputs": [],
      "source": [
        "hidden_units1 = 16\n",
        "hidden_units2 = 8\n",
        "\n",
        "learning_rate = 0.001\n",
        "\n",
        "# Creating model using the Sequential in tensorflow\n",
        "def build_model_using_sequential():\n",
        "  model = Sequential([\n",
        "    Dense(hidden_units1, kernel_initializer='glorot_uniform', activation='sigmoid'),\n",
        "    Dense(hidden_units2, kernel_initializer='glorot_uniform', activation='sigmoid'),\n",
        "    Dense(1, kernel_initializer='glorot_uniform', activation='linear')\n",
        "  ])\n",
        "  return model\n",
        "\n",
        "# build the model\n",
        "model = build_model_using_sequential()"
      ]
    },
    {
      "cell_type": "code",
      "execution_count": null,
      "metadata": {
        "colab": {
          "base_uri": "https://localhost:8080/"
        },
        "id": "OKKH7nqV0Qnk",
        "outputId": "f37aeb67-1b82-45b0-9e5b-023f602ed803"
      },
      "outputs": [
        {
          "name": "stdout",
          "output_type": "stream",
          "text": [
            "Epoch 1/30\n",
            "2051/2051 - 6s - loss: 52.4649 - mse: 52.4649 - mae: 3.9750 - mape: 38.7093 - val_loss: 23.8250 - val_mse: 23.8250 - val_mae: 2.6001 - val_mape: 23.7965 - 6s/epoch - 3ms/step\n",
            "Epoch 2/30\n",
            "2051/2051 - 3s - loss: 19.0123 - mse: 19.0123 - mae: 2.4658 - mape: 24.2255 - val_loss: 16.9066 - val_mse: 16.9066 - val_mae: 2.4552 - val_mape: 24.8072 - 3s/epoch - 2ms/step\n",
            "Epoch 3/30\n",
            "2051/2051 - 5s - loss: 15.4047 - mse: 15.4047 - mae: 2.3738 - mape: 24.6371 - val_loss: 15.0613 - val_mse: 15.0613 - val_mae: 2.3643 - val_mape: 24.1405 - 5s/epoch - 3ms/step\n",
            "Epoch 4/30\n",
            "2051/2051 - 7s - loss: 14.0812 - mse: 14.0812 - mae: 2.2915 - mape: 23.8590 - val_loss: 14.0298 - val_mse: 14.0298 - val_mae: 2.2989 - val_mape: 23.7144 - 7s/epoch - 4ms/step\n",
            "Epoch 5/30\n",
            "2051/2051 - 6s - loss: 13.2845 - mse: 13.2845 - mae: 2.2148 - mape: 22.7921 - val_loss: 13.3950 - val_mse: 13.3950 - val_mae: 2.2125 - val_mape: 22.2158 - 6s/epoch - 3ms/step\n",
            "Epoch 6/30\n",
            "2051/2051 - 8s - loss: 12.8066 - mse: 12.8066 - mae: 2.1648 - mape: 22.0312 - val_loss: 13.2959 - val_mse: 13.2959 - val_mae: 2.1459 - val_mape: 20.4525 - 8s/epoch - 4ms/step\n",
            "Epoch 7/30\n",
            "2051/2051 - 5s - loss: 12.5432 - mse: 12.5432 - mae: 2.1333 - mape: 21.5492 - val_loss: 12.9429 - val_mse: 12.9429 - val_mae: 2.1666 - val_mape: 21.5085 - 5s/epoch - 3ms/step\n",
            "Epoch 8/30\n",
            "2051/2051 - 5s - loss: 12.3765 - mse: 12.3765 - mae: 2.1109 - mape: 21.1904 - val_loss: 12.7649 - val_mse: 12.7649 - val_mae: 2.1472 - val_mape: 21.2785 - 5s/epoch - 2ms/step\n",
            "Epoch 9/30\n",
            "2051/2051 - 5s - loss: 12.2529 - mse: 12.2529 - mae: 2.0965 - mape: 20.9428 - val_loss: 12.8052 - val_mse: 12.8052 - val_mae: 2.1183 - val_mape: 20.9161 - 5s/epoch - 2ms/step\n",
            "Epoch 10/30\n",
            "2051/2051 - 3s - loss: 12.1453 - mse: 12.1453 - mae: 2.0844 - mape: 20.7751 - val_loss: 12.7327 - val_mse: 12.7327 - val_mae: 2.1400 - val_mape: 20.9692 - 3s/epoch - 1ms/step\n",
            "Epoch 11/30\n",
            "2051/2051 - 3s - loss: 12.0478 - mse: 12.0478 - mae: 2.0746 - mape: 20.6623 - val_loss: 12.3781 - val_mse: 12.3781 - val_mae: 2.0971 - val_mape: 20.5205 - 3s/epoch - 1ms/step\n",
            "Epoch 12/30\n",
            "2051/2051 - 3s - loss: 11.9342 - mse: 11.9342 - mae: 2.0592 - mape: 20.4410 - val_loss: 12.2718 - val_mse: 12.2718 - val_mae: 2.1007 - val_mape: 20.7445 - 3s/epoch - 1ms/step\n",
            "Epoch 13/30\n",
            "2051/2051 - 5s - loss: 11.7766 - mse: 11.7766 - mae: 2.0414 - mape: 20.2909 - val_loss: 12.1045 - val_mse: 12.1045 - val_mae: 2.0610 - val_mape: 20.2716 - 5s/epoch - 2ms/step\n",
            "Epoch 14/30\n",
            "2051/2051 - 3s - loss: 11.6190 - mse: 11.6190 - mae: 2.0202 - mape: 20.0663 - val_loss: 11.9427 - val_mse: 11.9427 - val_mae: 2.0359 - val_mape: 20.0099 - 3s/epoch - 1ms/step\n",
            "Epoch 15/30\n",
            "2051/2051 - 3s - loss: 11.4905 - mse: 11.4905 - mae: 2.0008 - mape: 19.8345 - val_loss: 11.8879 - val_mse: 11.8879 - val_mae: 1.9926 - val_mape: 19.0044 - 3s/epoch - 1ms/step\n",
            "Epoch 16/30\n",
            "2051/2051 - 3s - loss: 11.3968 - mse: 11.3968 - mae: 1.9869 - mape: 19.6285 - val_loss: 11.9435 - val_mse: 11.9435 - val_mae: 2.0051 - val_mape: 19.5544 - 3s/epoch - 1ms/step\n",
            "Epoch 17/30\n",
            "2051/2051 - 4s - loss: 11.3473 - mse: 11.3473 - mae: 1.9785 - mape: 19.4954 - val_loss: 11.7204 - val_mse: 11.7204 - val_mae: 1.9781 - val_mape: 18.9147 - 4s/epoch - 2ms/step\n",
            "Epoch 18/30\n",
            "2051/2051 - 3s - loss: 11.3083 - mse: 11.3083 - mae: 1.9674 - mape: 19.3027 - val_loss: 11.7632 - val_mse: 11.7632 - val_mae: 1.9881 - val_mape: 19.2824 - 3s/epoch - 1ms/step\n",
            "Epoch 19/30\n",
            "2051/2051 - 3s - loss: 11.2773 - mse: 11.2773 - mae: 1.9605 - mape: 19.2231 - val_loss: 11.6801 - val_mse: 11.6801 - val_mae: 2.0032 - val_mape: 19.3515 - 3s/epoch - 1ms/step\n",
            "Epoch 20/30\n",
            "2051/2051 - 3s - loss: 11.2423 - mse: 11.2423 - mae: 1.9579 - mape: 19.1285 - val_loss: 11.7099 - val_mse: 11.7099 - val_mae: 1.9535 - val_mape: 18.4603 - 3s/epoch - 2ms/step\n",
            "Epoch 21/30\n",
            "2051/2051 - 4s - loss: 11.2135 - mse: 11.2135 - mae: 1.9512 - mape: 19.0118 - val_loss: 11.5718 - val_mse: 11.5718 - val_mae: 1.9800 - val_mape: 19.2058 - 4s/epoch - 2ms/step\n",
            "Epoch 22/30\n",
            "2051/2051 - 4s - loss: 11.2005 - mse: 11.2005 - mae: 1.9464 - mape: 18.9493 - val_loss: 11.5830 - val_mse: 11.5830 - val_mae: 1.9762 - val_mape: 19.0190 - 4s/epoch - 2ms/step\n",
            "Epoch 23/30\n",
            "2051/2051 - 3s - loss: 11.1828 - mse: 11.1828 - mae: 1.9471 - mape: 18.9231 - val_loss: 11.5738 - val_mse: 11.5738 - val_mae: 1.9436 - val_mape: 18.1387 - 3s/epoch - 2ms/step\n",
            "Epoch 24/30\n",
            "2051/2051 - 3s - loss: 11.1853 - mse: 11.1853 - mae: 1.9433 - mape: 18.8336 - val_loss: 11.5568 - val_mse: 11.5568 - val_mae: 1.9543 - val_mape: 18.5798 - 3s/epoch - 1ms/step\n",
            "Epoch 25/30\n",
            "2051/2051 - 4s - loss: 11.1495 - mse: 11.1495 - mae: 1.9406 - mape: 18.7976 - val_loss: 11.5579 - val_mse: 11.5579 - val_mae: 1.9443 - val_mape: 18.3373 - 4s/epoch - 2ms/step\n",
            "Epoch 26/30\n",
            "2051/2051 - 3s - loss: 11.1604 - mse: 11.1604 - mae: 1.9364 - mape: 18.7392 - val_loss: 11.5694 - val_mse: 11.5694 - val_mae: 1.9913 - val_mape: 19.2856 - 3s/epoch - 2ms/step\n",
            "Epoch 27/30\n",
            "2051/2051 - 3s - loss: 11.1347 - mse: 11.1347 - mae: 1.9365 - mape: 18.7114 - val_loss: 11.5522 - val_mse: 11.5522 - val_mae: 1.9584 - val_mape: 18.6676 - 3s/epoch - 1ms/step\n",
            "Epoch 28/30\n",
            "2051/2051 - 3s - loss: 11.1313 - mse: 11.1313 - mae: 1.9331 - mape: 18.6793 - val_loss: 11.5572 - val_mse: 11.5572 - val_mae: 1.9427 - val_mape: 18.2418 - 3s/epoch - 1ms/step\n",
            "Epoch 29/30\n",
            "2051/2051 - 4s - loss: 11.1160 - mse: 11.1160 - mae: 1.9322 - mape: 18.6285 - val_loss: 11.6224 - val_mse: 11.6224 - val_mae: 1.9477 - val_mape: 18.2005 - 4s/epoch - 2ms/step\n",
            "Epoch 30/30\n",
            "2051/2051 - 4s - loss: 11.1148 - mse: 11.1148 - mae: 1.9310 - mape: 18.6179 - val_loss: 11.5483 - val_mse: 11.5483 - val_mae: 1.9543 - val_mape: 18.6910 - 4s/epoch - 2ms/step\n"
          ]
        }
      ],
      "source": [
        "# loss function\n",
        "msle = MeanSquaredLogarithmicError()\n",
        "model.compile(\n",
        "    loss=['mse','mae','mape'],\n",
        "    optimizer=SGD(learning_rate=learning_rate),\n",
        "    metrics=['mse','mae','mape']\n",
        "  )\n",
        "\n",
        "# train the model\n",
        "history = model.fit(\n",
        "    x_train_scaled.values,\n",
        "    y_train.values,\n",
        "    epochs=30,\n",
        "    batch_size=30,\n",
        "    validation_split=0.2,\n",
        "    verbose=2\n",
        ")"
      ]
    },
    {
      "cell_type": "code",
      "execution_count": null,
      "metadata": {
        "colab": {
          "base_uri": "https://localhost:8080/"
        },
        "id": "HfmFz5INUJQv",
        "outputId": "eb3b024c-96c7-4bd6-9ee9-e1d3c61ef57e"
      },
      "outputs": [
        {
          "data": {
            "text/plain": [
              "dict_keys(['loss', 'mse', 'mae', 'mape', 'val_loss', 'val_mse', 'val_mae', 'val_mape'])"
            ]
          },
          "execution_count": 28,
          "metadata": {},
          "output_type": "execute_result"
        }
      ],
      "source": [
        "history.history.keys()"
      ]
    },
    {
      "cell_type": "code",
      "execution_count": null,
      "metadata": {
        "colab": {
          "base_uri": "https://localhost:8080/",
          "height": 449
        },
        "id": "sRiaUM_10UbK",
        "outputId": "b271bdce-7657-4aec-ec83-383768dd65d1"
      },
      "outputs": [
        {
          "data": {
            "image/png": "[encoded data removed]",
            "text/plain": [
              "<Figure size 640x480 with 1 Axes>"
            ]
          },
          "metadata": {},
          "output_type": "display_data"
        }
      ],
      "source": [
        "plot_history(history, 'loss')"
      ]
    },
    {
      "cell_type": "code",
      "execution_count": null,
      "metadata": {
        "colab": {
          "base_uri": "https://localhost:8080/",
          "height": 449
        },
        "id": "C7kBGl7QU7OW",
        "outputId": "e6de981f-19d1-4b1c-c77a-5e5ed0444de8"
      },
      "outputs": [
        {
          "data": {
            "image/png": "[encoded data removed]",
            "text/plain": [
              "<Figure size 640x480 with 1 Axes>"
            ]
          },
          "metadata": {},
          "output_type": "display_data"
        }
      ],
      "source": [
        "plot_history2(history)"
      ]
    },
    {
      "cell_type": "code",
      "execution_count": null,
      "metadata": {
        "colab": {
          "base_uri": "https://localhost:8080/"
        },
        "id": "jRoMhD0f0cm9",
        "outputId": "121fef84-bed4-4f7d-a985-d3bcfb5ffaf2"
      },
      "outputs": [
        {
          "name": "stdout",
          "output_type": "stream",
          "text": [
            "601/601 [==============================] - 1s 1ms/step\n"
          ]
        }
      ],
      "source": [
        "y_pred = model.predict(x_test_scaled)"
      ]
    },
    {
      "cell_type": "code",
      "execution_count": null,
      "metadata": {
        "colab": {
          "base_uri": "https://localhost:8080/"
        },
        "id": "RwRbCepe00m_",
        "outputId": "74b36a86-15c7-439d-fe18-73e6ae353a45"
      },
      "outputs": [
        {
          "data": {
            "text/plain": [
              "11.825315078649071"
            ]
          },
          "execution_count": 32,
          "metadata": {},
          "output_type": "execute_result"
        }
      ],
      "source": [
        "# Calculation of Mean Squared Error (MSE)\n",
        "mean_squared_error(y_test,y_pred)"
      ]
    },
    {
      "cell_type": "code",
      "execution_count": null,
      "metadata": {
        "colab": {
          "base_uri": "https://localhost:8080/",
          "height": 424
        },
        "id": "yade9LqCVwgO",
        "outputId": "ef2367ab-2853-444d-f732-da7db4003cef"
      },
      "outputs": [
        {
          "data": {
            "text/html": [
              "\n",
              "  <div id=\"df-6c1344eb-e623-4f37-ab91-e2f356b2cd8f\">\n",
              "    <div class=\"colab-df-container\">\n",
              "      <div>\n",
              "<style scoped>\n",
              "    .dataframe tbody tr th:only-of-type {\n",
              "        vertical-align: middle;\n",
              "    }\n",
              "\n",
              "    .dataframe tbody tr th {\n",
              "        vertical-align: top;\n",
              "    }\n",
              "\n",
              "    .dataframe thead th {\n",
              "        text-align: right;\n",
              "    }\n",
              "</style>\n",
              "<table border=\"1\" class=\"dataframe\">\n",
              "  <thead>\n",
              "    <tr style=\"text-align: right;\">\n",
              "      <th></th>\n",
              "      <th>Actual</th>\n",
              "      <th>Pred</th>\n",
              "    </tr>\n",
              "  </thead>\n",
              "  <tbody>\n",
              "    <tr>\n",
              "      <th>55008</th>\n",
              "      <td>4.1</td>\n",
              "      <td>5.260466</td>\n",
              "    </tr>\n",
              "    <tr>\n",
              "      <th>27242</th>\n",
              "      <td>16.1</td>\n",
              "      <td>12.744884</td>\n",
              "    </tr>\n",
              "    <tr>\n",
              "      <th>67064</th>\n",
              "      <td>3.5</td>\n",
              "      <td>5.154792</td>\n",
              "    </tr>\n",
              "    <tr>\n",
              "      <th>61647</th>\n",
              "      <td>6.5</td>\n",
              "      <td>6.491981</td>\n",
              "    </tr>\n",
              "    <tr>\n",
              "      <th>94673</th>\n",
              "      <td>34.0</td>\n",
              "      <td>25.080276</td>\n",
              "    </tr>\n",
              "    <tr>\n",
              "      <th>...</th>\n",
              "      <td>...</td>\n",
              "      <td>...</td>\n",
              "    </tr>\n",
              "    <tr>\n",
              "      <th>616</th>\n",
              "      <td>16.5</td>\n",
              "      <td>17.175287</td>\n",
              "    </tr>\n",
              "    <tr>\n",
              "      <th>82545</th>\n",
              "      <td>4.9</td>\n",
              "      <td>6.152103</td>\n",
              "    </tr>\n",
              "    <tr>\n",
              "      <th>26030</th>\n",
              "      <td>2.9</td>\n",
              "      <td>4.839193</td>\n",
              "    </tr>\n",
              "    <tr>\n",
              "      <th>19567</th>\n",
              "      <td>5.3</td>\n",
              "      <td>7.211738</td>\n",
              "    </tr>\n",
              "    <tr>\n",
              "      <th>15142</th>\n",
              "      <td>9.5</td>\n",
              "      <td>7.462814</td>\n",
              "    </tr>\n",
              "  </tbody>\n",
              "</table>\n",
              "<p>19220 rows × 2 columns</p>\n",
              "</div>\n",
              "      <button class=\"colab-df-convert\" onclick=\"convertToInteractive('df-6c1344eb-e623-4f37-ab91-e2f356b2cd8f')\"\n",
              "              title=\"Convert this dataframe to an interactive table.\"\n",
              "              style=\"display:none;\">\n",
              "        \n",
              "  <svg xmlns=\"http://www.w3.org/2000/svg\" height=\"24px\"viewBox=\"0 0 24 24\"\n",
              "       width=\"24px\">\n",
              "    <path d=\"M0 0h24v24H0V0z\" fill=\"none\"/>\n",
              "    <path d=\"M18.56 5.44l.94 2.06.94-2.06 2.06-.94-2.06-.94-.94-2.06-.94 2.06-2.06.94zm-11 1L8.5 8.5l.94-2.06 2.06-.94-2.06-.94L8.5 2.5l-.94 2.06-2.06.94zm10 10l.94 2.06.94-2.06 2.06-.94-2.06-.94-.94-2.06-.94 2.06-2.06.94z\"/><path d=\"M17.41 7.96l-1.37-1.37c-.4-.4-.92-.59-1.43-.59-.52 0-1.04.2-1.43.59L10.3 9.45l-7.72 7.72c-.78.78-.78 2.05 0 2.83L4 21.41c.39.39.9.59 1.41.59.51 0 1.02-.2 1.41-.59l7.78-7.78 2.81-2.81c.8-.78.8-2.07 0-2.86zM5.41 20L4 18.59l7.72-7.72 1.47 1.35L5.41 20z\"/>\n",
              "  </svg>\n",
              "      </button>\n",
              "      \n",
              "  <style>\n",
              "    .colab-df-container {\n",
              "      display:flex;\n",
              "      flex-wrap:wrap;\n",
              "      gap: 12px;\n",
              "    }\n",
              "\n",
              "    .colab-df-convert {\n",
              "      background-color: #E8F0FE;\n",
              "      border: none;\n",
              "      border-radius: 50%;\n",
              "      cursor: pointer;\n",
              "      display: none;\n",
              "      fill: #1967D2;\n",
              "      height: 32px;\n",
              "      padding: 0 0 0 0;\n",
              "      width: 32px;\n",
              "    }\n",
              "\n",
              "    .colab-df-convert:hover {\n",
              "      background-color: #E2EBFA;\n",
              "      box-shadow: 0px 1px 2px rgba(60, 64, 67, 0.3), 0px 1px 3px 1px rgba(60, 64, 67, 0.15);\n",
              "      fill: #174EA6;\n",
              "    }\n",
              "\n",
              "    [theme=dark] .colab-df-convert {\n",
              "      background-color: #3B4455;\n",
              "      fill: #D2E3FC;\n",
              "    }\n",
              "\n",
              "    [theme=dark] .colab-df-convert:hover {\n",
              "      background-color: #434B5C;\n",
              "      box-shadow: 0px 1px 3px 1px rgba(0, 0, 0, 0.15);\n",
              "      filter: drop-shadow(0px 1px 2px rgba(0, 0, 0, 0.3));\n",
              "      fill: #FFFFFF;\n",
              "    }\n",
              "  </style>\n",
              "\n",
              "      <script>\n",
              "        const buttonEl =\n",
              "          document.querySelector('#df-6c1344eb-e623-4f37-ab91-e2f356b2cd8f button.colab-df-convert');\n",
              "        buttonEl.style.display =\n",
              "          google.colab.kernel.accessAllowed ? 'block' : 'none';\n",
              "\n",
              "        async function convertToInteractive(key) {\n",
              "          const element = document.querySelector('#df-6c1344eb-e623-4f37-ab91-e2f356b2cd8f');\n",
              "          const dataTable =\n",
              "            await google.colab.kernel.invokeFunction('convertToInteractive',\n",
              "                                                     [key], {});\n",
              "          if (!dataTable) return;\n",
              "\n",
              "          const docLinkHtml = 'Like what you see? Visit the ' +\n",
              "            '<a target=\"_blank\" href=https://colab.research.google.com/notebooks/data_table.ipynb>data table notebook</a>'\n",
              "            + ' to learn more about interactive tables.';\n",
              "          element.innerHTML = '';\n",
              "          dataTable['output_type'] = 'display_data';\n",
              "          await google.colab.output.renderOutput(dataTable, element);\n",
              "          const docLink = document.createElement('div');\n",
              "          docLink.innerHTML = docLinkHtml;\n",
              "          element.appendChild(docLink);\n",
              "        }\n",
              "      </script>\n",
              "    </div>\n",
              "  </div>\n",
              "  "
            ],
            "text/plain": [
              "       Actual       Pred\n",
              "55008     4.1   5.260466\n",
              "27242    16.1  12.744884\n",
              "67064     3.5   5.154792\n",
              "61647     6.5   6.491981\n",
              "94673    34.0  25.080276\n",
              "...       ...        ...\n",
              "616      16.5  17.175287\n",
              "82545     4.9   6.152103\n",
              "26030     2.9   4.839193\n",
              "19567     5.3   7.211738\n",
              "15142     9.5   7.462814\n",
              "\n",
              "[19220 rows x 2 columns]"
            ]
          },
          "execution_count": 33,
          "metadata": {},
          "output_type": "execute_result"
        }
      ],
      "source": [
        "df = pd.DataFrame()\n",
        "df['Actual'] = y_test\n",
        "df['Pred'] =  y_pred\n",
        "df"
      ]
    },
    {
      "attachments": {},
      "cell_type": "markdown",
      "metadata": {
        "id": "2L5U4-rv5jKg"
      },
      "source": [
        "B. Experiment with number of layers and neurons per layer to increase the performance metrics."
      ]
    },
    {
      "attachments": {},
      "cell_type": "markdown",
      "metadata": {
        "id": "d2m370AYl5cE"
      },
      "source": [
        "Too much no of nodes can lead to inaccurate models"
      ]
    },
    {
      "cell_type": "code",
      "execution_count": null,
      "metadata": {
        "colab": {
          "base_uri": "https://localhost:8080/",
          "height": 1000
        },
        "id": "h_IV95o02x9x",
        "outputId": "8112d60e-e854-428a-e463-61f0f1db5d38"
      },
      "outputs": [
        {
          "name": "stdout",
          "output_type": "stream",
          "text": [
            "Epoch 1/80\n",
            "481/481 - 5s - loss: 95.8048 - mse: 95.8048 - mae: 6.0256 - mape: 57.7654 - val_loss: 83.6778 - val_mse: 83.6778 - val_mae: 5.7964 - val_mape: 62.4459 - 5s/epoch - 10ms/step\n",
            "Epoch 2/80\n",
            "481/481 - 2s - loss: 80.9896 - mse: 80.9896 - mae: 5.6926 - mape: 62.0875 - val_loss: 81.1874 - val_mse: 81.1874 - val_mae: 5.6979 - val_mape: 61.3674 - 2s/epoch - 3ms/step\n",
            "Epoch 3/80\n",
            "481/481 - 1s - loss: 74.6370 - mse: 74.6370 - mae: 5.3687 - mape: 57.8220 - val_loss: 67.5173 - val_mse: 67.5173 - val_mae: 4.9914 - val_mape: 52.3490 - 1s/epoch - 2ms/step\n",
            "Epoch 4/80\n",
            "481/481 - 1s - loss: 50.4412 - mse: 50.4412 - mae: 3.9841 - mape: 40.8864 - val_loss: 37.6484 - val_mse: 37.6484 - val_mae: 3.1824 - val_mape: 30.3785 - 1s/epoch - 2ms/step\n",
            "Epoch 5/80\n",
            "481/481 - 1s - loss: 30.7930 - mse: 30.7930 - mae: 2.8694 - mape: 27.5128 - val_loss: 27.3886 - val_mse: 27.3886 - val_mae: 2.7765 - val_mape: 26.1810 - 1s/epoch - 2ms/step\n",
            "Epoch 6/80\n",
            "481/481 - 1s - loss: 24.7256 - mse: 24.7256 - mae: 2.7045 - mape: 26.5514 - val_loss: 23.4363 - val_mse: 23.4363 - val_mae: 2.6994 - val_mape: 26.4451 - 1s/epoch - 2ms/step\n",
            "Epoch 7/80\n",
            "481/481 - 1s - loss: 21.7737 - mse: 21.7737 - mae: 2.6574 - mape: 27.0738 - val_loss: 21.1533 - val_mse: 21.1533 - val_mae: 2.6665 - val_mape: 27.0922 - 1s/epoch - 2ms/step\n",
            "Epoch 8/80\n",
            "481/481 - 1s - loss: 19.9015 - mse: 19.9015 - mae: 2.6155 - mape: 27.2657 - val_loss: 19.6247 - val_mse: 19.6247 - val_mae: 2.6448 - val_mape: 27.5775 - 1s/epoch - 2ms/step\n",
            "Epoch 9/80\n",
            "481/481 - 1s - loss: 18.5704 - mse: 18.5704 - mae: 2.5639 - mape: 26.9205 - val_loss: 18.4657 - val_mse: 18.4657 - val_mae: 2.5834 - val_mape: 26.8754 - 1s/epoch - 3ms/step\n",
            "Epoch 10/80\n",
            "481/481 - 1s - loss: 17.5656 - mse: 17.5656 - mae: 2.5189 - mape: 26.5629 - val_loss: 17.5826 - val_mse: 17.5826 - val_mae: 2.5336 - val_mape: 26.2583 - 1s/epoch - 3ms/step\n",
            "Epoch 11/80\n",
            "481/481 - 1s - loss: 16.7497 - mse: 16.7497 - mae: 2.4767 - mape: 26.1580 - val_loss: 16.8536 - val_mse: 16.8536 - val_mae: 2.4893 - val_mape: 25.8136 - 1s/epoch - 3ms/step\n",
            "Epoch 12/80\n",
            "481/481 - 1s - loss: 16.0662 - mse: 16.0662 - mae: 2.4345 - mape: 25.7134 - val_loss: 16.2197 - val_mse: 16.2197 - val_mae: 2.4512 - val_mape: 25.4367 - 844ms/epoch - 2ms/step\n",
            "Epoch 13/80\n",
            "481/481 - 1s - loss: 15.4757 - mse: 15.4757 - mae: 2.3956 - mape: 25.2939 - val_loss: 15.6951 - val_mse: 15.6951 - val_mae: 2.4293 - val_mape: 25.4127 - 867ms/epoch - 2ms/step\n",
            "Epoch 14/80\n",
            "481/481 - 1s - loss: 14.9770 - mse: 14.9770 - mae: 2.3576 - mape: 24.8224 - val_loss: 15.2392 - val_mse: 15.2392 - val_mae: 2.3578 - val_mape: 23.9204 - 861ms/epoch - 2ms/step\n",
            "Epoch 15/80\n",
            "481/481 - 1s - loss: 14.5373 - mse: 14.5373 - mae: 2.3213 - mape: 24.3263 - val_loss: 14.8347 - val_mse: 14.8347 - val_mae: 2.3706 - val_mape: 24.7821 - 849ms/epoch - 2ms/step\n",
            "Epoch 16/80\n",
            "481/481 - 1s - loss: 14.1554 - mse: 14.1554 - mae: 2.2893 - mape: 23.9253 - val_loss: 14.4459 - val_mse: 14.4459 - val_mae: 2.3059 - val_mape: 23.5139 - 861ms/epoch - 2ms/step\n",
            "Epoch 17/80\n",
            "481/481 - 1s - loss: 13.8231 - mse: 13.8231 - mae: 2.2574 - mape: 23.4605 - val_loss: 14.1463 - val_mse: 14.1463 - val_mae: 2.2659 - val_mape: 22.8869 - 855ms/epoch - 2ms/step\n",
            "Epoch 18/80\n",
            "481/481 - 1s - loss: 13.5340 - mse: 13.5340 - mae: 2.2298 - mape: 23.1004 - val_loss: 13.8677 - val_mse: 13.8677 - val_mae: 2.2740 - val_mape: 23.4736 - 862ms/epoch - 2ms/step\n",
            "Epoch 19/80\n",
            "481/481 - 1s - loss: 13.2877 - mse: 13.2877 - mae: 2.2065 - mape: 22.7704 - val_loss: 13.6460 - val_mse: 13.6460 - val_mae: 2.2170 - val_mape: 22.1758 - 873ms/epoch - 2ms/step\n",
            "Epoch 20/80\n",
            "481/481 - 1s - loss: 13.0687 - mse: 13.0687 - mae: 2.1837 - mape: 22.3964 - val_loss: 13.4284 - val_mse: 13.4284 - val_mae: 2.2111 - val_mape: 22.3199 - 863ms/epoch - 2ms/step\n",
            "Epoch 21/80\n",
            "481/481 - 1s - loss: 12.8737 - mse: 12.8737 - mae: 2.1629 - mape: 22.0968 - val_loss: 13.2591 - val_mse: 13.2591 - val_mae: 2.1982 - val_mape: 22.2429 - 853ms/epoch - 2ms/step\n",
            "Epoch 22/80\n",
            "481/481 - 1s - loss: 12.7047 - mse: 12.7047 - mae: 2.1480 - mape: 21.8977 - val_loss: 13.2039 - val_mse: 13.2039 - val_mae: 2.1476 - val_mape: 21.0654 - 1s/epoch - 2ms/step\n",
            "Epoch 23/80\n",
            "481/481 - 1s - loss: 12.5688 - mse: 12.5688 - mae: 2.1311 - mape: 21.6385 - val_loss: 12.9791 - val_mse: 12.9791 - val_mae: 2.1545 - val_mape: 21.5162 - 1s/epoch - 3ms/step\n",
            "Epoch 24/80\n",
            "481/481 - 1s - loss: 12.4407 - mse: 12.4407 - mae: 2.1177 - mape: 21.4483 - val_loss: 12.8480 - val_mse: 12.8480 - val_mae: 2.1615 - val_mape: 21.7768 - 1s/epoch - 3ms/step\n",
            "Epoch 25/80\n",
            "481/481 - 1s - loss: 12.3259 - mse: 12.3259 - mae: 2.1058 - mape: 21.2783 - val_loss: 12.7896 - val_mse: 12.7896 - val_mae: 2.1086 - val_mape: 20.5892 - 1s/epoch - 3ms/step\n",
            "Epoch 26/80\n",
            "481/481 - 1s - loss: 12.2336 - mse: 12.2336 - mae: 2.0935 - mape: 21.0995 - val_loss: 12.6886 - val_mse: 12.6886 - val_mae: 2.1261 - val_mape: 20.9885 - 1s/epoch - 2ms/step\n",
            "Epoch 27/80\n",
            "481/481 - 1s - loss: 12.1505 - mse: 12.1505 - mae: 2.0826 - mape: 20.9466 - val_loss: 12.5775 - val_mse: 12.5775 - val_mae: 2.1297 - val_mape: 21.3126 - 858ms/epoch - 2ms/step\n",
            "Epoch 28/80\n",
            "481/481 - 1s - loss: 12.0727 - mse: 12.0727 - mae: 2.0736 - mape: 20.8272 - val_loss: 12.4907 - val_mse: 12.4907 - val_mae: 2.1101 - val_mape: 21.0307 - 1s/epoch - 2ms/step\n",
            "Epoch 29/80\n",
            "481/481 - 1s - loss: 11.9994 - mse: 11.9994 - mae: 2.0654 - mape: 20.7410 - val_loss: 12.4237 - val_mse: 12.4237 - val_mae: 2.0921 - val_mape: 20.6947 - 832ms/epoch - 2ms/step\n",
            "Epoch 30/80\n",
            "481/481 - 1s - loss: 11.9430 - mse: 11.9430 - mae: 2.0563 - mape: 20.6036 - val_loss: 12.3796 - val_mse: 12.3796 - val_mae: 2.1216 - val_mape: 21.3860 - 882ms/epoch - 2ms/step\n",
            "Epoch 31/80\n",
            "481/481 - 1s - loss: 11.8851 - mse: 11.8851 - mae: 2.0520 - mape: 20.5444 - val_loss: 12.3075 - val_mse: 12.3075 - val_mae: 2.0870 - val_mape: 20.6645 - 862ms/epoch - 2ms/step\n",
            "Epoch 32/80\n",
            "481/481 - 1s - loss: 11.8313 - mse: 11.8313 - mae: 2.0445 - mape: 20.4431 - val_loss: 12.2666 - val_mse: 12.2666 - val_mae: 2.0664 - val_mape: 20.2876 - 1s/epoch - 2ms/step\n",
            "Epoch 33/80\n",
            "481/481 - 1s - loss: 11.7941 - mse: 11.7941 - mae: 2.0394 - mape: 20.3573 - val_loss: 12.2693 - val_mse: 12.2693 - val_mae: 2.0440 - val_mape: 19.7229 - 897ms/epoch - 2ms/step\n",
            "Epoch 34/80\n",
            "481/481 - 1s - loss: 11.7484 - mse: 11.7484 - mae: 2.0334 - mape: 20.3008 - val_loss: 12.2660 - val_mse: 12.2660 - val_mae: 2.0571 - val_mape: 19.8333 - 849ms/epoch - 2ms/step\n",
            "Epoch 35/80\n",
            "481/481 - 1s - loss: 11.7137 - mse: 11.7137 - mae: 2.0288 - mape: 20.2058 - val_loss: 12.1673 - val_mse: 12.1673 - val_mae: 2.0657 - val_mape: 20.2825 - 865ms/epoch - 2ms/step\n",
            "Epoch 36/80\n",
            "481/481 - 1s - loss: 11.6777 - mse: 11.6777 - mae: 2.0248 - mape: 20.1570 - val_loss: 12.1207 - val_mse: 12.1207 - val_mae: 2.0477 - val_mape: 19.9248 - 997ms/epoch - 2ms/step\n",
            "Epoch 37/80\n",
            "481/481 - 1s - loss: 11.6509 - mse: 11.6509 - mae: 2.0198 - mape: 20.0829 - val_loss: 12.0790 - val_mse: 12.0790 - val_mae: 2.0728 - val_mape: 20.6286 - 1s/epoch - 3ms/step\n",
            "Epoch 38/80\n",
            "481/481 - 1s - loss: 11.6049 - mse: 11.6049 - mae: 2.0165 - mape: 20.0416 - val_loss: 12.0636 - val_mse: 12.0636 - val_mae: 2.0382 - val_mape: 19.8119 - 1s/epoch - 2ms/step\n",
            "Epoch 39/80\n",
            "481/481 - 1s - loss: 11.5896 - mse: 11.5896 - mae: 2.0130 - mape: 19.9899 - val_loss: 12.0249 - val_mse: 12.0249 - val_mae: 2.0306 - val_mape: 19.7107 - 1s/epoch - 3ms/step\n",
            "Epoch 40/80\n",
            "481/481 - 1s - loss: 11.5600 - mse: 11.5600 - mae: 2.0092 - mape: 19.9108 - val_loss: 12.0261 - val_mse: 12.0261 - val_mae: 2.0202 - val_mape: 19.4365 - 1s/epoch - 3ms/step\n",
            "Epoch 41/80\n",
            "481/481 - 1s - loss: 11.5418 - mse: 11.5418 - mae: 2.0059 - mape: 19.8765 - val_loss: 11.9913 - val_mse: 11.9913 - val_mae: 2.0502 - val_mape: 20.1069 - 837ms/epoch - 2ms/step\n",
            "Epoch 42/80\n",
            "481/481 - 1s - loss: 11.5234 - mse: 11.5234 - mae: 2.0030 - mape: 19.8204 - val_loss: 11.9742 - val_mse: 11.9742 - val_mae: 2.0172 - val_mape: 19.5221 - 1s/epoch - 2ms/step\n",
            "Epoch 43/80\n",
            "481/481 - 1s - loss: 11.5002 - mse: 11.5002 - mae: 2.0001 - mape: 19.7811 - val_loss: 12.0600 - val_mse: 12.0600 - val_mae: 2.0910 - val_mape: 20.8942 - 866ms/epoch - 2ms/step\n",
            "Epoch 44/80\n",
            "481/481 - 1s - loss: 11.4786 - mse: 11.4786 - mae: 1.9981 - mape: 19.7500 - val_loss: 11.9232 - val_mse: 11.9232 - val_mae: 2.0217 - val_mape: 19.6694 - 855ms/epoch - 2ms/step\n",
            "Epoch 45/80\n",
            "481/481 - 1s - loss: 11.4675 - mse: 11.4675 - mae: 1.9944 - mape: 19.6782 - val_loss: 11.9217 - val_mse: 11.9217 - val_mae: 2.0053 - val_mape: 19.2843 - 1s/epoch - 2ms/step\n",
            "Epoch 46/80\n",
            "481/481 - 1s - loss: 11.4461 - mse: 11.4461 - mae: 1.9918 - mape: 19.6424 - val_loss: 11.9120 - val_mse: 11.9120 - val_mae: 2.0226 - val_mape: 19.6023 - 1s/epoch - 2ms/step\n",
            "Epoch 47/80\n",
            "481/481 - 1s - loss: 11.4368 - mse: 11.4368 - mae: 1.9893 - mape: 19.6090 - val_loss: 11.8965 - val_mse: 11.8965 - val_mae: 2.0096 - val_mape: 19.5017 - 868ms/epoch - 2ms/step\n",
            "Epoch 48/80\n",
            "481/481 - 1s - loss: 11.4176 - mse: 11.4176 - mae: 1.9881 - mape: 19.5972 - val_loss: 11.9044 - val_mse: 11.9044 - val_mae: 2.0331 - val_mape: 19.7266 - 1s/epoch - 2ms/step\n",
            "Epoch 49/80\n",
            "481/481 - 1s - loss: 11.3974 - mse: 11.3974 - mae: 1.9842 - mape: 19.5296 - val_loss: 11.8731 - val_mse: 11.8731 - val_mae: 2.0006 - val_mape: 19.2672 - 1s/epoch - 2ms/step\n",
            "Epoch 50/80\n",
            "481/481 - 1s - loss: 11.3944 - mse: 11.3944 - mae: 1.9826 - mape: 19.5044 - val_loss: 11.8289 - val_mse: 11.8289 - val_mae: 2.0092 - val_mape: 19.4048 - 865ms/epoch - 2ms/step\n",
            "Epoch 51/80\n",
            "481/481 - 1s - loss: 11.3780 - mse: 11.3780 - mae: 1.9799 - mape: 19.4564 - val_loss: 11.9202 - val_mse: 11.9202 - val_mae: 2.0519 - val_mape: 20.1471 - 1s/epoch - 2ms/step\n",
            "Epoch 52/80\n",
            "481/481 - 1s - loss: 11.3741 - mse: 11.3741 - mae: 1.9788 - mape: 19.4407 - val_loss: 11.8070 - val_mse: 11.8070 - val_mae: 2.0072 - val_mape: 19.4150 - 1s/epoch - 3ms/step\n",
            "Epoch 53/80\n",
            "481/481 - 1s - loss: 11.3486 - mse: 11.3486 - mae: 1.9762 - mape: 19.4095 - val_loss: 11.8008 - val_mse: 11.8008 - val_mae: 2.0068 - val_mape: 19.4730 - 1s/epoch - 2ms/step\n",
            "Epoch 54/80\n",
            "481/481 - 1s - loss: 11.3467 - mse: 11.3467 - mae: 1.9753 - mape: 19.3587 - val_loss: 11.7934 - val_mse: 11.7934 - val_mae: 2.0152 - val_mape: 19.6878 - 1s/epoch - 2ms/step\n",
            "Epoch 55/80\n",
            "481/481 - 1s - loss: 11.3338 - mse: 11.3338 - mae: 1.9734 - mape: 19.3671 - val_loss: 11.7995 - val_mse: 11.7995 - val_mae: 2.0275 - val_mape: 19.7962 - 860ms/epoch - 2ms/step\n",
            "Epoch 56/80\n",
            "481/481 - 1s - loss: 11.3212 - mse: 11.3212 - mae: 1.9709 - mape: 19.3122 - val_loss: 11.7703 - val_mse: 11.7703 - val_mae: 2.0040 - val_mape: 19.4626 - 1s/epoch - 2ms/step\n",
            "Epoch 57/80\n",
            "481/481 - 1s - loss: 11.3104 - mse: 11.3104 - mae: 1.9688 - mape: 19.2847 - val_loss: 11.7659 - val_mse: 11.7659 - val_mae: 2.0133 - val_mape: 19.7018 - 1s/epoch - 2ms/step\n",
            "Epoch 58/80\n",
            "481/481 - 1s - loss: 11.3138 - mse: 11.3138 - mae: 1.9686 - mape: 19.2762 - val_loss: 11.7503 - val_mse: 11.7503 - val_mae: 2.0042 - val_mape: 19.4333 - 868ms/epoch - 2ms/step\n",
            "Epoch 59/80\n",
            "481/481 - 1s - loss: 11.2948 - mse: 11.2948 - mae: 1.9666 - mape: 19.2582 - val_loss: 11.7535 - val_mse: 11.7535 - val_mae: 1.9965 - val_mape: 19.1437 - 852ms/epoch - 2ms/step\n",
            "Epoch 60/80\n",
            "481/481 - 1s - loss: 11.2860 - mse: 11.2860 - mae: 1.9654 - mape: 19.2212 - val_loss: 11.7706 - val_mse: 11.7706 - val_mae: 2.0105 - val_mape: 19.4388 - 850ms/epoch - 2ms/step\n",
            "Epoch 61/80\n",
            "481/481 - 1s - loss: 11.2807 - mse: 11.2807 - mae: 1.9641 - mape: 19.2090 - val_loss: 11.7536 - val_mse: 11.7536 - val_mae: 1.9754 - val_mape: 18.7029 - 991ms/epoch - 2ms/step\n",
            "Epoch 62/80\n",
            "481/481 - 1s - loss: 11.2692 - mse: 11.2692 - mae: 1.9628 - mape: 19.1840 - val_loss: 11.7432 - val_mse: 11.7432 - val_mae: 1.9943 - val_mape: 19.1097 - 987ms/epoch - 2ms/step\n",
            "Epoch 63/80\n",
            "481/481 - 1s - loss: 11.2511 - mse: 11.2511 - mae: 1.9604 - mape: 19.1387 - val_loss: 11.7293 - val_mse: 11.7293 - val_mae: 2.0024 - val_mape: 19.3259 - 899ms/epoch - 2ms/step\n",
            "Epoch 64/80\n",
            "481/481 - 1s - loss: 11.2568 - mse: 11.2568 - mae: 1.9602 - mape: 19.1476 - val_loss: 11.7147 - val_mse: 11.7147 - val_mae: 1.9894 - val_mape: 19.0268 - 851ms/epoch - 2ms/step\n",
            "Epoch 65/80\n",
            "481/481 - 1s - loss: 11.2551 - mse: 11.2551 - mae: 1.9592 - mape: 19.1177 - val_loss: 11.8233 - val_mse: 11.8233 - val_mae: 1.9583 - val_mape: 18.3516 - 1s/epoch - 2ms/step\n",
            "Epoch 66/80\n",
            "481/481 - 1s - loss: 11.2433 - mse: 11.2433 - mae: 1.9565 - mape: 19.0649 - val_loss: 11.7068 - val_mse: 11.7068 - val_mae: 2.0057 - val_mape: 19.4985 - 1s/epoch - 3ms/step\n",
            "Epoch 67/80\n",
            "481/481 - 1s - loss: 11.2312 - mse: 11.2312 - mae: 1.9562 - mape: 19.0777 - val_loss: 11.7229 - val_mse: 11.7229 - val_mae: 1.9997 - val_mape: 19.2609 - 1s/epoch - 3ms/step\n",
            "Epoch 68/80\n",
            "481/481 - 1s - loss: 11.2295 - mse: 11.2295 - mae: 1.9546 - mape: 19.0431 - val_loss: 11.6894 - val_mse: 11.6894 - val_mae: 1.9885 - val_mape: 19.2416 - 1s/epoch - 3ms/step\n",
            "Epoch 69/80\n",
            "481/481 - 1s - loss: 11.2310 - mse: 11.2310 - mae: 1.9544 - mape: 19.0538 - val_loss: 11.6832 - val_mse: 11.6832 - val_mae: 1.9778 - val_mape: 18.9561 - 857ms/epoch - 2ms/step\n",
            "Epoch 70/80\n",
            "481/481 - 1s - loss: 11.2170 - mse: 11.2170 - mae: 1.9531 - mape: 19.0302 - val_loss: 11.6784 - val_mse: 11.6784 - val_mae: 1.9811 - val_mape: 19.0411 - 1s/epoch - 2ms/step\n",
            "Epoch 71/80\n",
            "481/481 - 1s - loss: 11.2167 - mse: 11.2167 - mae: 1.9522 - mape: 19.0035 - val_loss: 11.7516 - val_mse: 11.7516 - val_mae: 2.0187 - val_mape: 19.6246 - 864ms/epoch - 2ms/step\n",
            "Epoch 72/80\n",
            "481/481 - 1s - loss: 11.2087 - mse: 11.2087 - mae: 1.9517 - mape: 18.9958 - val_loss: 11.7303 - val_mse: 11.7303 - val_mae: 1.9572 - val_mape: 18.4805 - 1s/epoch - 2ms/step\n",
            "Epoch 73/80\n",
            "481/481 - 1s - loss: 11.1993 - mse: 11.1993 - mae: 1.9497 - mape: 18.9799 - val_loss: 11.6588 - val_mse: 11.6588 - val_mae: 1.9764 - val_mape: 18.8922 - 1s/epoch - 3ms/step\n",
            "Epoch 74/80\n",
            "481/481 - 2s - loss: 11.1982 - mse: 11.1982 - mae: 1.9494 - mape: 18.9626 - val_loss: 11.6729 - val_mse: 11.6729 - val_mae: 1.9812 - val_mape: 18.8483 - 2s/epoch - 4ms/step\n",
            "Epoch 75/80\n",
            "481/481 - 2s - loss: 11.1888 - mse: 11.1888 - mae: 1.9478 - mape: 18.9358 - val_loss: 11.6441 - val_mse: 11.6441 - val_mae: 1.9836 - val_mape: 19.1170 - 2s/epoch - 5ms/step\n",
            "Epoch 76/80\n",
            "481/481 - 2s - loss: 11.1864 - mse: 11.1864 - mae: 1.9474 - mape: 18.9370 - val_loss: 11.6683 - val_mse: 11.6683 - val_mae: 1.9618 - val_mape: 18.6222 - 2s/epoch - 4ms/step\n",
            "Epoch 77/80\n",
            "481/481 - 1s - loss: 11.1854 - mse: 11.1854 - mae: 1.9477 - mape: 18.9343 - val_loss: 11.6659 - val_mse: 11.6659 - val_mae: 1.9828 - val_mape: 18.8882 - 1s/epoch - 3ms/step\n",
            "Epoch 78/80\n",
            "481/481 - 1s - loss: 11.1779 - mse: 11.1779 - mae: 1.9452 - mape: 18.8992 - val_loss: 11.6631 - val_mse: 11.6631 - val_mae: 1.9815 - val_mape: 18.8994 - 1s/epoch - 3ms/step\n",
            "Epoch 79/80\n",
            "481/481 - 1s - loss: 11.1746 - mse: 11.1746 - mae: 1.9447 - mape: 18.8874 - val_loss: 11.6366 - val_mse: 11.6366 - val_mae: 1.9634 - val_mape: 18.6907 - 970ms/epoch - 2ms/step\n",
            "Epoch 80/80\n",
            "481/481 - 1s - loss: 11.1624 - mse: 11.1624 - mae: 1.9441 - mape: 18.8812 - val_loss: 11.6399 - val_mse: 11.6399 - val_mae: 1.9846 - val_mape: 19.1992 - 1s/epoch - 2ms/step\n"
          ]
        },
        {
          "data": {
            "image/png": "[encoded data removed]",
            "text/plain": [
              "<Figure size 640x480 with 1 Axes>"
            ]
          },
          "metadata": {},
          "output_type": "display_data"
        }
      ],
      "source": [
        "# Creating model using the Sequential in tensorflow\n",
        "\n",
        "def build_model_using_sequential():\n",
        "  hidden_units1 = 32\n",
        "  hidden_units2 = 16\n",
        "  hidden_units3 = 8\n",
        "  learning_rate = 0.001\n",
        "  batch_s = 128\n",
        "  epp = 80\n",
        "\n",
        "  model = Sequential([\n",
        "    Dense(hidden_units1, activation='sigmoid'),\n",
        "    Dense(hidden_units2, activation='sigmoid'),\n",
        "    Dense(hidden_units3, activation='sigmoid'),\n",
        "    Dense(1, activation='linear')])\n",
        "\n",
        "  # loss function\n",
        "  msle = MeanSquaredLogarithmicError()\n",
        "  model.compile(\n",
        "      loss=['mse','mae','mape'],\n",
        "      optimizer=SGD(learning_rate=learning_rate),\n",
        "      metrics=['mse','mae','mape']\n",
        "  )\n",
        "\n",
        "  # train the model\n",
        "  history = model.fit(\n",
        "      x_train_scaled.values,\n",
        "      y_train.values,\n",
        "      epochs=epp,\n",
        "      batch_size=batch_s,\n",
        "      validation_split=0.2,\n",
        "      verbose=2\n",
        "  )\n",
        "\n",
        "  return model,history\n",
        "\n",
        "# build the model\n",
        "model,history2 = build_model_using_sequential()\n",
        "plot_history(history2, 'loss')"
      ]
    },
    {
      "cell_type": "code",
      "execution_count": null,
      "metadata": {
        "colab": {
          "base_uri": "https://localhost:8080/"
        },
        "id": "N1Zs6QIa5gf_",
        "outputId": "cbabdb0d-9b40-4178-83c4-260ea7e471a0"
      },
      "outputs": [
        {
          "name": "stdout",
          "output_type": "stream",
          "text": [
            "601/601 [==============================] - 1s 1ms/step\n"
          ]
        },
        {
          "data": {
            "text/plain": [
              "11.994616610844508"
            ]
          },
          "execution_count": 38,
          "metadata": {},
          "output_type": "execute_result"
        }
      ],
      "source": [
        "pred = model.predict(x_test_scaled)\n",
        "mean_squared_error(y_test,pred)"
      ]
    },
    {
      "cell_type": "code",
      "execution_count": null,
      "metadata": {
        "colab": {
          "base_uri": "https://localhost:8080/",
          "height": 424
        },
        "id": "uLQyz0HR_5Km",
        "outputId": "f2b782c1-ea08-42a0-a2bd-b61eeb40b6e9"
      },
      "outputs": [
        {
          "data": {
            "text/html": [
              "\n",
              "  <div id=\"df-df3f3f39-f36c-45b9-8a02-975b896b0ecb\">\n",
              "    <div class=\"colab-df-container\">\n",
              "      <div>\n",
              "<style scoped>\n",
              "    .dataframe tbody tr th:only-of-type {\n",
              "        vertical-align: middle;\n",
              "    }\n",
              "\n",
              "    .dataframe tbody tr th {\n",
              "        vertical-align: top;\n",
              "    }\n",
              "\n",
              "    .dataframe thead th {\n",
              "        text-align: right;\n",
              "    }\n",
              "</style>\n",
              "<table border=\"1\" class=\"dataframe\">\n",
              "  <thead>\n",
              "    <tr style=\"text-align: right;\">\n",
              "      <th></th>\n",
              "      <th>Actual</th>\n",
              "      <th>Pred</th>\n",
              "    </tr>\n",
              "  </thead>\n",
              "  <tbody>\n",
              "    <tr>\n",
              "      <th>55008</th>\n",
              "      <td>4.1</td>\n",
              "      <td>5.226966</td>\n",
              "    </tr>\n",
              "    <tr>\n",
              "      <th>27242</th>\n",
              "      <td>16.1</td>\n",
              "      <td>13.118277</td>\n",
              "    </tr>\n",
              "    <tr>\n",
              "      <th>67064</th>\n",
              "      <td>3.5</td>\n",
              "      <td>5.238496</td>\n",
              "    </tr>\n",
              "    <tr>\n",
              "      <th>61647</th>\n",
              "      <td>6.5</td>\n",
              "      <td>6.411579</td>\n",
              "    </tr>\n",
              "    <tr>\n",
              "      <th>94673</th>\n",
              "      <td>34.0</td>\n",
              "      <td>25.857157</td>\n",
              "    </tr>\n",
              "    <tr>\n",
              "      <th>...</th>\n",
              "      <td>...</td>\n",
              "      <td>...</td>\n",
              "    </tr>\n",
              "    <tr>\n",
              "      <th>616</th>\n",
              "      <td>16.5</td>\n",
              "      <td>17.352634</td>\n",
              "    </tr>\n",
              "    <tr>\n",
              "      <th>82545</th>\n",
              "      <td>4.9</td>\n",
              "      <td>6.017481</td>\n",
              "    </tr>\n",
              "    <tr>\n",
              "      <th>26030</th>\n",
              "      <td>2.9</td>\n",
              "      <td>4.906425</td>\n",
              "    </tr>\n",
              "    <tr>\n",
              "      <th>19567</th>\n",
              "      <td>5.3</td>\n",
              "      <td>6.946006</td>\n",
              "    </tr>\n",
              "    <tr>\n",
              "      <th>15142</th>\n",
              "      <td>9.5</td>\n",
              "      <td>7.524851</td>\n",
              "    </tr>\n",
              "  </tbody>\n",
              "</table>\n",
              "<p>19220 rows × 2 columns</p>\n",
              "</div>\n",
              "      <button class=\"colab-df-convert\" onclick=\"convertToInteractive('df-df3f3f39-f36c-45b9-8a02-975b896b0ecb')\"\n",
              "              title=\"Convert this dataframe to an interactive table.\"\n",
              "              style=\"display:none;\">\n",
              "        \n",
              "  <svg xmlns=\"http://www.w3.org/2000/svg\" height=\"24px\"viewBox=\"0 0 24 24\"\n",
              "       width=\"24px\">\n",
              "    <path d=\"M0 0h24v24H0V0z\" fill=\"none\"/>\n",
              "    <path d=\"M18.56 5.44l.94 2.06.94-2.06 2.06-.94-2.06-.94-.94-2.06-.94 2.06-2.06.94zm-11 1L8.5 8.5l.94-2.06 2.06-.94-2.06-.94L8.5 2.5l-.94 2.06-2.06.94zm10 10l.94 2.06.94-2.06 2.06-.94-2.06-.94-.94-2.06-.94 2.06-2.06.94z\"/><path d=\"M17.41 7.96l-1.37-1.37c-.4-.4-.92-.59-1.43-.59-.52 0-1.04.2-1.43.59L10.3 9.45l-7.72 7.72c-.78.78-.78 2.05 0 2.83L4 21.41c.39.39.9.59 1.41.59.51 0 1.02-.2 1.41-.59l7.78-7.78 2.81-2.81c.8-.78.8-2.07 0-2.86zM5.41 20L4 18.59l7.72-7.72 1.47 1.35L5.41 20z\"/>\n",
              "  </svg>\n",
              "      </button>\n",
              "      \n",
              "  <style>\n",
              "    .colab-df-container {\n",
              "      display:flex;\n",
              "      flex-wrap:wrap;\n",
              "      gap: 12px;\n",
              "    }\n",
              "\n",
              "    .colab-df-convert {\n",
              "      background-color: #E8F0FE;\n",
              "      border: none;\n",
              "      border-radius: 50%;\n",
              "      cursor: pointer;\n",
              "      display: none;\n",
              "      fill: #1967D2;\n",
              "      height: 32px;\n",
              "      padding: 0 0 0 0;\n",
              "      width: 32px;\n",
              "    }\n",
              "\n",
              "    .colab-df-convert:hover {\n",
              "      background-color: #E2EBFA;\n",
              "      box-shadow: 0px 1px 2px rgba(60, 64, 67, 0.3), 0px 1px 3px 1px rgba(60, 64, 67, 0.15);\n",
              "      fill: #174EA6;\n",
              "    }\n",
              "\n",
              "    [theme=dark] .colab-df-convert {\n",
              "      background-color: #3B4455;\n",
              "      fill: #D2E3FC;\n",
              "    }\n",
              "\n",
              "    [theme=dark] .colab-df-convert:hover {\n",
              "      background-color: #434B5C;\n",
              "      box-shadow: 0px 1px 3px 1px rgba(0, 0, 0, 0.15);\n",
              "      filter: drop-shadow(0px 1px 2px rgba(0, 0, 0, 0.3));\n",
              "      fill: #FFFFFF;\n",
              "    }\n",
              "  </style>\n",
              "\n",
              "      <script>\n",
              "        const buttonEl =\n",
              "          document.querySelector('#df-df3f3f39-f36c-45b9-8a02-975b896b0ecb button.colab-df-convert');\n",
              "        buttonEl.style.display =\n",
              "          google.colab.kernel.accessAllowed ? 'block' : 'none';\n",
              "\n",
              "        async function convertToInteractive(key) {\n",
              "          const element = document.querySelector('#df-df3f3f39-f36c-45b9-8a02-975b896b0ecb');\n",
              "          const dataTable =\n",
              "            await google.colab.kernel.invokeFunction('convertToInteractive',\n",
              "                                                     [key], {});\n",
              "          if (!dataTable) return;\n",
              "\n",
              "          const docLinkHtml = 'Like what you see? Visit the ' +\n",
              "            '<a target=\"_blank\" href=https://colab.research.google.com/notebooks/data_table.ipynb>data table notebook</a>'\n",
              "            + ' to learn more about interactive tables.';\n",
              "          element.innerHTML = '';\n",
              "          dataTable['output_type'] = 'display_data';\n",
              "          await google.colab.output.renderOutput(dataTable, element);\n",
              "          const docLink = document.createElement('div');\n",
              "          docLink.innerHTML = docLinkHtml;\n",
              "          element.appendChild(docLink);\n",
              "        }\n",
              "      </script>\n",
              "    </div>\n",
              "  </div>\n",
              "  "
            ],
            "text/plain": [
              "       Actual       Pred\n",
              "55008     4.1   5.226966\n",
              "27242    16.1  13.118277\n",
              "67064     3.5   5.238496\n",
              "61647     6.5   6.411579\n",
              "94673    34.0  25.857157\n",
              "...       ...        ...\n",
              "616      16.5  17.352634\n",
              "82545     4.9   6.017481\n",
              "26030     2.9   4.906425\n",
              "19567     5.3   6.946006\n",
              "15142     9.5   7.524851\n",
              "\n",
              "[19220 rows x 2 columns]"
            ]
          },
          "execution_count": 39,
          "metadata": {},
          "output_type": "execute_result"
        }
      ],
      "source": [
        "df = pd.DataFrame()\n",
        "df['Actual'] = y_test\n",
        "df['Pred'] =  pred\n",
        "df"
      ]
    },
    {
      "cell_type": "code",
      "execution_count": null,
      "metadata": {
        "colab": {
          "base_uri": "https://localhost:8080/",
          "height": 796
        },
        "id": "-nG0yf_XoK2H",
        "outputId": "8a6ac211-3dfa-43e0-e019-7832c1675e9d"
      },
      "outputs": [
        {
          "name": "stdout",
          "output_type": "stream",
          "text": [
            "Epoch 1/10\n",
            "481/481 - 2s - loss: 5.7112 - mean_squared_logarithmic_error: 5.7114 - val_loss: 5.7332 - val_mean_squared_logarithmic_error: 5.7292 - 2s/epoch - 3ms/step\n",
            "Epoch 2/10\n",
            "481/481 - 1s - loss: 5.7112 - mean_squared_logarithmic_error: 5.7107 - val_loss: 5.7332 - val_mean_squared_logarithmic_error: 5.7292 - 831ms/epoch - 2ms/step\n",
            "Epoch 3/10\n",
            "481/481 - 1s - loss: 5.7112 - mean_squared_logarithmic_error: 5.7115 - val_loss: 5.7332 - val_mean_squared_logarithmic_error: 5.7292 - 835ms/epoch - 2ms/step\n",
            "Epoch 4/10\n",
            "481/481 - 1s - loss: 5.7112 - mean_squared_logarithmic_error: 5.7111 - val_loss: 5.7332 - val_mean_squared_logarithmic_error: 5.7292 - 826ms/epoch - 2ms/step\n",
            "Epoch 5/10\n",
            "481/481 - 1s - loss: 5.7112 - mean_squared_logarithmic_error: 5.7107 - val_loss: 5.7332 - val_mean_squared_logarithmic_error: 5.7292 - 823ms/epoch - 2ms/step\n",
            "Epoch 6/10\n",
            "481/481 - 1s - loss: 5.7112 - mean_squared_logarithmic_error: 5.7118 - val_loss: 5.7332 - val_mean_squared_logarithmic_error: 5.7292 - 845ms/epoch - 2ms/step\n",
            "Epoch 7/10\n",
            "481/481 - 1s - loss: 5.7112 - mean_squared_logarithmic_error: 5.7107 - val_loss: 5.7332 - val_mean_squared_logarithmic_error: 5.7292 - 843ms/epoch - 2ms/step\n",
            "Epoch 8/10\n",
            "481/481 - 1s - loss: 5.7112 - mean_squared_logarithmic_error: 5.7113 - val_loss: 5.7332 - val_mean_squared_logarithmic_error: 5.7292 - 839ms/epoch - 2ms/step\n",
            "Epoch 9/10\n",
            "481/481 - 1s - loss: 5.7112 - mean_squared_logarithmic_error: 5.7118 - val_loss: 5.7332 - val_mean_squared_logarithmic_error: 5.7292 - 841ms/epoch - 2ms/step\n",
            "Epoch 10/10\n",
            "481/481 - 1s - loss: 5.7112 - mean_squared_logarithmic_error: 5.7116 - val_loss: 5.7332 - val_mean_squared_logarithmic_error: 5.7292 - 866ms/epoch - 2ms/step\n"
          ]
        },
        {
          "data": {
            "image/png": "[encoded data removed]",
            "text/plain": [
              "<Figure size 640x480 with 1 Axes>"
            ]
          },
          "metadata": {},
          "output_type": "display_data"
        }
      ],
      "source": [
        "# Creating model using the Sequential in tensorflow\n",
        "\n",
        "def build_model_using_sequential():\n",
        "  hidden_units1 = 32\n",
        "  hidden_units2 = 16\n",
        "  hidden_units3 = 8\n",
        "  learning_rate = 0.001\n",
        "  batch_s = 128\n",
        "  epp = 10\n",
        "\n",
        "  model = Sequential([\n",
        "    Dense(hidden_units1, activation='sigmoid'),\n",
        "    Dense(hidden_units2, activation='sigmoid'),\n",
        "    Dense(hidden_units3, activation='sigmoid'),\n",
        "    Dense(1, activation='linear')])\n",
        "\n",
        "  # loss function\n",
        "  msle = MeanSquaredLogarithmicError()\n",
        "  model.compile(\n",
        "      loss=msle,\n",
        "      optimizer=SGD(learning_rate=learning_rate),\n",
        "      metrics=msle\n",
        "  )\n",
        "\n",
        "  # train the model\n",
        "  history = model.fit(\n",
        "      x_train_scaled.values,\n",
        "      y_train.values,\n",
        "      epochs=epp,\n",
        "      batch_size=batch_s,\n",
        "      validation_split=0.2,\n",
        "      verbose=2\n",
        "  )\n",
        "\n",
        "  return model,history\n",
        "\n",
        "# build the model\n",
        "model,history2 = build_model_using_sequential()\n",
        "plot_history(history2, 'loss')"
      ]
    },
    {
      "attachments": {},
      "cell_type": "markdown",
      "metadata": {
        "id": "7g69EKSY5nE4"
      },
      "source": [
        "C. Experimenting with activation functions"
      ]
    },
    {
      "attachments": {},
      "cell_type": "markdown",
      "metadata": {
        "id": "R2cJ2hx0pm26"
      },
      "source": [
        "MSLE takes a similar approach as MSE, but it utilizes a logarithm to off-set the large outliers in a data set and treats them as if they were on the same scale."
      ]
    },
    {
      "cell_type": "code",
      "execution_count": null,
      "metadata": {
        "colab": {
          "base_uri": "https://localhost:8080/",
          "height": 1000
        },
        "id": "DmOJCuSTCvjj",
        "outputId": "41225a7b-572b-4f5c-c040-506cef1d9a8f"
      },
      "outputs": [
        {
          "name": "stdout",
          "output_type": "stream",
          "text": [
            "Epoch 1/25\n",
            "481/481 [==============================] - 3s 5ms/step - loss: 0.0757 - mean_squared_logarithmic_error: 0.0757 - val_loss: 0.0508 - val_mean_squared_logarithmic_error: 0.0517\n",
            "Epoch 2/25\n",
            "481/481 [==============================] - 2s 4ms/step - loss: 0.0483 - mean_squared_logarithmic_error: 0.0483 - val_loss: 0.0499 - val_mean_squared_logarithmic_error: 0.0507\n",
            "Epoch 3/25\n",
            "481/481 [==============================] - 2s 4ms/step - loss: 0.0477 - mean_squared_logarithmic_error: 0.0477 - val_loss: 0.0493 - val_mean_squared_logarithmic_error: 0.0503\n",
            "Epoch 4/25\n",
            "481/481 [==============================] - 2s 4ms/step - loss: 0.0473 - mean_squared_logarithmic_error: 0.0473 - val_loss: 0.0487 - val_mean_squared_logarithmic_error: 0.0497\n",
            "Epoch 5/25\n",
            "481/481 [==============================] - 2s 4ms/step - loss: 0.0470 - mean_squared_logarithmic_error: 0.0470 - val_loss: 0.0488 - val_mean_squared_logarithmic_error: 0.0497\n",
            "Epoch 6/25\n",
            "481/481 [==============================] - 2s 4ms/step - loss: 0.0468 - mean_squared_logarithmic_error: 0.0468 - val_loss: 0.0483 - val_mean_squared_logarithmic_error: 0.0492\n",
            "Epoch 7/25\n",
            "481/481 [==============================] - 3s 6ms/step - loss: 0.0466 - mean_squared_logarithmic_error: 0.0466 - val_loss: 0.0480 - val_mean_squared_logarithmic_error: 0.0490\n",
            "Epoch 8/25\n",
            "481/481 [==============================] - 2s 5ms/step - loss: 0.0464 - mean_squared_logarithmic_error: 0.0463 - val_loss: 0.0479 - val_mean_squared_logarithmic_error: 0.0489\n",
            "Epoch 9/25\n",
            "481/481 [==============================] - 2s 4ms/step - loss: 0.0462 - mean_squared_logarithmic_error: 0.0462 - val_loss: 0.0491 - val_mean_squared_logarithmic_error: 0.0500\n",
            "Epoch 10/25\n",
            "481/481 [==============================] - 2s 4ms/step - loss: 0.0461 - mean_squared_logarithmic_error: 0.0461 - val_loss: 0.0479 - val_mean_squared_logarithmic_error: 0.0488\n",
            "Epoch 11/25\n",
            "481/481 [==============================] - 2s 4ms/step - loss: 0.0459 - mean_squared_logarithmic_error: 0.0459 - val_loss: 0.0477 - val_mean_squared_logarithmic_error: 0.0486\n",
            "Epoch 12/25\n",
            "481/481 [==============================] - 2s 4ms/step - loss: 0.0458 - mean_squared_logarithmic_error: 0.0458 - val_loss: 0.0476 - val_mean_squared_logarithmic_error: 0.0485\n",
            "Epoch 13/25\n",
            "481/481 [==============================] - 2s 4ms/step - loss: 0.0457 - mean_squared_logarithmic_error: 0.0457 - val_loss: 0.0484 - val_mean_squared_logarithmic_error: 0.0493\n",
            "Epoch 14/25\n",
            "481/481 [==============================] - 3s 6ms/step - loss: 0.0456 - mean_squared_logarithmic_error: 0.0456 - val_loss: 0.0483 - val_mean_squared_logarithmic_error: 0.0493\n",
            "Epoch 15/25\n",
            "481/481 [==============================] - 2s 5ms/step - loss: 0.0455 - mean_squared_logarithmic_error: 0.0455 - val_loss: 0.0489 - val_mean_squared_logarithmic_error: 0.0498\n",
            "Epoch 16/25\n",
            "481/481 [==============================] - 2s 4ms/step - loss: 0.0454 - mean_squared_logarithmic_error: 0.0454 - val_loss: 0.0478 - val_mean_squared_logarithmic_error: 0.0487\n",
            "Epoch 17/25\n",
            "481/481 [==============================] - 2s 4ms/step - loss: 0.0454 - mean_squared_logarithmic_error: 0.0454 - val_loss: 0.0472 - val_mean_squared_logarithmic_error: 0.0481\n",
            "Epoch 18/25\n",
            "481/481 [==============================] - 2s 4ms/step - loss: 0.0453 - mean_squared_logarithmic_error: 0.0453 - val_loss: 0.0470 - val_mean_squared_logarithmic_error: 0.0479\n",
            "Epoch 19/25\n",
            "481/481 [==============================] - 2s 4ms/step - loss: 0.0452 - mean_squared_logarithmic_error: 0.0453 - val_loss: 0.0477 - val_mean_squared_logarithmic_error: 0.0486\n",
            "Epoch 20/25\n",
            "481/481 [==============================] - 2s 4ms/step - loss: 0.0452 - mean_squared_logarithmic_error: 0.0452 - val_loss: 0.0469 - val_mean_squared_logarithmic_error: 0.0479\n",
            "Epoch 21/25\n",
            "481/481 [==============================] - 3s 6ms/step - loss: 0.0452 - mean_squared_logarithmic_error: 0.0452 - val_loss: 0.0472 - val_mean_squared_logarithmic_error: 0.0481\n",
            "Epoch 22/25\n",
            "481/481 [==============================] - 3s 7ms/step - loss: 0.0451 - mean_squared_logarithmic_error: 0.0451 - val_loss: 0.0471 - val_mean_squared_logarithmic_error: 0.0480\n",
            "Epoch 23/25\n",
            "481/481 [==============================] - 2s 4ms/step - loss: 0.0451 - mean_squared_logarithmic_error: 0.0451 - val_loss: 0.0472 - val_mean_squared_logarithmic_error: 0.0481\n",
            "Epoch 24/25\n",
            "481/481 [==============================] - 2s 4ms/step - loss: 0.0450 - mean_squared_logarithmic_error: 0.0451 - val_loss: 0.0470 - val_mean_squared_logarithmic_error: 0.0479\n",
            "Epoch 25/25\n",
            "481/481 [==============================] - 2s 4ms/step - loss: 0.0450 - mean_squared_logarithmic_error: 0.0450 - val_loss: 0.0470 - val_mean_squared_logarithmic_error: 0.0480\n"
          ]
        },
        {
          "data": {
            "image/png": "[encoded data removed]",
            "text/plain": [
              "<Figure size 640x480 with 1 Axes>"
            ]
          },
          "metadata": {},
          "output_type": "display_data"
        }
      ],
      "source": [
        "# Creating model using the Sequential in tensorflow\n",
        "\n",
        "def build_model_using_sequential():\n",
        "  hidden_units1 = 150\n",
        "  hidden_units2 = 120\n",
        "  hidden_units3 = 130\n",
        "  learning_rate = 0.25\n",
        "  batch_s = 128\n",
        "  epp = 25\n",
        "\n",
        "  model = Sequential([\n",
        "    Dense(hidden_units1, activation='relu'),\n",
        "    Dense(hidden_units2, activation='relu'),\n",
        "    Dense(hidden_units3, activation='relu'),\n",
        "    Dense(1, activation='linear')])\n",
        "\n",
        "  # loss function\n",
        "  msle = MeanSquaredLogarithmicError()\n",
        "  model.compile(\n",
        "      loss=msle,\n",
        "      optimizer=SGD(learning_rate=learning_rate),\n",
        "      metrics=[msle]\n",
        "  )\n",
        "\n",
        "  # train the model\n",
        "  history = model.fit(\n",
        "      x_train_scaled.values,\n",
        "      y_train.values,\n",
        "      epochs=epp,\n",
        "      batch_size=batch_s,\n",
        "      validation_split=0.2\n",
        "  )\n",
        "\n",
        "  return model,history\n",
        "\n",
        "# build the model\n",
        "model,history2 = build_model_using_sequential()\n",
        "plot_history(history2, 'mean_squared_logarithmic_error')"
      ]
    },
    {
      "cell_type": "code",
      "execution_count": null,
      "metadata": {
        "colab": {
          "base_uri": "https://localhost:8080/"
        },
        "id": "86KRmd3SEtvs",
        "outputId": "a90adfda-548a-4cfa-88ef-22e961bca2b8"
      },
      "outputs": [
        {
          "name": "stdout",
          "output_type": "stream",
          "text": [
            "601/601 [==============================] - 1s 2ms/step\n"
          ]
        },
        {
          "data": {
            "text/plain": [
              "11.182781307934107"
            ]
          },
          "execution_count": 43,
          "metadata": {},
          "output_type": "execute_result"
        }
      ],
      "source": [
        "pred = model.predict(x_test_scaled)\n",
        "mean_squared_error(y_test,pred)"
      ]
    },
    {
      "cell_type": "code",
      "execution_count": null,
      "metadata": {
        "colab": {
          "base_uri": "https://localhost:8080/",
          "height": 424
        },
        "id": "AqmN9Ul3e7rv",
        "outputId": "0f3c2fd3-2b87-439c-cf45-087f497da77c"
      },
      "outputs": [
        {
          "data": {
            "text/html": [
              "\n",
              "  <div id=\"df-9661e24a-c479-4216-9f6f-f85552bc1938\">\n",
              "    <div class=\"colab-df-container\">\n",
              "      <div>\n",
              "<style scoped>\n",
              "    .dataframe tbody tr th:only-of-type {\n",
              "        vertical-align: middle;\n",
              "    }\n",
              "\n",
              "    .dataframe tbody tr th {\n",
              "        vertical-align: top;\n",
              "    }\n",
              "\n",
              "    .dataframe thead th {\n",
              "        text-align: right;\n",
              "    }\n",
              "</style>\n",
              "<table border=\"1\" class=\"dataframe\">\n",
              "  <thead>\n",
              "    <tr style=\"text-align: right;\">\n",
              "      <th></th>\n",
              "      <th>Actual</th>\n",
              "      <th>Pred</th>\n",
              "    </tr>\n",
              "  </thead>\n",
              "  <tbody>\n",
              "    <tr>\n",
              "      <th>55008</th>\n",
              "      <td>4.1</td>\n",
              "      <td>4.522741</td>\n",
              "    </tr>\n",
              "    <tr>\n",
              "      <th>27242</th>\n",
              "      <td>16.1</td>\n",
              "      <td>12.924002</td>\n",
              "    </tr>\n",
              "    <tr>\n",
              "      <th>67064</th>\n",
              "      <td>3.5</td>\n",
              "      <td>4.490221</td>\n",
              "    </tr>\n",
              "    <tr>\n",
              "      <th>61647</th>\n",
              "      <td>6.5</td>\n",
              "      <td>6.983373</td>\n",
              "    </tr>\n",
              "    <tr>\n",
              "      <th>94673</th>\n",
              "      <td>34.0</td>\n",
              "      <td>25.353395</td>\n",
              "    </tr>\n",
              "    <tr>\n",
              "      <th>...</th>\n",
              "      <td>...</td>\n",
              "      <td>...</td>\n",
              "    </tr>\n",
              "    <tr>\n",
              "      <th>616</th>\n",
              "      <td>16.5</td>\n",
              "      <td>17.267359</td>\n",
              "    </tr>\n",
              "    <tr>\n",
              "      <th>82545</th>\n",
              "      <td>4.9</td>\n",
              "      <td>6.109830</td>\n",
              "    </tr>\n",
              "    <tr>\n",
              "      <th>26030</th>\n",
              "      <td>2.9</td>\n",
              "      <td>4.694713</td>\n",
              "    </tr>\n",
              "    <tr>\n",
              "      <th>19567</th>\n",
              "      <td>5.3</td>\n",
              "      <td>7.716340</td>\n",
              "    </tr>\n",
              "    <tr>\n",
              "      <th>15142</th>\n",
              "      <td>9.5</td>\n",
              "      <td>7.597251</td>\n",
              "    </tr>\n",
              "  </tbody>\n",
              "</table>\n",
              "<p>19220 rows × 2 columns</p>\n",
              "</div>\n",
              "      <button class=\"colab-df-convert\" onclick=\"convertToInteractive('df-9661e24a-c479-4216-9f6f-f85552bc1938')\"\n",
              "              title=\"Convert this dataframe to an interactive table.\"\n",
              "              style=\"display:none;\">\n",
              "        \n",
              "  <svg xmlns=\"http://www.w3.org/2000/svg\" height=\"24px\"viewBox=\"0 0 24 24\"\n",
              "       width=\"24px\">\n",
              "    <path d=\"M0 0h24v24H0V0z\" fill=\"none\"/>\n",
              "    <path d=\"M18.56 5.44l.94 2.06.94-2.06 2.06-.94-2.06-.94-.94-2.06-.94 2.06-2.06.94zm-11 1L8.5 8.5l.94-2.06 2.06-.94-2.06-.94L8.5 2.5l-.94 2.06-2.06.94zm10 10l.94 2.06.94-2.06 2.06-.94-2.06-.94-.94-2.06-.94 2.06-2.06.94z\"/><path d=\"M17.41 7.96l-1.37-1.37c-.4-.4-.92-.59-1.43-.59-.52 0-1.04.2-1.43.59L10.3 9.45l-7.72 7.72c-.78.78-.78 2.05 0 2.83L4 21.41c.39.39.9.59 1.41.59.51 0 1.02-.2 1.41-.59l7.78-7.78 2.81-2.81c.8-.78.8-2.07 0-2.86zM5.41 20L4 18.59l7.72-7.72 1.47 1.35L5.41 20z\"/>\n",
              "  </svg>\n",
              "      </button>\n",
              "      \n",
              "  <style>\n",
              "    .colab-df-container {\n",
              "      display:flex;\n",
              "      flex-wrap:wrap;\n",
              "      gap: 12px;\n",
              "    }\n",
              "\n",
              "    .colab-df-convert {\n",
              "      background-color: #E8F0FE;\n",
              "      border: none;\n",
              "      border-radius: 50%;\n",
              "      cursor: pointer;\n",
              "      display: none;\n",
              "      fill: #1967D2;\n",
              "      height: 32px;\n",
              "      padding: 0 0 0 0;\n",
              "      width: 32px;\n",
              "    }\n",
              "\n",
              "    .colab-df-convert:hover {\n",
              "      background-color: #E2EBFA;\n",
              "      box-shadow: 0px 1px 2px rgba(60, 64, 67, 0.3), 0px 1px 3px 1px rgba(60, 64, 67, 0.15);\n",
              "      fill: #174EA6;\n",
              "    }\n",
              "\n",
              "    [theme=dark] .colab-df-convert {\n",
              "      background-color: #3B4455;\n",
              "      fill: #D2E3FC;\n",
              "    }\n",
              "\n",
              "    [theme=dark] .colab-df-convert:hover {\n",
              "      background-color: #434B5C;\n",
              "      box-shadow: 0px 1px 3px 1px rgba(0, 0, 0, 0.15);\n",
              "      filter: drop-shadow(0px 1px 2px rgba(0, 0, 0, 0.3));\n",
              "      fill: #FFFFFF;\n",
              "    }\n",
              "  </style>\n",
              "\n",
              "      <script>\n",
              "        const buttonEl =\n",
              "          document.querySelector('#df-9661e24a-c479-4216-9f6f-f85552bc1938 button.colab-df-convert');\n",
              "        buttonEl.style.display =\n",
              "          google.colab.kernel.accessAllowed ? 'block' : 'none';\n",
              "\n",
              "        async function convertToInteractive(key) {\n",
              "          const element = document.querySelector('#df-9661e24a-c479-4216-9f6f-f85552bc1938');\n",
              "          const dataTable =\n",
              "            await google.colab.kernel.invokeFunction('convertToInteractive',\n",
              "                                                     [key], {});\n",
              "          if (!dataTable) return;\n",
              "\n",
              "          const docLinkHtml = 'Like what you see? Visit the ' +\n",
              "            '<a target=\"_blank\" href=https://colab.research.google.com/notebooks/data_table.ipynb>data table notebook</a>'\n",
              "            + ' to learn more about interactive tables.';\n",
              "          element.innerHTML = '';\n",
              "          dataTable['output_type'] = 'display_data';\n",
              "          await google.colab.output.renderOutput(dataTable, element);\n",
              "          const docLink = document.createElement('div');\n",
              "          docLink.innerHTML = docLinkHtml;\n",
              "          element.appendChild(docLink);\n",
              "        }\n",
              "      </script>\n",
              "    </div>\n",
              "  </div>\n",
              "  "
            ],
            "text/plain": [
              "       Actual       Pred\n",
              "55008     4.1   4.522741\n",
              "27242    16.1  12.924002\n",
              "67064     3.5   4.490221\n",
              "61647     6.5   6.983373\n",
              "94673    34.0  25.353395\n",
              "...       ...        ...\n",
              "616      16.5  17.267359\n",
              "82545     4.9   6.109830\n",
              "26030     2.9   4.694713\n",
              "19567     5.3   7.716340\n",
              "15142     9.5   7.597251\n",
              "\n",
              "[19220 rows x 2 columns]"
            ]
          },
          "execution_count": 44,
          "metadata": {},
          "output_type": "execute_result"
        }
      ],
      "source": [
        "df = pd.DataFrame()\n",
        "df['Actual'] = y_test\n",
        "df['Pred'] =  pred\n",
        "df"
      ]
    },
    {
      "attachments": {},
      "cell_type": "markdown",
      "metadata": {
        "id": "1gvOzurNf4Bh"
      },
      "source": [
        "with tanh"
      ]
    },
    {
      "cell_type": "code",
      "execution_count": null,
      "metadata": {
        "colab": {
          "base_uri": "https://localhost:8080/",
          "height": 1000
        },
        "id": "UVyzGoFM7RYa",
        "outputId": "54b8f0db-400e-4e9d-f7e5-8207e23529b8"
      },
      "outputs": [
        {
          "name": "stdout",
          "output_type": "stream",
          "text": [
            "Epoch 1/100\n",
            "481/481 [==============================] - 2s 4ms/step - loss: 0.6806 - mean_squared_logarithmic_error: 0.6801 - val_loss: 0.1623 - val_mean_squared_logarithmic_error: 0.1623\n",
            "Epoch 2/100\n",
            "481/481 [==============================] - 2s 3ms/step - loss: 0.1190 - mean_squared_logarithmic_error: 0.1190 - val_loss: 0.0920 - val_mean_squared_logarithmic_error: 0.0925\n",
            "Epoch 3/100\n",
            "481/481 [==============================] - 2s 5ms/step - loss: 0.0800 - mean_squared_logarithmic_error: 0.0800 - val_loss: 0.0769 - val_mean_squared_logarithmic_error: 0.0777\n",
            "Epoch 4/100\n",
            "481/481 [==============================] - 2s 5ms/step - loss: 0.0734 - mean_squared_logarithmic_error: 0.0734 - val_loss: 0.0741 - val_mean_squared_logarithmic_error: 0.0749\n",
            "Epoch 5/100\n",
            "481/481 [==============================] - 2s 3ms/step - loss: 0.0715 - mean_squared_logarithmic_error: 0.0714 - val_loss: 0.0725 - val_mean_squared_logarithmic_error: 0.0733\n",
            "Epoch 6/100\n",
            "481/481 [==============================] - 2s 4ms/step - loss: 0.0701 - mean_squared_logarithmic_error: 0.0701 - val_loss: 0.0712 - val_mean_squared_logarithmic_error: 0.0720\n",
            "Epoch 7/100\n",
            "481/481 [==============================] - 2s 4ms/step - loss: 0.0689 - mean_squared_logarithmic_error: 0.0689 - val_loss: 0.0701 - val_mean_squared_logarithmic_error: 0.0710\n",
            "Epoch 8/100\n",
            "481/481 [==============================] - 2s 3ms/step - loss: 0.0678 - mean_squared_logarithmic_error: 0.0679 - val_loss: 0.0691 - val_mean_squared_logarithmic_error: 0.0699\n",
            "Epoch 9/100\n",
            "481/481 [==============================] - 2s 3ms/step - loss: 0.0669 - mean_squared_logarithmic_error: 0.0670 - val_loss: 0.0682 - val_mean_squared_logarithmic_error: 0.0690\n",
            "Epoch 10/100\n",
            "481/481 [==============================] - 2s 3ms/step - loss: 0.0661 - mean_squared_logarithmic_error: 0.0661 - val_loss: 0.0673 - val_mean_squared_logarithmic_error: 0.0682\n",
            "Epoch 11/100\n",
            "481/481 [==============================] - 2s 5ms/step - loss: 0.0653 - mean_squared_logarithmic_error: 0.0653 - val_loss: 0.0666 - val_mean_squared_logarithmic_error: 0.0676\n",
            "Epoch 12/100\n",
            "481/481 [==============================] - 2s 5ms/step - loss: 0.0646 - mean_squared_logarithmic_error: 0.0646 - val_loss: 0.0659 - val_mean_squared_logarithmic_error: 0.0668\n",
            "Epoch 13/100\n",
            "481/481 [==============================] - 2s 3ms/step - loss: 0.0640 - mean_squared_logarithmic_error: 0.0640 - val_loss: 0.0654 - val_mean_squared_logarithmic_error: 0.0663\n",
            "Epoch 14/100\n",
            "481/481 [==============================] - 2s 3ms/step - loss: 0.0635 - mean_squared_logarithmic_error: 0.0635 - val_loss: 0.0648 - val_mean_squared_logarithmic_error: 0.0656\n",
            "Epoch 15/100\n",
            "481/481 [==============================] - 2s 3ms/step - loss: 0.0630 - mean_squared_logarithmic_error: 0.0630 - val_loss: 0.0643 - val_mean_squared_logarithmic_error: 0.0651\n",
            "Epoch 16/100\n",
            "481/481 [==============================] - 2s 3ms/step - loss: 0.0625 - mean_squared_logarithmic_error: 0.0625 - val_loss: 0.0638 - val_mean_squared_logarithmic_error: 0.0647\n",
            "Epoch 17/100\n",
            "481/481 [==============================] - 2s 4ms/step - loss: 0.0620 - mean_squared_logarithmic_error: 0.0621 - val_loss: 0.0635 - val_mean_squared_logarithmic_error: 0.0643\n",
            "Epoch 18/100\n",
            "481/481 [==============================] - 2s 3ms/step - loss: 0.0617 - mean_squared_logarithmic_error: 0.0617 - val_loss: 0.0630 - val_mean_squared_logarithmic_error: 0.0639\n",
            "Epoch 19/100\n",
            "481/481 [==============================] - 2s 5ms/step - loss: 0.0613 - mean_squared_logarithmic_error: 0.0613 - val_loss: 0.0627 - val_mean_squared_logarithmic_error: 0.0636\n",
            "Epoch 20/100\n",
            "481/481 [==============================] - 2s 5ms/step - loss: 0.0609 - mean_squared_logarithmic_error: 0.0609 - val_loss: 0.0623 - val_mean_squared_logarithmic_error: 0.0632\n",
            "Epoch 21/100\n",
            "481/481 [==============================] - 2s 4ms/step - loss: 0.0606 - mean_squared_logarithmic_error: 0.0606 - val_loss: 0.0620 - val_mean_squared_logarithmic_error: 0.0629\n",
            "Epoch 22/100\n",
            "481/481 [==============================] - 2s 3ms/step - loss: 0.0603 - mean_squared_logarithmic_error: 0.0603 - val_loss: 0.0617 - val_mean_squared_logarithmic_error: 0.0625\n",
            "Epoch 23/100\n",
            "481/481 [==============================] - 2s 4ms/step - loss: 0.0600 - mean_squared_logarithmic_error: 0.0600 - val_loss: 0.0614 - val_mean_squared_logarithmic_error: 0.0623\n",
            "Epoch 24/100\n",
            "481/481 [==============================] - 2s 3ms/step - loss: 0.0598 - mean_squared_logarithmic_error: 0.0598 - val_loss: 0.0611 - val_mean_squared_logarithmic_error: 0.0620\n",
            "Epoch 25/100\n",
            "481/481 [==============================] - 2s 3ms/step - loss: 0.0595 - mean_squared_logarithmic_error: 0.0595 - val_loss: 0.0609 - val_mean_squared_logarithmic_error: 0.0618\n",
            "Epoch 26/100\n",
            "481/481 [==============================] - 2s 3ms/step - loss: 0.0593 - mean_squared_logarithmic_error: 0.0593 - val_loss: 0.0607 - val_mean_squared_logarithmic_error: 0.0616\n",
            "Epoch 27/100\n",
            "481/481 [==============================] - 2s 5ms/step - loss: 0.0591 - mean_squared_logarithmic_error: 0.0591 - val_loss: 0.0605 - val_mean_squared_logarithmic_error: 0.0614\n",
            "Epoch 28/100\n",
            "481/481 [==============================] - 2s 5ms/step - loss: 0.0589 - mean_squared_logarithmic_error: 0.0589 - val_loss: 0.0602 - val_mean_squared_logarithmic_error: 0.0611\n",
            "Epoch 29/100\n",
            "481/481 [==============================] - 2s 4ms/step - loss: 0.0587 - mean_squared_logarithmic_error: 0.0587 - val_loss: 0.0600 - val_mean_squared_logarithmic_error: 0.0609\n",
            "Epoch 30/100\n",
            "481/481 [==============================] - 2s 4ms/step - loss: 0.0585 - mean_squared_logarithmic_error: 0.0585 - val_loss: 0.0599 - val_mean_squared_logarithmic_error: 0.0607\n",
            "Epoch 31/100\n",
            "481/481 [==============================] - 2s 3ms/step - loss: 0.0583 - mean_squared_logarithmic_error: 0.0584 - val_loss: 0.0598 - val_mean_squared_logarithmic_error: 0.0606\n",
            "Epoch 32/100\n",
            "481/481 [==============================] - 2s 4ms/step - loss: 0.0582 - mean_squared_logarithmic_error: 0.0582 - val_loss: 0.0595 - val_mean_squared_logarithmic_error: 0.0604\n",
            "Epoch 33/100\n",
            "481/481 [==============================] - 2s 3ms/step - loss: 0.0580 - mean_squared_logarithmic_error: 0.0580 - val_loss: 0.0594 - val_mean_squared_logarithmic_error: 0.0603\n",
            "Epoch 34/100\n",
            "481/481 [==============================] - 2s 4ms/step - loss: 0.0579 - mean_squared_logarithmic_error: 0.0578 - val_loss: 0.0594 - val_mean_squared_logarithmic_error: 0.0602\n",
            "Epoch 35/100\n",
            "481/481 [==============================] - 2s 5ms/step - loss: 0.0577 - mean_squared_logarithmic_error: 0.0577 - val_loss: 0.0591 - val_mean_squared_logarithmic_error: 0.0600\n",
            "Epoch 36/100\n",
            "481/481 [==============================] - 2s 5ms/step - loss: 0.0576 - mean_squared_logarithmic_error: 0.0576 - val_loss: 0.0589 - val_mean_squared_logarithmic_error: 0.0598\n",
            "Epoch 37/100\n",
            "481/481 [==============================] - 2s 3ms/step - loss: 0.0574 - mean_squared_logarithmic_error: 0.0574 - val_loss: 0.0589 - val_mean_squared_logarithmic_error: 0.0598\n",
            "Epoch 38/100\n",
            "481/481 [==============================] - 2s 4ms/step - loss: 0.0573 - mean_squared_logarithmic_error: 0.0573 - val_loss: 0.0587 - val_mean_squared_logarithmic_error: 0.0596\n",
            "Epoch 39/100\n",
            "481/481 [==============================] - 2s 3ms/step - loss: 0.0572 - mean_squared_logarithmic_error: 0.0572 - val_loss: 0.0586 - val_mean_squared_logarithmic_error: 0.0594\n",
            "Epoch 40/100\n",
            "481/481 [==============================] - 2s 3ms/step - loss: 0.0571 - mean_squared_logarithmic_error: 0.0571 - val_loss: 0.0585 - val_mean_squared_logarithmic_error: 0.0594\n",
            "Epoch 41/100\n",
            "481/481 [==============================] - 2s 4ms/step - loss: 0.0570 - mean_squared_logarithmic_error: 0.0570 - val_loss: 0.0584 - val_mean_squared_logarithmic_error: 0.0592\n",
            "Epoch 42/100\n",
            "481/481 [==============================] - 2s 4ms/step - loss: 0.0569 - mean_squared_logarithmic_error: 0.0568 - val_loss: 0.0582 - val_mean_squared_logarithmic_error: 0.0591\n",
            "Epoch 43/100\n",
            "481/481 [==============================] - 2s 5ms/step - loss: 0.0568 - mean_squared_logarithmic_error: 0.0567 - val_loss: 0.0581 - val_mean_squared_logarithmic_error: 0.0590\n",
            "Epoch 44/100\n",
            "481/481 [==============================] - 2s 5ms/step - loss: 0.0567 - mean_squared_logarithmic_error: 0.0567 - val_loss: 0.0580 - val_mean_squared_logarithmic_error: 0.0589\n",
            "Epoch 45/100\n",
            "481/481 [==============================] - 2s 3ms/step - loss: 0.0566 - mean_squared_logarithmic_error: 0.0566 - val_loss: 0.0579 - val_mean_squared_logarithmic_error: 0.0588\n",
            "Epoch 46/100\n",
            "481/481 [==============================] - 2s 3ms/step - loss: 0.0565 - mean_squared_logarithmic_error: 0.0565 - val_loss: 0.0578 - val_mean_squared_logarithmic_error: 0.0588\n",
            "Epoch 47/100\n",
            "481/481 [==============================] - 2s 3ms/step - loss: 0.0564 - mean_squared_logarithmic_error: 0.0564 - val_loss: 0.0578 - val_mean_squared_logarithmic_error: 0.0587\n",
            "Epoch 48/100\n",
            "481/481 [==============================] - 2s 3ms/step - loss: 0.0563 - mean_squared_logarithmic_error: 0.0563 - val_loss: 0.0577 - val_mean_squared_logarithmic_error: 0.0586\n",
            "Epoch 49/100\n",
            "481/481 [==============================] - 2s 3ms/step - loss: 0.0562 - mean_squared_logarithmic_error: 0.0562 - val_loss: 0.0577 - val_mean_squared_logarithmic_error: 0.0586\n",
            "Epoch 50/100\n",
            "481/481 [==============================] - 2s 3ms/step - loss: 0.0561 - mean_squared_logarithmic_error: 0.0561 - val_loss: 0.0575 - val_mean_squared_logarithmic_error: 0.0584\n",
            "Epoch 51/100\n",
            "481/481 [==============================] - 2s 5ms/step - loss: 0.0560 - mean_squared_logarithmic_error: 0.0560 - val_loss: 0.0575 - val_mean_squared_logarithmic_error: 0.0583\n",
            "Epoch 52/100\n",
            "481/481 [==============================] - 2s 5ms/step - loss: 0.0560 - mean_squared_logarithmic_error: 0.0560 - val_loss: 0.0574 - val_mean_squared_logarithmic_error: 0.0583\n",
            "Epoch 53/100\n",
            "481/481 [==============================] - 2s 3ms/step - loss: 0.0559 - mean_squared_logarithmic_error: 0.0559 - val_loss: 0.0573 - val_mean_squared_logarithmic_error: 0.0582\n",
            "Epoch 54/100\n",
            "481/481 [==============================] - 2s 4ms/step - loss: 0.0558 - mean_squared_logarithmic_error: 0.0558 - val_loss: 0.0573 - val_mean_squared_logarithmic_error: 0.0582\n",
            "Epoch 55/100\n",
            "481/481 [==============================] - 2s 3ms/step - loss: 0.0558 - mean_squared_logarithmic_error: 0.0558 - val_loss: 0.0573 - val_mean_squared_logarithmic_error: 0.0581\n",
            "Epoch 56/100\n",
            "481/481 [==============================] - 2s 3ms/step - loss: 0.0557 - mean_squared_logarithmic_error: 0.0557 - val_loss: 0.0571 - val_mean_squared_logarithmic_error: 0.0580\n",
            "Epoch 57/100\n",
            "481/481 [==============================] - 2s 3ms/step - loss: 0.0556 - mean_squared_logarithmic_error: 0.0556 - val_loss: 0.0570 - val_mean_squared_logarithmic_error: 0.0579\n",
            "Epoch 58/100\n",
            "481/481 [==============================] - 2s 4ms/step - loss: 0.0555 - mean_squared_logarithmic_error: 0.0556 - val_loss: 0.0569 - val_mean_squared_logarithmic_error: 0.0578\n",
            "Epoch 59/100\n",
            "481/481 [==============================] - 2s 5ms/step - loss: 0.0555 - mean_squared_logarithmic_error: 0.0555 - val_loss: 0.0569 - val_mean_squared_logarithmic_error: 0.0578\n",
            "Epoch 60/100\n",
            "481/481 [==============================] - 2s 5ms/step - loss: 0.0554 - mean_squared_logarithmic_error: 0.0554 - val_loss: 0.0568 - val_mean_squared_logarithmic_error: 0.0577\n",
            "Epoch 61/100\n",
            "481/481 [==============================] - 2s 4ms/step - loss: 0.0554 - mean_squared_logarithmic_error: 0.0554 - val_loss: 0.0567 - val_mean_squared_logarithmic_error: 0.0576\n",
            "Epoch 62/100\n",
            "481/481 [==============================] - 2s 3ms/step - loss: 0.0553 - mean_squared_logarithmic_error: 0.0553 - val_loss: 0.0567 - val_mean_squared_logarithmic_error: 0.0575\n",
            "Epoch 63/100\n",
            "481/481 [==============================] - 2s 4ms/step - loss: 0.0553 - mean_squared_logarithmic_error: 0.0553 - val_loss: 0.0566 - val_mean_squared_logarithmic_error: 0.0575\n",
            "Epoch 64/100\n",
            "481/481 [==============================] - 2s 3ms/step - loss: 0.0552 - mean_squared_logarithmic_error: 0.0552 - val_loss: 0.0566 - val_mean_squared_logarithmic_error: 0.0575\n",
            "Epoch 65/100\n",
            "481/481 [==============================] - 2s 4ms/step - loss: 0.0551 - mean_squared_logarithmic_error: 0.0551 - val_loss: 0.0566 - val_mean_squared_logarithmic_error: 0.0575\n",
            "Epoch 66/100\n",
            "481/481 [==============================] - 2s 4ms/step - loss: 0.0551 - mean_squared_logarithmic_error: 0.0551 - val_loss: 0.0566 - val_mean_squared_logarithmic_error: 0.0574\n",
            "Epoch 67/100\n",
            "481/481 [==============================] - 2s 5ms/step - loss: 0.0550 - mean_squared_logarithmic_error: 0.0550 - val_loss: 0.0564 - val_mean_squared_logarithmic_error: 0.0573\n",
            "Epoch 68/100\n",
            "481/481 [==============================] - 2s 5ms/step - loss: 0.0550 - mean_squared_logarithmic_error: 0.0550 - val_loss: 0.0563 - val_mean_squared_logarithmic_error: 0.0573\n",
            "Epoch 69/100\n",
            "481/481 [==============================] - 2s 4ms/step - loss: 0.0549 - mean_squared_logarithmic_error: 0.0549 - val_loss: 0.0563 - val_mean_squared_logarithmic_error: 0.0572\n",
            "Epoch 70/100\n",
            "481/481 [==============================] - 2s 3ms/step - loss: 0.0549 - mean_squared_logarithmic_error: 0.0549 - val_loss: 0.0563 - val_mean_squared_logarithmic_error: 0.0573\n",
            "Epoch 71/100\n",
            "481/481 [==============================] - 2s 4ms/step - loss: 0.0548 - mean_squared_logarithmic_error: 0.0548 - val_loss: 0.0562 - val_mean_squared_logarithmic_error: 0.0571\n",
            "Epoch 72/100\n",
            "481/481 [==============================] - 2s 4ms/step - loss: 0.0548 - mean_squared_logarithmic_error: 0.0548 - val_loss: 0.0562 - val_mean_squared_logarithmic_error: 0.0571\n",
            "Epoch 73/100\n",
            "481/481 [==============================] - 2s 3ms/step - loss: 0.0547 - mean_squared_logarithmic_error: 0.0547 - val_loss: 0.0562 - val_mean_squared_logarithmic_error: 0.0571\n",
            "Epoch 74/100\n",
            "481/481 [==============================] - 2s 4ms/step - loss: 0.0547 - mean_squared_logarithmic_error: 0.0548 - val_loss: 0.0561 - val_mean_squared_logarithmic_error: 0.0569\n",
            "Epoch 75/100\n",
            "481/481 [==============================] - 2s 5ms/step - loss: 0.0546 - mean_squared_logarithmic_error: 0.0546 - val_loss: 0.0560 - val_mean_squared_logarithmic_error: 0.0569\n",
            "Epoch 76/100\n",
            "481/481 [==============================] - 2s 4ms/step - loss: 0.0546 - mean_squared_logarithmic_error: 0.0546 - val_loss: 0.0560 - val_mean_squared_logarithmic_error: 0.0569\n",
            "Epoch 77/100\n",
            "481/481 [==============================] - 2s 3ms/step - loss: 0.0545 - mean_squared_logarithmic_error: 0.0545 - val_loss: 0.0559 - val_mean_squared_logarithmic_error: 0.0568\n",
            "Epoch 78/100\n",
            "481/481 [==============================] - 2s 4ms/step - loss: 0.0545 - mean_squared_logarithmic_error: 0.0545 - val_loss: 0.0560 - val_mean_squared_logarithmic_error: 0.0569\n",
            "Epoch 79/100\n",
            "481/481 [==============================] - 2s 4ms/step - loss: 0.0544 - mean_squared_logarithmic_error: 0.0544 - val_loss: 0.0559 - val_mean_squared_logarithmic_error: 0.0569\n",
            "Epoch 80/100\n",
            "481/481 [==============================] - 2s 3ms/step - loss: 0.0544 - mean_squared_logarithmic_error: 0.0544 - val_loss: 0.0558 - val_mean_squared_logarithmic_error: 0.0567\n",
            "Epoch 81/100\n",
            "481/481 [==============================] - 2s 3ms/step - loss: 0.0543 - mean_squared_logarithmic_error: 0.0543 - val_loss: 0.0557 - val_mean_squared_logarithmic_error: 0.0566\n",
            "Epoch 82/100\n",
            "481/481 [==============================] - 2s 4ms/step - loss: 0.0543 - mean_squared_logarithmic_error: 0.0543 - val_loss: 0.0557 - val_mean_squared_logarithmic_error: 0.0566\n",
            "Epoch 83/100\n",
            "481/481 [==============================] - 2s 5ms/step - loss: 0.0542 - mean_squared_logarithmic_error: 0.0542 - val_loss: 0.0556 - val_mean_squared_logarithmic_error: 0.0565\n",
            "Epoch 84/100\n",
            "481/481 [==============================] - 2s 4ms/step - loss: 0.0542 - mean_squared_logarithmic_error: 0.0542 - val_loss: 0.0556 - val_mean_squared_logarithmic_error: 0.0565\n",
            "Epoch 85/100\n",
            "481/481 [==============================] - 2s 3ms/step - loss: 0.0542 - mean_squared_logarithmic_error: 0.0541 - val_loss: 0.0556 - val_mean_squared_logarithmic_error: 0.0565\n",
            "Epoch 86/100\n",
            "481/481 [==============================] - 2s 3ms/step - loss: 0.0541 - mean_squared_logarithmic_error: 0.0541 - val_loss: 0.0555 - val_mean_squared_logarithmic_error: 0.0564\n",
            "Epoch 87/100\n",
            "481/481 [==============================] - 2s 4ms/step - loss: 0.0540 - mean_squared_logarithmic_error: 0.0540 - val_loss: 0.0554 - val_mean_squared_logarithmic_error: 0.0563\n",
            "Epoch 88/100\n",
            "481/481 [==============================] - 2s 3ms/step - loss: 0.0540 - mean_squared_logarithmic_error: 0.0540 - val_loss: 0.0554 - val_mean_squared_logarithmic_error: 0.0563\n",
            "Epoch 89/100\n",
            "481/481 [==============================] - 2s 3ms/step - loss: 0.0540 - mean_squared_logarithmic_error: 0.0540 - val_loss: 0.0553 - val_mean_squared_logarithmic_error: 0.0562\n",
            "Epoch 90/100\n",
            "481/481 [==============================] - 2s 5ms/step - loss: 0.0539 - mean_squared_logarithmic_error: 0.0539 - val_loss: 0.0553 - val_mean_squared_logarithmic_error: 0.0562\n",
            "Epoch 91/100\n",
            "481/481 [==============================] - 2s 5ms/step - loss: 0.0539 - mean_squared_logarithmic_error: 0.0539 - val_loss: 0.0552 - val_mean_squared_logarithmic_error: 0.0561\n",
            "Epoch 92/100\n",
            "481/481 [==============================] - 2s 4ms/step - loss: 0.0538 - mean_squared_logarithmic_error: 0.0538 - val_loss: 0.0552 - val_mean_squared_logarithmic_error: 0.0561\n",
            "Epoch 93/100\n",
            "481/481 [==============================] - 2s 4ms/step - loss: 0.0538 - mean_squared_logarithmic_error: 0.0538 - val_loss: 0.0552 - val_mean_squared_logarithmic_error: 0.0561\n",
            "Epoch 94/100\n",
            "481/481 [==============================] - 2s 4ms/step - loss: 0.0537 - mean_squared_logarithmic_error: 0.0537 - val_loss: 0.0551 - val_mean_squared_logarithmic_error: 0.0560\n",
            "Epoch 95/100\n",
            "481/481 [==============================] - 2s 4ms/step - loss: 0.0537 - mean_squared_logarithmic_error: 0.0537 - val_loss: 0.0551 - val_mean_squared_logarithmic_error: 0.0560\n",
            "Epoch 96/100\n",
            "481/481 [==============================] - 2s 4ms/step - loss: 0.0536 - mean_squared_logarithmic_error: 0.0536 - val_loss: 0.0550 - val_mean_squared_logarithmic_error: 0.0559\n",
            "Epoch 97/100\n",
            "481/481 [==============================] - 2s 3ms/step - loss: 0.0536 - mean_squared_logarithmic_error: 0.0536 - val_loss: 0.0550 - val_mean_squared_logarithmic_error: 0.0559\n",
            "Epoch 98/100\n",
            "481/481 [==============================] - 2s 5ms/step - loss: 0.0535 - mean_squared_logarithmic_error: 0.0535 - val_loss: 0.0549 - val_mean_squared_logarithmic_error: 0.0558\n",
            "Epoch 99/100\n",
            "481/481 [==============================] - 2s 5ms/step - loss: 0.0534 - mean_squared_logarithmic_error: 0.0534 - val_loss: 0.0549 - val_mean_squared_logarithmic_error: 0.0559\n",
            "Epoch 100/100\n",
            "481/481 [==============================] - 2s 3ms/step - loss: 0.0534 - mean_squared_logarithmic_error: 0.0534 - val_loss: 0.0548 - val_mean_squared_logarithmic_error: 0.0557\n"
          ]
        },
        {
          "data": {
            "image/png": "[encoded data removed]",
            "text/plain": [
              "<Figure size 640x480 with 1 Axes>"
            ]
          },
          "metadata": {},
          "output_type": "display_data"
        }
      ],
      "source": [
        "# Creating model using the Sequential in tensorflow\n",
        "\n",
        "def build_model_using_sequential():\n",
        "  hidden_units1 = 150\n",
        "  hidden_units2 = 120\n",
        "  hidden_units3 = 130\n",
        "  learning_rate = 0.01\n",
        "  batch_s = 128\n",
        "  epp = 100\n",
        "\n",
        "  model = Sequential([\n",
        "    Dense(hidden_units1, kernel_initializer='normal', activation='tanh'),\n",
        "    Dense(hidden_units2, kernel_initializer='normal', activation='tanh'),\n",
        "    Dense(hidden_units3, kernel_initializer='normal', activation='tanh'),\n",
        "    Dense(1, kernel_initializer='normal', activation='linear')])\n",
        "\n",
        "  # loss function\n",
        "  msle = MeanSquaredLogarithmicError()\n",
        "  model.compile(\n",
        "      loss=msle,\n",
        "      optimizer=SGD(learning_rate=learning_rate),\n",
        "      metrics=[msle]\n",
        "  )\n",
        "\n",
        "  # train the model\n",
        "  history = model.fit(\n",
        "      x_train_scaled.values,\n",
        "      y_train.values,\n",
        "      epochs=epp,\n",
        "      batch_size=batch_s,\n",
        "      validation_split=0.2\n",
        "  )\n",
        "\n",
        "  return model,history\n",
        "\n",
        "# build the model\n",
        "model,history2 = build_model_using_sequential()\n",
        "plot_history(history2, 'mean_squared_logarithmic_error')"
      ]
    },
    {
      "cell_type": "code",
      "execution_count": null,
      "metadata": {
        "colab": {
          "base_uri": "https://localhost:8080/"
        },
        "id": "Xl2F_J587RRQ",
        "outputId": "921cfec6-5033-42d8-f303-ef048ab7e3e1"
      },
      "outputs": [
        {
          "name": "stdout",
          "output_type": "stream",
          "text": [
            "601/601 [==============================] - 1s 1ms/step\n"
          ]
        },
        {
          "data": {
            "text/plain": [
              "19.786158952716157"
            ]
          },
          "execution_count": 41,
          "metadata": {},
          "output_type": "execute_result"
        }
      ],
      "source": [
        "pred = model.predict(x_test_scaled)\n",
        "mean_squared_error(y_test,pred)"
      ]
    },
    {
      "cell_type": "code",
      "execution_count": null,
      "metadata": {
        "colab": {
          "base_uri": "https://localhost:8080/",
          "height": 424
        },
        "id": "3pV4tlGLgB-W",
        "outputId": "70543f8f-7efa-4081-9383-196fb34277a3"
      },
      "outputs": [
        {
          "data": {
            "text/html": [
              "\n",
              "  <div id=\"df-9a6d2584-feff-46fa-b642-706900a1a6d4\">\n",
              "    <div class=\"colab-df-container\">\n",
              "      <div>\n",
              "<style scoped>\n",
              "    .dataframe tbody tr th:only-of-type {\n",
              "        vertical-align: middle;\n",
              "    }\n",
              "\n",
              "    .dataframe tbody tr th {\n",
              "        vertical-align: top;\n",
              "    }\n",
              "\n",
              "    .dataframe thead th {\n",
              "        text-align: right;\n",
              "    }\n",
              "</style>\n",
              "<table border=\"1\" class=\"dataframe\">\n",
              "  <thead>\n",
              "    <tr style=\"text-align: right;\">\n",
              "      <th></th>\n",
              "      <th>Actual</th>\n",
              "      <th>Pred</th>\n",
              "    </tr>\n",
              "  </thead>\n",
              "  <tbody>\n",
              "    <tr>\n",
              "      <th>55008</th>\n",
              "      <td>4.1</td>\n",
              "      <td>4.550578</td>\n",
              "    </tr>\n",
              "    <tr>\n",
              "      <th>27242</th>\n",
              "      <td>16.1</td>\n",
              "      <td>12.698973</td>\n",
              "    </tr>\n",
              "    <tr>\n",
              "      <th>67064</th>\n",
              "      <td>3.5</td>\n",
              "      <td>4.538756</td>\n",
              "    </tr>\n",
              "    <tr>\n",
              "      <th>61647</th>\n",
              "      <td>6.5</td>\n",
              "      <td>6.330300</td>\n",
              "    </tr>\n",
              "    <tr>\n",
              "      <th>94673</th>\n",
              "      <td>34.0</td>\n",
              "      <td>22.184750</td>\n",
              "    </tr>\n",
              "    <tr>\n",
              "      <th>...</th>\n",
              "      <td>...</td>\n",
              "      <td>...</td>\n",
              "    </tr>\n",
              "    <tr>\n",
              "      <th>616</th>\n",
              "      <td>16.5</td>\n",
              "      <td>17.453440</td>\n",
              "    </tr>\n",
              "    <tr>\n",
              "      <th>82545</th>\n",
              "      <td>4.9</td>\n",
              "      <td>6.264520</td>\n",
              "    </tr>\n",
              "    <tr>\n",
              "      <th>26030</th>\n",
              "      <td>2.9</td>\n",
              "      <td>4.119344</td>\n",
              "    </tr>\n",
              "    <tr>\n",
              "      <th>19567</th>\n",
              "      <td>5.3</td>\n",
              "      <td>7.042984</td>\n",
              "    </tr>\n",
              "    <tr>\n",
              "      <th>15142</th>\n",
              "      <td>9.5</td>\n",
              "      <td>7.452519</td>\n",
              "    </tr>\n",
              "  </tbody>\n",
              "</table>\n",
              "<p>19220 rows × 2 columns</p>\n",
              "</div>\n",
              "      <button class=\"colab-df-convert\" onclick=\"convertToInteractive('df-9a6d2584-feff-46fa-b642-706900a1a6d4')\"\n",
              "              title=\"Convert this dataframe to an interactive table.\"\n",
              "              style=\"display:none;\">\n",
              "        \n",
              "  <svg xmlns=\"http://www.w3.org/2000/svg\" height=\"24px\"viewBox=\"0 0 24 24\"\n",
              "       width=\"24px\">\n",
              "    <path d=\"M0 0h24v24H0V0z\" fill=\"none\"/>\n",
              "    <path d=\"M18.56 5.44l.94 2.06.94-2.06 2.06-.94-2.06-.94-.94-2.06-.94 2.06-2.06.94zm-11 1L8.5 8.5l.94-2.06 2.06-.94-2.06-.94L8.5 2.5l-.94 2.06-2.06.94zm10 10l.94 2.06.94-2.06 2.06-.94-2.06-.94-.94-2.06-.94 2.06-2.06.94z\"/><path d=\"M17.41 7.96l-1.37-1.37c-.4-.4-.92-.59-1.43-.59-.52 0-1.04.2-1.43.59L10.3 9.45l-7.72 7.72c-.78.78-.78 2.05 0 2.83L4 21.41c.39.39.9.59 1.41.59.51 0 1.02-.2 1.41-.59l7.78-7.78 2.81-2.81c.8-.78.8-2.07 0-2.86zM5.41 20L4 18.59l7.72-7.72 1.47 1.35L5.41 20z\"/>\n",
              "  </svg>\n",
              "      </button>\n",
              "      \n",
              "  <style>\n",
              "    .colab-df-container {\n",
              "      display:flex;\n",
              "      flex-wrap:wrap;\n",
              "      gap: 12px;\n",
              "    }\n",
              "\n",
              "    .colab-df-convert {\n",
              "      background-color: #E8F0FE;\n",
              "      border: none;\n",
              "      border-radius: 50%;\n",
              "      cursor: pointer;\n",
              "      display: none;\n",
              "      fill: #1967D2;\n",
              "      height: 32px;\n",
              "      padding: 0 0 0 0;\n",
              "      width: 32px;\n",
              "    }\n",
              "\n",
              "    .colab-df-convert:hover {\n",
              "      background-color: #E2EBFA;\n",
              "      box-shadow: 0px 1px 2px rgba(60, 64, 67, 0.3), 0px 1px 3px 1px rgba(60, 64, 67, 0.15);\n",
              "      fill: #174EA6;\n",
              "    }\n",
              "\n",
              "    [theme=dark] .colab-df-convert {\n",
              "      background-color: #3B4455;\n",
              "      fill: #D2E3FC;\n",
              "    }\n",
              "\n",
              "    [theme=dark] .colab-df-convert:hover {\n",
              "      background-color: #434B5C;\n",
              "      box-shadow: 0px 1px 3px 1px rgba(0, 0, 0, 0.15);\n",
              "      filter: drop-shadow(0px 1px 2px rgba(0, 0, 0, 0.3));\n",
              "      fill: #FFFFFF;\n",
              "    }\n",
              "  </style>\n",
              "\n",
              "      <script>\n",
              "        const buttonEl =\n",
              "          document.querySelector('#df-9a6d2584-feff-46fa-b642-706900a1a6d4 button.colab-df-convert');\n",
              "        buttonEl.style.display =\n",
              "          google.colab.kernel.accessAllowed ? 'block' : 'none';\n",
              "\n",
              "        async function convertToInteractive(key) {\n",
              "          const element = document.querySelector('#df-9a6d2584-feff-46fa-b642-706900a1a6d4');\n",
              "          const dataTable =\n",
              "            await google.colab.kernel.invokeFunction('convertToInteractive',\n",
              "                                                     [key], {});\n",
              "          if (!dataTable) return;\n",
              "\n",
              "          const docLinkHtml = 'Like what you see? Visit the ' +\n",
              "            '<a target=\"_blank\" href=https://colab.research.google.com/notebooks/data_table.ipynb>data table notebook</a>'\n",
              "            + ' to learn more about interactive tables.';\n",
              "          element.innerHTML = '';\n",
              "          dataTable['output_type'] = 'display_data';\n",
              "          await google.colab.output.renderOutput(dataTable, element);\n",
              "          const docLink = document.createElement('div');\n",
              "          docLink.innerHTML = docLinkHtml;\n",
              "          element.appendChild(docLink);\n",
              "        }\n",
              "      </script>\n",
              "    </div>\n",
              "  </div>\n",
              "  "
            ],
            "text/plain": [
              "       Actual       Pred\n",
              "55008     4.1   4.550578\n",
              "27242    16.1  12.698973\n",
              "67064     3.5   4.538756\n",
              "61647     6.5   6.330300\n",
              "94673    34.0  22.184750\n",
              "...       ...        ...\n",
              "616      16.5  17.453440\n",
              "82545     4.9   6.264520\n",
              "26030     2.9   4.119344\n",
              "19567     5.3   7.042984\n",
              "15142     9.5   7.452519\n",
              "\n",
              "[19220 rows x 2 columns]"
            ]
          },
          "execution_count": 42,
          "metadata": {},
          "output_type": "execute_result"
        }
      ],
      "source": [
        "df = pd.DataFrame()\n",
        "df['Actual'] = y_test\n",
        "df['Pred'] =  pred\n",
        "df"
      ]
    },
    {
      "attachments": {},
      "cell_type": "markdown",
      "metadata": {
        "id": "So_ram_lKvaj"
      },
      "source": [
        "D. Experiment with regularization techniques: One of the most common problems data science professionals face is to avoid overfitting."
      ]
    },
    {
      "attachments": {},
      "cell_type": "markdown",
      "metadata": {
        "id": "sUfq8DHfg7kE"
      },
      "source": [
        "Dropout rate"
      ]
    },
    {
      "cell_type": "code",
      "execution_count": null,
      "metadata": {
        "colab": {
          "base_uri": "https://localhost:8080/",
          "height": 1000
        },
        "id": "Tbn_3d168hlg",
        "outputId": "3eaabbdc-ccdc-41a1-912b-519552599c75"
      },
      "outputs": [
        {
          "name": "stdout",
          "output_type": "stream",
          "text": [
            "Epoch 1/25\n",
            "481/481 - 4s - loss: 0.0982 - mean_squared_logarithmic_error: 0.0981 - val_loss: 0.0534 - val_mean_squared_logarithmic_error: 0.0544 - 4s/epoch - 8ms/step\n",
            "Epoch 2/25\n",
            "481/481 - 2s - loss: 0.0618 - mean_squared_logarithmic_error: 0.0618 - val_loss: 0.0507 - val_mean_squared_logarithmic_error: 0.0517 - 2s/epoch - 5ms/step\n",
            "Epoch 3/25\n",
            "481/481 - 3s - loss: 0.0584 - mean_squared_logarithmic_error: 0.0584 - val_loss: 0.0502 - val_mean_squared_logarithmic_error: 0.0512 - 3s/epoch - 7ms/step\n",
            "Epoch 4/25\n",
            "481/481 - 3s - loss: 0.0564 - mean_squared_logarithmic_error: 0.0564 - val_loss: 0.0504 - val_mean_squared_logarithmic_error: 0.0515 - 3s/epoch - 6ms/step\n",
            "Epoch 5/25\n",
            "481/481 - 2s - loss: 0.0557 - mean_squared_logarithmic_error: 0.0557 - val_loss: 0.0496 - val_mean_squared_logarithmic_error: 0.0506 - 2s/epoch - 5ms/step\n",
            "Epoch 6/25\n",
            "481/481 - 2s - loss: 0.0548 - mean_squared_logarithmic_error: 0.0548 - val_loss: 0.0495 - val_mean_squared_logarithmic_error: 0.0505 - 2s/epoch - 5ms/step\n",
            "Epoch 7/25\n",
            "481/481 - 2s - loss: 0.0544 - mean_squared_logarithmic_error: 0.0544 - val_loss: 0.0492 - val_mean_squared_logarithmic_error: 0.0502 - 2s/epoch - 4ms/step\n",
            "Epoch 8/25\n",
            "481/481 - 2s - loss: 0.0537 - mean_squared_logarithmic_error: 0.0537 - val_loss: 0.0488 - val_mean_squared_logarithmic_error: 0.0497 - 2s/epoch - 5ms/step\n",
            "Epoch 9/25\n",
            "481/481 - 4s - loss: 0.0532 - mean_squared_logarithmic_error: 0.0532 - val_loss: 0.0489 - val_mean_squared_logarithmic_error: 0.0499 - 4s/epoch - 8ms/step\n",
            "Epoch 10/25\n",
            "481/481 - 2s - loss: 0.0532 - mean_squared_logarithmic_error: 0.0532 - val_loss: 0.0493 - val_mean_squared_logarithmic_error: 0.0503 - 2s/epoch - 5ms/step\n",
            "Epoch 11/25\n",
            "481/481 - 2s - loss: 0.0527 - mean_squared_logarithmic_error: 0.0528 - val_loss: 0.0486 - val_mean_squared_logarithmic_error: 0.0495 - 2s/epoch - 5ms/step\n",
            "Epoch 12/25\n",
            "481/481 - 2s - loss: 0.0523 - mean_squared_logarithmic_error: 0.0523 - val_loss: 0.0489 - val_mean_squared_logarithmic_error: 0.0499 - 2s/epoch - 5ms/step\n",
            "Epoch 13/25\n",
            "481/481 - 2s - loss: 0.0523 - mean_squared_logarithmic_error: 0.0523 - val_loss: 0.0486 - val_mean_squared_logarithmic_error: 0.0495 - 2s/epoch - 4ms/step\n",
            "Epoch 14/25\n",
            "481/481 - 2s - loss: 0.0515 - mean_squared_logarithmic_error: 0.0515 - val_loss: 0.0483 - val_mean_squared_logarithmic_error: 0.0493 - 2s/epoch - 4ms/step\n",
            "Epoch 15/25\n",
            "481/481 - 3s - loss: 0.0518 - mean_squared_logarithmic_error: 0.0518 - val_loss: 0.0489 - val_mean_squared_logarithmic_error: 0.0498 - 3s/epoch - 7ms/step\n",
            "Epoch 16/25\n",
            "481/481 - 4s - loss: 0.0512 - mean_squared_logarithmic_error: 0.0512 - val_loss: 0.0484 - val_mean_squared_logarithmic_error: 0.0494 - 4s/epoch - 8ms/step\n",
            "Epoch 17/25\n",
            "481/481 - 2s - loss: 0.0512 - mean_squared_logarithmic_error: 0.0513 - val_loss: 0.0484 - val_mean_squared_logarithmic_error: 0.0493 - 2s/epoch - 5ms/step\n",
            "Epoch 18/25\n",
            "481/481 - 2s - loss: 0.0513 - mean_squared_logarithmic_error: 0.0513 - val_loss: 0.0482 - val_mean_squared_logarithmic_error: 0.0492 - 2s/epoch - 4ms/step\n",
            "Epoch 19/25\n",
            "481/481 - 2s - loss: 0.0509 - mean_squared_logarithmic_error: 0.0508 - val_loss: 0.0486 - val_mean_squared_logarithmic_error: 0.0495 - 2s/epoch - 5ms/step\n",
            "Epoch 20/25\n",
            "481/481 - 3s - loss: 0.0506 - mean_squared_logarithmic_error: 0.0506 - val_loss: 0.0482 - val_mean_squared_logarithmic_error: 0.0491 - 3s/epoch - 6ms/step\n",
            "Epoch 21/25\n",
            "481/481 - 3s - loss: 0.0506 - mean_squared_logarithmic_error: 0.0506 - val_loss: 0.0487 - val_mean_squared_logarithmic_error: 0.0497 - 3s/epoch - 7ms/step\n",
            "Epoch 22/25\n",
            "481/481 - 2s - loss: 0.0505 - mean_squared_logarithmic_error: 0.0505 - val_loss: 0.0480 - val_mean_squared_logarithmic_error: 0.0489 - 2s/epoch - 4ms/step\n",
            "Epoch 23/25\n",
            "481/481 - 2s - loss: 0.0503 - mean_squared_logarithmic_error: 0.0502 - val_loss: 0.0482 - val_mean_squared_logarithmic_error: 0.0492 - 2s/epoch - 4ms/step\n",
            "Epoch 24/25\n",
            "481/481 - 2s - loss: 0.0501 - mean_squared_logarithmic_error: 0.0501 - val_loss: 0.0479 - val_mean_squared_logarithmic_error: 0.0488 - 2s/epoch - 4ms/step\n",
            "Epoch 25/25\n",
            "481/481 - 2s - loss: 0.0500 - mean_squared_logarithmic_error: 0.0500 - val_loss: 0.0488 - val_mean_squared_logarithmic_error: 0.0498 - 2s/epoch - 4ms/step\n"
          ]
        },
        {
          "data": {
            "image/png": "[encoded data removed]",
            "text/plain": [
              "<Figure size 640x480 with 1 Axes>"
            ]
          },
          "metadata": {},
          "output_type": "display_data"
        }
      ],
      "source": [
        "# Creating model using the Sequential in tensorflow\n",
        "\n",
        "def build_model_using_sequential():\n",
        "  hidden_units1 = 150\n",
        "  hidden_units2 = 120\n",
        "  hidden_units3 = 130\n",
        "  learning_rate = 0.2\n",
        "  batch_s = 128\n",
        "  epp = 25\n",
        "\n",
        "  model = Sequential([\n",
        "    Dense(hidden_units1, activation='relu'),\n",
        "    Dropout(0.2),\n",
        "    Dense(hidden_units2, activation='relu'),\n",
        "    Dropout(0.2),\n",
        "    Dense(hidden_units3, activation='relu'),\n",
        "    Dropout(0.2),\n",
        "    Dense(1, activation='linear')])\n",
        "\n",
        "  # loss function\n",
        "  msle = MeanSquaredLogarithmicError()\n",
        "  model.compile(\n",
        "      loss=msle,\n",
        "      optimizer=SGD(learning_rate=learning_rate),\n",
        "      metrics=[msle]\n",
        "  )\n",
        "\n",
        "  # train the model\n",
        "  history = model.fit(\n",
        "      x_train_scaled.values,\n",
        "      y_train.values,\n",
        "      epochs=epp,\n",
        "      batch_size=batch_s,\n",
        "      validation_split=0.2,\n",
        "      verbose=2\n",
        "  )\n",
        "\n",
        "  return model,history\n",
        "\n",
        "# build the model\n",
        "model,history2 = build_model_using_sequential()\n",
        "plot_history(history2, 'mean_squared_logarithmic_error')"
      ]
    },
    {
      "cell_type": "code",
      "execution_count": null,
      "metadata": {
        "colab": {
          "base_uri": "https://localhost:8080/"
        },
        "id": "ZJJHp8EH9W0d",
        "outputId": "0f7fd7d7-b532-479b-8a57-3c2ba3bc7d79"
      },
      "outputs": [
        {
          "name": "stdout",
          "output_type": "stream",
          "text": [
            "601/601 [==============================] - 1s 1ms/step\n"
          ]
        },
        {
          "data": {
            "text/plain": [
              "12.34976484622985"
            ]
          },
          "execution_count": 59,
          "metadata": {},
          "output_type": "execute_result"
        }
      ],
      "source": [
        "pred = model.predict(x_test_scaled)\n",
        "mean_squared_error(y_test,pred)"
      ]
    },
    {
      "cell_type": "code",
      "execution_count": null,
      "metadata": {
        "colab": {
          "base_uri": "https://localhost:8080/",
          "height": 424
        },
        "id": "NHUov07amaTJ",
        "outputId": "b7d45104-505f-4440-853f-a0f0754a5e14"
      },
      "outputs": [
        {
          "data": {
            "text/html": [
              "\n",
              "  <div id=\"df-44ee1f4c-eb4e-4e61-964c-35d7c59e0523\">\n",
              "    <div class=\"colab-df-container\">\n",
              "      <div>\n",
              "<style scoped>\n",
              "    .dataframe tbody tr th:only-of-type {\n",
              "        vertical-align: middle;\n",
              "    }\n",
              "\n",
              "    .dataframe tbody tr th {\n",
              "        vertical-align: top;\n",
              "    }\n",
              "\n",
              "    .dataframe thead th {\n",
              "        text-align: right;\n",
              "    }\n",
              "</style>\n",
              "<table border=\"1\" class=\"dataframe\">\n",
              "  <thead>\n",
              "    <tr style=\"text-align: right;\">\n",
              "      <th></th>\n",
              "      <th>Actual</th>\n",
              "      <th>Pred</th>\n",
              "    </tr>\n",
              "  </thead>\n",
              "  <tbody>\n",
              "    <tr>\n",
              "      <th>55008</th>\n",
              "      <td>4.1</td>\n",
              "      <td>4.461480</td>\n",
              "    </tr>\n",
              "    <tr>\n",
              "      <th>27242</th>\n",
              "      <td>16.1</td>\n",
              "      <td>12.097744</td>\n",
              "    </tr>\n",
              "    <tr>\n",
              "      <th>67064</th>\n",
              "      <td>3.5</td>\n",
              "      <td>4.499888</td>\n",
              "    </tr>\n",
              "    <tr>\n",
              "      <th>61647</th>\n",
              "      <td>6.5</td>\n",
              "      <td>6.583620</td>\n",
              "    </tr>\n",
              "    <tr>\n",
              "      <th>94673</th>\n",
              "      <td>34.0</td>\n",
              "      <td>22.855310</td>\n",
              "    </tr>\n",
              "    <tr>\n",
              "      <th>...</th>\n",
              "      <td>...</td>\n",
              "      <td>...</td>\n",
              "    </tr>\n",
              "    <tr>\n",
              "      <th>616</th>\n",
              "      <td>16.5</td>\n",
              "      <td>15.748741</td>\n",
              "    </tr>\n",
              "    <tr>\n",
              "      <th>82545</th>\n",
              "      <td>4.9</td>\n",
              "      <td>5.972372</td>\n",
              "    </tr>\n",
              "    <tr>\n",
              "      <th>26030</th>\n",
              "      <td>2.9</td>\n",
              "      <td>4.517616</td>\n",
              "    </tr>\n",
              "    <tr>\n",
              "      <th>19567</th>\n",
              "      <td>5.3</td>\n",
              "      <td>7.431433</td>\n",
              "    </tr>\n",
              "    <tr>\n",
              "      <th>15142</th>\n",
              "      <td>9.5</td>\n",
              "      <td>7.528314</td>\n",
              "    </tr>\n",
              "  </tbody>\n",
              "</table>\n",
              "<p>19220 rows × 2 columns</p>\n",
              "</div>\n",
              "      <button class=\"colab-df-convert\" onclick=\"convertToInteractive('df-44ee1f4c-eb4e-4e61-964c-35d7c59e0523')\"\n",
              "              title=\"Convert this dataframe to an interactive table.\"\n",
              "              style=\"display:none;\">\n",
              "        \n",
              "  <svg xmlns=\"http://www.w3.org/2000/svg\" height=\"24px\"viewBox=\"0 0 24 24\"\n",
              "       width=\"24px\">\n",
              "    <path d=\"M0 0h24v24H0V0z\" fill=\"none\"/>\n",
              "    <path d=\"M18.56 5.44l.94 2.06.94-2.06 2.06-.94-2.06-.94-.94-2.06-.94 2.06-2.06.94zm-11 1L8.5 8.5l.94-2.06 2.06-.94-2.06-.94L8.5 2.5l-.94 2.06-2.06.94zm10 10l.94 2.06.94-2.06 2.06-.94-2.06-.94-.94-2.06-.94 2.06-2.06.94z\"/><path d=\"M17.41 7.96l-1.37-1.37c-.4-.4-.92-.59-1.43-.59-.52 0-1.04.2-1.43.59L10.3 9.45l-7.72 7.72c-.78.78-.78 2.05 0 2.83L4 21.41c.39.39.9.59 1.41.59.51 0 1.02-.2 1.41-.59l7.78-7.78 2.81-2.81c.8-.78.8-2.07 0-2.86zM5.41 20L4 18.59l7.72-7.72 1.47 1.35L5.41 20z\"/>\n",
              "  </svg>\n",
              "      </button>\n",
              "      \n",
              "  <style>\n",
              "    .colab-df-container {\n",
              "      display:flex;\n",
              "      flex-wrap:wrap;\n",
              "      gap: 12px;\n",
              "    }\n",
              "\n",
              "    .colab-df-convert {\n",
              "      background-color: #E8F0FE;\n",
              "      border: none;\n",
              "      border-radius: 50%;\n",
              "      cursor: pointer;\n",
              "      display: none;\n",
              "      fill: #1967D2;\n",
              "      height: 32px;\n",
              "      padding: 0 0 0 0;\n",
              "      width: 32px;\n",
              "    }\n",
              "\n",
              "    .colab-df-convert:hover {\n",
              "      background-color: #E2EBFA;\n",
              "      box-shadow: 0px 1px 2px rgba(60, 64, 67, 0.3), 0px 1px 3px 1px rgba(60, 64, 67, 0.15);\n",
              "      fill: #174EA6;\n",
              "    }\n",
              "\n",
              "    [theme=dark] .colab-df-convert {\n",
              "      background-color: #3B4455;\n",
              "      fill: #D2E3FC;\n",
              "    }\n",
              "\n",
              "    [theme=dark] .colab-df-convert:hover {\n",
              "      background-color: #434B5C;\n",
              "      box-shadow: 0px 1px 3px 1px rgba(0, 0, 0, 0.15);\n",
              "      filter: drop-shadow(0px 1px 2px rgba(0, 0, 0, 0.3));\n",
              "      fill: #FFFFFF;\n",
              "    }\n",
              "  </style>\n",
              "\n",
              "      <script>\n",
              "        const buttonEl =\n",
              "          document.querySelector('#df-44ee1f4c-eb4e-4e61-964c-35d7c59e0523 button.colab-df-convert');\n",
              "        buttonEl.style.display =\n",
              "          google.colab.kernel.accessAllowed ? 'block' : 'none';\n",
              "\n",
              "        async function convertToInteractive(key) {\n",
              "          const element = document.querySelector('#df-44ee1f4c-eb4e-4e61-964c-35d7c59e0523');\n",
              "          const dataTable =\n",
              "            await google.colab.kernel.invokeFunction('convertToInteractive',\n",
              "                                                     [key], {});\n",
              "          if (!dataTable) return;\n",
              "\n",
              "          const docLinkHtml = 'Like what you see? Visit the ' +\n",
              "            '<a target=\"_blank\" href=https://colab.research.google.com/notebooks/data_table.ipynb>data table notebook</a>'\n",
              "            + ' to learn more about interactive tables.';\n",
              "          element.innerHTML = '';\n",
              "          dataTable['output_type'] = 'display_data';\n",
              "          await google.colab.output.renderOutput(dataTable, element);\n",
              "          const docLink = document.createElement('div');\n",
              "          docLink.innerHTML = docLinkHtml;\n",
              "          element.appendChild(docLink);\n",
              "        }\n",
              "      </script>\n",
              "    </div>\n",
              "  </div>\n",
              "  "
            ],
            "text/plain": [
              "       Actual       Pred\n",
              "55008     4.1   4.461480\n",
              "27242    16.1  12.097744\n",
              "67064     3.5   4.499888\n",
              "61647     6.5   6.583620\n",
              "94673    34.0  22.855310\n",
              "...       ...        ...\n",
              "616      16.5  15.748741\n",
              "82545     4.9   5.972372\n",
              "26030     2.9   4.517616\n",
              "19567     5.3   7.431433\n",
              "15142     9.5   7.528314\n",
              "\n",
              "[19220 rows x 2 columns]"
            ]
          },
          "execution_count": 60,
          "metadata": {},
          "output_type": "execute_result"
        }
      ],
      "source": [
        "df = pd.DataFrame()\n",
        "df['Actual'] = y_test\n",
        "df['Pred'] =  pred\n",
        "df"
      ]
    },
    {
      "attachments": {},
      "cell_type": "markdown",
      "metadata": {
        "id": "5ezAHzmaKnoJ"
      },
      "source": [
        "Experiment with regularization techniques: Early stopping"
      ]
    },
    {
      "cell_type": "code",
      "execution_count": null,
      "metadata": {
        "id": "eR27HluMFtSy"
      },
      "outputs": [],
      "source": [
        "callback = tf.keras.callbacks.EarlyStopping(\n",
        "    monitor='val_loss',\n",
        "    min_delta=0.00005,\n",
        "    patience=3,\n",
        "    verbose=2,\n",
        "    mode='min',\n",
        "    baseline=None,\n",
        "    restore_best_weights=False\n",
        ")"
      ]
    },
    {
      "attachments": {},
      "cell_type": "markdown",
      "metadata": {
        "id": "UpwH7oyHq3RI"
      },
      "source": [
        "with kernel initializer"
      ]
    },
    {
      "cell_type": "code",
      "execution_count": null,
      "metadata": {
        "colab": {
          "base_uri": "https://localhost:8080/",
          "height": 1000
        },
        "id": "rZcKnytdADBY",
        "outputId": "7c5251ff-2bda-4ada-df4e-b4fa2d4cda34"
      },
      "outputs": [
        {
          "name": "stdout",
          "output_type": "stream",
          "text": [
            "Epoch 1/100\n",
            "481/481 - 3s - loss: 0.0989 - mean_squared_logarithmic_error: 0.0988 - val_loss: 0.0506 - val_mean_squared_logarithmic_error: 0.0515 - 3s/epoch - 5ms/step\n",
            "Epoch 2/100\n",
            "481/481 - 2s - loss: 0.0484 - mean_squared_logarithmic_error: 0.0484 - val_loss: 0.0501 - val_mean_squared_logarithmic_error: 0.0510 - 2s/epoch - 4ms/step\n",
            "Epoch 3/100\n",
            "481/481 - 2s - loss: 0.0476 - mean_squared_logarithmic_error: 0.0477 - val_loss: 0.0503 - val_mean_squared_logarithmic_error: 0.0513 - 2s/epoch - 4ms/step\n",
            "Epoch 4/100\n",
            "481/481 - 2s - loss: 0.0473 - mean_squared_logarithmic_error: 0.0473 - val_loss: 0.0489 - val_mean_squared_logarithmic_error: 0.0499 - 2s/epoch - 5ms/step\n",
            "Epoch 5/100\n",
            "481/481 - 2s - loss: 0.0470 - mean_squared_logarithmic_error: 0.0470 - val_loss: 0.0486 - val_mean_squared_logarithmic_error: 0.0496 - 2s/epoch - 4ms/step\n",
            "Epoch 6/100\n",
            "481/481 - 2s - loss: 0.0468 - mean_squared_logarithmic_error: 0.0468 - val_loss: 0.0488 - val_mean_squared_logarithmic_error: 0.0497 - 2s/epoch - 3ms/step\n",
            "Epoch 7/100\n",
            "481/481 - 2s - loss: 0.0466 - mean_squared_logarithmic_error: 0.0466 - val_loss: 0.0487 - val_mean_squared_logarithmic_error: 0.0497 - 2s/epoch - 3ms/step\n",
            "Epoch 8/100\n",
            "481/481 - 2s - loss: 0.0465 - mean_squared_logarithmic_error: 0.0465 - val_loss: 0.0481 - val_mean_squared_logarithmic_error: 0.0490 - 2s/epoch - 3ms/step\n",
            "Epoch 9/100\n",
            "481/481 - 2s - loss: 0.0463 - mean_squared_logarithmic_error: 0.0463 - val_loss: 0.0478 - val_mean_squared_logarithmic_error: 0.0488 - 2s/epoch - 4ms/step\n",
            "Epoch 10/100\n",
            "481/481 - 2s - loss: 0.0462 - mean_squared_logarithmic_error: 0.0462 - val_loss: 0.0478 - val_mean_squared_logarithmic_error: 0.0488 - 2s/epoch - 4ms/step\n",
            "Epoch 11/100\n",
            "481/481 - 2s - loss: 0.0460 - mean_squared_logarithmic_error: 0.0460 - val_loss: 0.0477 - val_mean_squared_logarithmic_error: 0.0487 - 2s/epoch - 5ms/step\n",
            "Epoch 12/100\n",
            "481/481 - 2s - loss: 0.0459 - mean_squared_logarithmic_error: 0.0459 - val_loss: 0.0481 - val_mean_squared_logarithmic_error: 0.0491 - 2s/epoch - 5ms/step\n",
            "Epoch 13/100\n",
            "481/481 - 2s - loss: 0.0458 - mean_squared_logarithmic_error: 0.0458 - val_loss: 0.0476 - val_mean_squared_logarithmic_error: 0.0485 - 2s/epoch - 3ms/step\n",
            "Epoch 14/100\n",
            "481/481 - 2s - loss: 0.0457 - mean_squared_logarithmic_error: 0.0457 - val_loss: 0.0478 - val_mean_squared_logarithmic_error: 0.0488 - 2s/epoch - 3ms/step\n",
            "Epoch 15/100\n",
            "481/481 - 2s - loss: 0.0455 - mean_squared_logarithmic_error: 0.0455 - val_loss: 0.0478 - val_mean_squared_logarithmic_error: 0.0487 - 2s/epoch - 3ms/step\n",
            "Epoch 16/100\n",
            "481/481 - 2s - loss: 0.0455 - mean_squared_logarithmic_error: 0.0455 - val_loss: 0.0472 - val_mean_squared_logarithmic_error: 0.0482 - 2s/epoch - 3ms/step\n",
            "Epoch 17/100\n",
            "481/481 - 2s - loss: 0.0454 - mean_squared_logarithmic_error: 0.0454 - val_loss: 0.0475 - val_mean_squared_logarithmic_error: 0.0485 - 2s/epoch - 3ms/step\n",
            "Epoch 18/100\n",
            "481/481 - 1s - loss: 0.0453 - mean_squared_logarithmic_error: 0.0453 - val_loss: 0.0472 - val_mean_squared_logarithmic_error: 0.0481 - 1s/epoch - 3ms/step\n",
            "Epoch 19/100\n",
            "481/481 - 2s - loss: 0.0453 - mean_squared_logarithmic_error: 0.0453 - val_loss: 0.0475 - val_mean_squared_logarithmic_error: 0.0485 - 2s/epoch - 4ms/step\n",
            "Epoch 19: early stopping\n"
          ]
        },
        {
          "data": {
            "image/png": "[encoded data removed]",
            "text/plain": [
              "<Figure size 640x480 with 1 Axes>"
            ]
          },
          "metadata": {},
          "output_type": "display_data"
        }
      ],
      "source": [
        "# Creating model using the Sequential in tensorflow\n",
        "\n",
        "def build_model_using_sequential():\n",
        "  hidden_units1 = 150\n",
        "  hidden_units2 = 120\n",
        "  hidden_units3 = 130\n",
        "  learning_rate = 0.25\n",
        "  batch_s = 128\n",
        "  epp = 100\n",
        "\n",
        "  model = Sequential([\n",
        "    Dense(hidden_units1, kernel_initializer='normal', activation='relu'),\n",
        "    Dense(hidden_units2, kernel_initializer='normal', activation='relu'),\n",
        "    Dense(hidden_units3, kernel_initializer='normal', activation='relu'),\n",
        "    Dense(1, kernel_initializer='normal', activation='linear')])\n",
        "\n",
        "  # loss function\n",
        "  msle = MeanSquaredLogarithmicError()\n",
        "  model.compile(\n",
        "      loss=msle,\n",
        "      optimizer=SGD(learning_rate=learning_rate),\n",
        "      metrics=[msle]\n",
        "  )\n",
        "\n",
        "  # train the model\n",
        "  history = model.fit(\n",
        "      x_train_scaled.values,\n",
        "      y_train.values,\n",
        "      epochs=epp,\n",
        "      batch_size=batch_s,\n",
        "      validation_split=0.2,\n",
        "      callbacks=[callback],\n",
        "      verbose=2\n",
        "  )\n",
        "\n",
        "  return model,history\n",
        "\n",
        "# build the model\n",
        "model,history2 = build_model_using_sequential()\n",
        "plot_history(history2, 'mean_squared_logarithmic_error')"
      ]
    },
    {
      "cell_type": "code",
      "execution_count": null,
      "metadata": {
        "colab": {
          "base_uri": "https://localhost:8080/"
        },
        "id": "JLZwqC-aGAuI",
        "outputId": "e189493d-1698-4d27-c9b1-6339c41794e5"
      },
      "outputs": [
        {
          "name": "stdout",
          "output_type": "stream",
          "text": [
            "601/601 [==============================] - 1s 1ms/step\n"
          ]
        },
        {
          "data": {
            "text/plain": [
              "11.355265574740468"
            ]
          },
          "execution_count": 66,
          "metadata": {},
          "output_type": "execute_result"
        }
      ],
      "source": [
        "pred = model.predict(x_test_scaled)\n",
        "mean_squared_error(y_test,pred)"
      ]
    },
    {
      "cell_type": "code",
      "execution_count": null,
      "metadata": {
        "colab": {
          "base_uri": "https://localhost:8080/",
          "height": 424
        },
        "id": "I7EOHsTpo5k3",
        "outputId": "c8000bb2-7512-4eb8-91fd-ee96a229919c"
      },
      "outputs": [
        {
          "data": {
            "text/html": [
              "\n",
              "  <div id=\"df-3ad5756a-9dd9-4efb-90b1-2d3dce887e9d\">\n",
              "    <div class=\"colab-df-container\">\n",
              "      <div>\n",
              "<style scoped>\n",
              "    .dataframe tbody tr th:only-of-type {\n",
              "        vertical-align: middle;\n",
              "    }\n",
              "\n",
              "    .dataframe tbody tr th {\n",
              "        vertical-align: top;\n",
              "    }\n",
              "\n",
              "    .dataframe thead th {\n",
              "        text-align: right;\n",
              "    }\n",
              "</style>\n",
              "<table border=\"1\" class=\"dataframe\">\n",
              "  <thead>\n",
              "    <tr style=\"text-align: right;\">\n",
              "      <th></th>\n",
              "      <th>Actual</th>\n",
              "      <th>Pred</th>\n",
              "    </tr>\n",
              "  </thead>\n",
              "  <tbody>\n",
              "    <tr>\n",
              "      <th>55008</th>\n",
              "      <td>4.1</td>\n",
              "      <td>4.583509</td>\n",
              "    </tr>\n",
              "    <tr>\n",
              "      <th>27242</th>\n",
              "      <td>16.1</td>\n",
              "      <td>12.610197</td>\n",
              "    </tr>\n",
              "    <tr>\n",
              "      <th>67064</th>\n",
              "      <td>3.5</td>\n",
              "      <td>4.416242</td>\n",
              "    </tr>\n",
              "    <tr>\n",
              "      <th>61647</th>\n",
              "      <td>6.5</td>\n",
              "      <td>6.711863</td>\n",
              "    </tr>\n",
              "    <tr>\n",
              "      <th>94673</th>\n",
              "      <td>34.0</td>\n",
              "      <td>24.388206</td>\n",
              "    </tr>\n",
              "    <tr>\n",
              "      <th>...</th>\n",
              "      <td>...</td>\n",
              "      <td>...</td>\n",
              "    </tr>\n",
              "    <tr>\n",
              "      <th>616</th>\n",
              "      <td>16.5</td>\n",
              "      <td>16.898901</td>\n",
              "    </tr>\n",
              "    <tr>\n",
              "      <th>82545</th>\n",
              "      <td>4.9</td>\n",
              "      <td>5.940190</td>\n",
              "    </tr>\n",
              "    <tr>\n",
              "      <th>26030</th>\n",
              "      <td>2.9</td>\n",
              "      <td>4.571243</td>\n",
              "    </tr>\n",
              "    <tr>\n",
              "      <th>19567</th>\n",
              "      <td>5.3</td>\n",
              "      <td>7.405447</td>\n",
              "    </tr>\n",
              "    <tr>\n",
              "      <th>15142</th>\n",
              "      <td>9.5</td>\n",
              "      <td>7.630226</td>\n",
              "    </tr>\n",
              "  </tbody>\n",
              "</table>\n",
              "<p>19220 rows × 2 columns</p>\n",
              "</div>\n",
              "      <button class=\"colab-df-convert\" onclick=\"convertToInteractive('df-3ad5756a-9dd9-4efb-90b1-2d3dce887e9d')\"\n",
              "              title=\"Convert this dataframe to an interactive table.\"\n",
              "              style=\"display:none;\">\n",
              "        \n",
              "  <svg xmlns=\"http://www.w3.org/2000/svg\" height=\"24px\"viewBox=\"0 0 24 24\"\n",
              "       width=\"24px\">\n",
              "    <path d=\"M0 0h24v24H0V0z\" fill=\"none\"/>\n",
              "    <path d=\"M18.56 5.44l.94 2.06.94-2.06 2.06-.94-2.06-.94-.94-2.06-.94 2.06-2.06.94zm-11 1L8.5 8.5l.94-2.06 2.06-.94-2.06-.94L8.5 2.5l-.94 2.06-2.06.94zm10 10l.94 2.06.94-2.06 2.06-.94-2.06-.94-.94-2.06-.94 2.06-2.06.94z\"/><path d=\"M17.41 7.96l-1.37-1.37c-.4-.4-.92-.59-1.43-.59-.52 0-1.04.2-1.43.59L10.3 9.45l-7.72 7.72c-.78.78-.78 2.05 0 2.83L4 21.41c.39.39.9.59 1.41.59.51 0 1.02-.2 1.41-.59l7.78-7.78 2.81-2.81c.8-.78.8-2.07 0-2.86zM5.41 20L4 18.59l7.72-7.72 1.47 1.35L5.41 20z\"/>\n",
              "  </svg>\n",
              "      </button>\n",
              "      \n",
              "  <style>\n",
              "    .colab-df-container {\n",
              "      display:flex;\n",
              "      flex-wrap:wrap;\n",
              "      gap: 12px;\n",
              "    }\n",
              "\n",
              "    .colab-df-convert {\n",
              "      background-color: #E8F0FE;\n",
              "      border: none;\n",
              "      border-radius: 50%;\n",
              "      cursor: pointer;\n",
              "      display: none;\n",
              "      fill: #1967D2;\n",
              "      height: 32px;\n",
              "      padding: 0 0 0 0;\n",
              "      width: 32px;\n",
              "    }\n",
              "\n",
              "    .colab-df-convert:hover {\n",
              "      background-color: #E2EBFA;\n",
              "      box-shadow: 0px 1px 2px rgba(60, 64, 67, 0.3), 0px 1px 3px 1px rgba(60, 64, 67, 0.15);\n",
              "      fill: #174EA6;\n",
              "    }\n",
              "\n",
              "    [theme=dark] .colab-df-convert {\n",
              "      background-color: #3B4455;\n",
              "      fill: #D2E3FC;\n",
              "    }\n",
              "\n",
              "    [theme=dark] .colab-df-convert:hover {\n",
              "      background-color: #434B5C;\n",
              "      box-shadow: 0px 1px 3px 1px rgba(0, 0, 0, 0.15);\n",
              "      filter: drop-shadow(0px 1px 2px rgba(0, 0, 0, 0.3));\n",
              "      fill: #FFFFFF;\n",
              "    }\n",
              "  </style>\n",
              "\n",
              "      <script>\n",
              "        const buttonEl =\n",
              "          document.querySelector('#df-3ad5756a-9dd9-4efb-90b1-2d3dce887e9d button.colab-df-convert');\n",
              "        buttonEl.style.display =\n",
              "          google.colab.kernel.accessAllowed ? 'block' : 'none';\n",
              "\n",
              "        async function convertToInteractive(key) {\n",
              "          const element = document.querySelector('#df-3ad5756a-9dd9-4efb-90b1-2d3dce887e9d');\n",
              "          const dataTable =\n",
              "            await google.colab.kernel.invokeFunction('convertToInteractive',\n",
              "                                                     [key], {});\n",
              "          if (!dataTable) return;\n",
              "\n",
              "          const docLinkHtml = 'Like what you see? Visit the ' +\n",
              "            '<a target=\"_blank\" href=https://colab.research.google.com/notebooks/data_table.ipynb>data table notebook</a>'\n",
              "            + ' to learn more about interactive tables.';\n",
              "          element.innerHTML = '';\n",
              "          dataTable['output_type'] = 'display_data';\n",
              "          await google.colab.output.renderOutput(dataTable, element);\n",
              "          const docLink = document.createElement('div');\n",
              "          docLink.innerHTML = docLinkHtml;\n",
              "          element.appendChild(docLink);\n",
              "        }\n",
              "      </script>\n",
              "    </div>\n",
              "  </div>\n",
              "  "
            ],
            "text/plain": [
              "       Actual       Pred\n",
              "55008     4.1   4.583509\n",
              "27242    16.1  12.610197\n",
              "67064     3.5   4.416242\n",
              "61647     6.5   6.711863\n",
              "94673    34.0  24.388206\n",
              "...       ...        ...\n",
              "616      16.5  16.898901\n",
              "82545     4.9   5.940190\n",
              "26030     2.9   4.571243\n",
              "19567     5.3   7.405447\n",
              "15142     9.5   7.630226\n",
              "\n",
              "[19220 rows x 2 columns]"
            ]
          },
          "execution_count": 67,
          "metadata": {},
          "output_type": "execute_result"
        }
      ],
      "source": [
        "df = pd.DataFrame()\n",
        "df['Actual'] = y_test\n",
        "df['Pred'] =  pred\n",
        "df"
      ]
    },
    {
      "cell_type": "code",
      "execution_count": null,
      "metadata": {
        "colab": {
          "base_uri": "https://localhost:8080/",
          "height": 1000
        },
        "id": "frCK41b2umky",
        "outputId": "c232e77c-9087-42b1-ade7-597777098992"
      },
      "outputs": [
        {
          "name": "stdout",
          "output_type": "stream",
          "text": [
            "Epoch 1/100\n",
            "481/481 - 6s - loss: 0.1112 - mean_squared_logarithmic_error: 0.1111 - val_loss: 0.0512 - val_mean_squared_logarithmic_error: 0.0521 - 6s/epoch - 14ms/step\n",
            "Epoch 2/100\n",
            "481/481 - 5s - loss: 0.0524 - mean_squared_logarithmic_error: 0.0524 - val_loss: 0.0500 - val_mean_squared_logarithmic_error: 0.0509 - 5s/epoch - 10ms/step\n",
            "Epoch 3/100\n",
            "481/481 - 3s - loss: 0.0516 - mean_squared_logarithmic_error: 0.0515 - val_loss: 0.0493 - val_mean_squared_logarithmic_error: 0.0502 - 3s/epoch - 5ms/step\n",
            "Epoch 4/100\n",
            "481/481 - 3s - loss: 0.0509 - mean_squared_logarithmic_error: 0.0510 - val_loss: 0.0498 - val_mean_squared_logarithmic_error: 0.0507 - 3s/epoch - 6ms/step\n",
            "Epoch 5/100\n",
            "481/481 - 3s - loss: 0.0504 - mean_squared_logarithmic_error: 0.0504 - val_loss: 0.0498 - val_mean_squared_logarithmic_error: 0.0507 - 3s/epoch - 5ms/step\n",
            "Epoch 6/100\n",
            "481/481 - 3s - loss: 0.0502 - mean_squared_logarithmic_error: 0.0502 - val_loss: 0.0488 - val_mean_squared_logarithmic_error: 0.0498 - 3s/epoch - 6ms/step\n",
            "Epoch 7/100\n",
            "481/481 - 3s - loss: 0.0498 - mean_squared_logarithmic_error: 0.0498 - val_loss: 0.0487 - val_mean_squared_logarithmic_error: 0.0497 - 3s/epoch - 7ms/step\n",
            "Epoch 8/100\n",
            "481/481 - 2s - loss: 0.0495 - mean_squared_logarithmic_error: 0.0495 - val_loss: 0.0485 - val_mean_squared_logarithmic_error: 0.0495 - 2s/epoch - 5ms/step\n",
            "Epoch 9/100\n",
            "481/481 - 2s - loss: 0.0495 - mean_squared_logarithmic_error: 0.0495 - val_loss: 0.0483 - val_mean_squared_logarithmic_error: 0.0493 - 2s/epoch - 5ms/step\n",
            "Epoch 10/100\n",
            "481/481 - 2s - loss: 0.0489 - mean_squared_logarithmic_error: 0.0489 - val_loss: 0.0482 - val_mean_squared_logarithmic_error: 0.0492 - 2s/epoch - 5ms/step\n",
            "Epoch 11/100\n",
            "481/481 - 2s - loss: 0.0488 - mean_squared_logarithmic_error: 0.0488 - val_loss: 0.0482 - val_mean_squared_logarithmic_error: 0.0492 - 2s/epoch - 4ms/step\n",
            "Epoch 12/100\n",
            "481/481 - 4s - loss: 0.0486 - mean_squared_logarithmic_error: 0.0487 - val_loss: 0.0483 - val_mean_squared_logarithmic_error: 0.0493 - 4s/epoch - 8ms/step\n",
            "Epoch 13/100\n",
            "481/481 - 4s - loss: 0.0485 - mean_squared_logarithmic_error: 0.0485 - val_loss: 0.0477 - val_mean_squared_logarithmic_error: 0.0487 - 4s/epoch - 7ms/step\n",
            "Epoch 14/100\n",
            "481/481 - 2s - loss: 0.0482 - mean_squared_logarithmic_error: 0.0481 - val_loss: 0.0481 - val_mean_squared_logarithmic_error: 0.0490 - 2s/epoch - 5ms/step\n",
            "Epoch 15/100\n",
            "481/481 - 2s - loss: 0.0482 - mean_squared_logarithmic_error: 0.0482 - val_loss: 0.0478 - val_mean_squared_logarithmic_error: 0.0488 - 2s/epoch - 5ms/step\n",
            "Epoch 16/100\n",
            "481/481 - 2s - loss: 0.0482 - mean_squared_logarithmic_error: 0.0482 - val_loss: 0.0476 - val_mean_squared_logarithmic_error: 0.0486 - 2s/epoch - 4ms/step\n",
            "Epoch 17/100\n",
            "481/481 - 2s - loss: 0.0478 - mean_squared_logarithmic_error: 0.0478 - val_loss: 0.0476 - val_mean_squared_logarithmic_error: 0.0485 - 2s/epoch - 4ms/step\n",
            "Epoch 18/100\n",
            "481/481 - 3s - loss: 0.0478 - mean_squared_logarithmic_error: 0.0478 - val_loss: 0.0474 - val_mean_squared_logarithmic_error: 0.0483 - 3s/epoch - 7ms/step\n",
            "Epoch 19/100\n",
            "481/481 - 3s - loss: 0.0475 - mean_squared_logarithmic_error: 0.0476 - val_loss: 0.0472 - val_mean_squared_logarithmic_error: 0.0482 - 3s/epoch - 6ms/step\n",
            "Epoch 20/100\n",
            "481/481 - 4s - loss: 0.0475 - mean_squared_logarithmic_error: 0.0475 - val_loss: 0.0472 - val_mean_squared_logarithmic_error: 0.0481 - 4s/epoch - 7ms/step\n",
            "Epoch 21/100\n",
            "481/481 - 2s - loss: 0.0476 - mean_squared_logarithmic_error: 0.0476 - val_loss: 0.0473 - val_mean_squared_logarithmic_error: 0.0483 - 2s/epoch - 5ms/step\n",
            "Epoch 22/100\n",
            "481/481 - 2s - loss: 0.0474 - mean_squared_logarithmic_error: 0.0474 - val_loss: 0.0472 - val_mean_squared_logarithmic_error: 0.0481 - 2s/epoch - 5ms/step\n",
            "Epoch 23/100\n",
            "481/481 - 3s - loss: 0.0473 - mean_squared_logarithmic_error: 0.0473 - val_loss: 0.0472 - val_mean_squared_logarithmic_error: 0.0482 - 3s/epoch - 7ms/step\n",
            "Epoch 23: early stopping\n"
          ]
        },
        {
          "data": {
            "image/png": "[encoded data removed]",
            "text/plain": [
              "<Figure size 640x480 with 1 Axes>"
            ]
          },
          "metadata": {},
          "output_type": "display_data"
        }
      ],
      "source": [
        "# Creating model using the Sequential in tensorflow\n",
        "\n",
        "def build_model_using_sequential():\n",
        "  hidden_units1 = 150\n",
        "  hidden_units2 = 120\n",
        "  hidden_units3 = 130\n",
        "  learning_rate = 0.25\n",
        "  batch_s = 128\n",
        "  epp = 100\n",
        "\n",
        "  model = Sequential([\n",
        "    Dense(hidden_units1, kernel_initializer='normal', activation='relu'),\n",
        "    Dropout(0.1),\n",
        "    Dense(hidden_units2, kernel_initializer='normal', activation='relu'),\n",
        "    Dropout(0.1),\n",
        "    Dense(hidden_units3, kernel_initializer='normal', activation='relu'),\n",
        "    Dropout(0.1),\n",
        "    Dense(1, kernel_initializer='normal', activation='linear')])\n",
        "\n",
        "  # loss function\n",
        "  msle = MeanSquaredLogarithmicError()\n",
        "  model.compile(\n",
        "      loss=msle,\n",
        "      optimizer=SGD(learning_rate=learning_rate),\n",
        "      metrics=[msle]\n",
        "  )\n",
        "\n",
        "  # train the model\n",
        "  history = model.fit(\n",
        "      x_train_scaled.values,\n",
        "      y_train.values,\n",
        "      epochs=epp,\n",
        "      batch_size=batch_s,\n",
        "      validation_split=0.2,\n",
        "      callbacks=[callback],\n",
        "      verbose=2\n",
        "  )\n",
        "\n",
        "  return model,history\n",
        "\n",
        "# build the model\n",
        "model,history2 = build_model_using_sequential()\n",
        "plot_history(history2, 'mean_squared_logarithmic_error')"
      ]
    },
    {
      "cell_type": "code",
      "execution_count": null,
      "metadata": {
        "colab": {
          "base_uri": "https://localhost:8080/"
        },
        "id": "k-Z3tWALvVBn",
        "outputId": "ca0dbfb4-cf61-4806-adbe-63a2a2b89041"
      },
      "outputs": [
        {
          "name": "stdout",
          "output_type": "stream",
          "text": [
            "601/601 [==============================] - 1s 2ms/step\n"
          ]
        },
        {
          "data": {
            "text/plain": [
              "11.34634610999834"
            ]
          },
          "execution_count": 71,
          "metadata": {},
          "output_type": "execute_result"
        }
      ],
      "source": [
        "pred = model.predict(x_test_scaled)\n",
        "mean_squared_error(y_test,pred)"
      ]
    },
    {
      "attachments": {},
      "cell_type": "markdown",
      "metadata": {
        "id": "Nt9Y9PT4LqAf"
      },
      "source": [
        "E. Experiment with at least 2 more Optimizers"
      ]
    },
    {
      "cell_type": "code",
      "execution_count": null,
      "metadata": {
        "colab": {
          "base_uri": "https://localhost:8080/",
          "height": 1000
        },
        "id": "fX76XFcpGBfr",
        "outputId": "6efa14c6-94a4-499e-9408-de797e550eb3"
      },
      "outputs": [
        {
          "name": "stdout",
          "output_type": "stream",
          "text": [
            "Epoch 1/100\n",
            "481/481 [==============================] - 5s 7ms/step - loss: 0.3183 - mean_squared_logarithmic_error: 0.3180 - val_loss: 0.0582 - val_mean_squared_logarithmic_error: 0.0591\n",
            "Epoch 2/100\n",
            "481/481 [==============================] - 3s 6ms/step - loss: 0.0598 - mean_squared_logarithmic_error: 0.0598 - val_loss: 0.0518 - val_mean_squared_logarithmic_error: 0.0527\n",
            "Epoch 3/100\n",
            "481/481 [==============================] - 3s 7ms/step - loss: 0.0566 - mean_squared_logarithmic_error: 0.0566 - val_loss: 0.0517 - val_mean_squared_logarithmic_error: 0.0525\n",
            "Epoch 4/100\n",
            "481/481 [==============================] - 2s 5ms/step - loss: 0.0557 - mean_squared_logarithmic_error: 0.0556 - val_loss: 0.0497 - val_mean_squared_logarithmic_error: 0.0506\n",
            "Epoch 5/100\n",
            "481/481 [==============================] - 4s 9ms/step - loss: 0.0549 - mean_squared_logarithmic_error: 0.0549 - val_loss: 0.0495 - val_mean_squared_logarithmic_error: 0.0503\n",
            "Epoch 6/100\n",
            "481/481 [==============================] - 4s 8ms/step - loss: 0.0541 - mean_squared_logarithmic_error: 0.0541 - val_loss: 0.0485 - val_mean_squared_logarithmic_error: 0.0495\n",
            "Epoch 7/100\n",
            "481/481 [==============================] - 3s 6ms/step - loss: 0.0538 - mean_squared_logarithmic_error: 0.0538 - val_loss: 0.0484 - val_mean_squared_logarithmic_error: 0.0494\n",
            "Epoch 8/100\n",
            "481/481 [==============================] - 3s 6ms/step - loss: 0.0531 - mean_squared_logarithmic_error: 0.0531 - val_loss: 0.0486 - val_mean_squared_logarithmic_error: 0.0496\n",
            "Epoch 9/100\n",
            "481/481 [==============================] - 3s 7ms/step - loss: 0.0530 - mean_squared_logarithmic_error: 0.0530 - val_loss: 0.0482 - val_mean_squared_logarithmic_error: 0.0492\n",
            "Epoch 10/100\n",
            "481/481 [==============================] - 4s 8ms/step - loss: 0.0525 - mean_squared_logarithmic_error: 0.0525 - val_loss: 0.0477 - val_mean_squared_logarithmic_error: 0.0486\n",
            "Epoch 11/100\n",
            "481/481 [==============================] - 3s 5ms/step - loss: 0.0525 - mean_squared_logarithmic_error: 0.0525 - val_loss: 0.0476 - val_mean_squared_logarithmic_error: 0.0486\n",
            "Epoch 12/100\n",
            "481/481 [==============================] - 3s 5ms/step - loss: 0.0518 - mean_squared_logarithmic_error: 0.0518 - val_loss: 0.0477 - val_mean_squared_logarithmic_error: 0.0487\n",
            "Epoch 13/100\n",
            "481/481 [==============================] - 4s 9ms/step - loss: 0.0522 - mean_squared_logarithmic_error: 0.0522 - val_loss: 0.0474 - val_mean_squared_logarithmic_error: 0.0484\n",
            "Epoch 14/100\n",
            "481/481 [==============================] - 6s 12ms/step - loss: 0.0520 - mean_squared_logarithmic_error: 0.0520 - val_loss: 0.0473 - val_mean_squared_logarithmic_error: 0.0482\n",
            "Epoch 15/100\n",
            "481/481 [==============================] - 3s 6ms/step - loss: 0.0518 - mean_squared_logarithmic_error: 0.0518 - val_loss: 0.0477 - val_mean_squared_logarithmic_error: 0.0486\n",
            "Epoch 16/100\n",
            "481/481 [==============================] - 3s 6ms/step - loss: 0.0515 - mean_squared_logarithmic_error: 0.0515 - val_loss: 0.0482 - val_mean_squared_logarithmic_error: 0.0491\n",
            "Epoch 17/100\n",
            "481/481 [==============================] - 3s 6ms/step - loss: 0.0511 - mean_squared_logarithmic_error: 0.0511 - val_loss: 0.0479 - val_mean_squared_logarithmic_error: 0.0489\n",
            "Epoch 17: early stopping\n"
          ]
        },
        {
          "data": {
            "image/png": "[encoded data removed]",
            "text/plain": [
              "<Figure size 640x480 with 1 Axes>"
            ]
          },
          "metadata": {},
          "output_type": "display_data"
        },
        {
          "name": "stdout",
          "output_type": "stream",
          "text": [
            "601/601 [==============================] - 1s 1ms/step\n"
          ]
        },
        {
          "data": {
            "text/plain": [
              "11.527756959482872"
            ]
          },
          "execution_count": 73,
          "metadata": {},
          "output_type": "execute_result"
        }
      ],
      "source": [
        "# Creating model using the Sequential in tensorflow\n",
        "\n",
        "def build_model_using_sequential():\n",
        "  hidden_units1 = 150\n",
        "  hidden_units2 = 120\n",
        "  hidden_units3 = 130\n",
        "  learning_rate = 0.25\n",
        "  batch_s = 128\n",
        "  epp = 100\n",
        "\n",
        "  model = Sequential([\n",
        "    Dense(hidden_units1, kernel_initializer='normal', activation='relu'),\n",
        "    Dropout(0.2),\n",
        "    Dense(hidden_units2, kernel_initializer='normal', activation='relu'),\n",
        "    Dropout(0.2),\n",
        "    Dense(hidden_units3, kernel_initializer='normal', activation='relu'),\n",
        "    Dropout(0.2),\n",
        "    Dense(1, kernel_initializer='normal', activation='linear')])\n",
        "\n",
        "  # loss function\n",
        "  msle = MeanSquaredLogarithmicError()\n",
        "  model.compile(\n",
        "      loss=msle,\n",
        "      optimizer='adam',\n",
        "      metrics=[msle]\n",
        "  )\n",
        "\n",
        "  # train the model\n",
        "  history = model.fit(\n",
        "      x_train_scaled.values,\n",
        "      y_train.values,\n",
        "      epochs=epp,\n",
        "      batch_size=batch_s,\n",
        "      validation_split=0.2,\n",
        "      callbacks=[callback]\n",
        "  )\n",
        "\n",
        "  return model,history\n",
        "\n",
        "# build the model\n",
        "model,history2 = build_model_using_sequential()\n",
        "plot_history(history2, 'mean_squared_logarithmic_error')\n",
        "pred = model.predict(x_test_scaled)\n",
        "mean_squared_error(y_test,pred)"
      ]
    },
    {
      "cell_type": "code",
      "execution_count": null,
      "metadata": {
        "colab": {
          "base_uri": "https://localhost:8080/",
          "height": 1000
        },
        "id": "dOSCMREfL1o_",
        "outputId": "09e25b01-466c-4022-c615-a7db3095fe49"
      },
      "outputs": [
        {
          "name": "stdout",
          "output_type": "stream",
          "text": [
            "Epoch 1/100\n",
            "481/481 [==============================] - 5s 8ms/step - loss: 0.1054 - mean_squared_logarithmic_error: 0.1054 - val_loss: 0.0508 - val_mean_squared_logarithmic_error: 0.0517\n",
            "Epoch 2/100\n",
            "481/481 [==============================] - 2s 5ms/step - loss: 0.0555 - mean_squared_logarithmic_error: 0.0555 - val_loss: 0.0502 - val_mean_squared_logarithmic_error: 0.0512\n",
            "Epoch 3/100\n",
            "481/481 [==============================] - 2s 5ms/step - loss: 0.0539 - mean_squared_logarithmic_error: 0.0539 - val_loss: 0.0494 - val_mean_squared_logarithmic_error: 0.0504\n",
            "Epoch 4/100\n",
            "481/481 [==============================] - 2s 5ms/step - loss: 0.0532 - mean_squared_logarithmic_error: 0.0532 - val_loss: 0.0494 - val_mean_squared_logarithmic_error: 0.0504\n",
            "Epoch 5/100\n",
            "481/481 [==============================] - 2s 5ms/step - loss: 0.0527 - mean_squared_logarithmic_error: 0.0527 - val_loss: 0.0490 - val_mean_squared_logarithmic_error: 0.0499\n",
            "Epoch 6/100\n",
            "481/481 [==============================] - 3s 7ms/step - loss: 0.0523 - mean_squared_logarithmic_error: 0.0523 - val_loss: 0.0490 - val_mean_squared_logarithmic_error: 0.0499\n",
            "Epoch 7/100\n",
            "481/481 [==============================] - 3s 6ms/step - loss: 0.0516 - mean_squared_logarithmic_error: 0.0515 - val_loss: 0.0490 - val_mean_squared_logarithmic_error: 0.0500\n",
            "Epoch 8/100\n",
            "481/481 [==============================] - 2s 5ms/step - loss: 0.0513 - mean_squared_logarithmic_error: 0.0513 - val_loss: 0.0485 - val_mean_squared_logarithmic_error: 0.0494\n",
            "Epoch 9/100\n",
            "481/481 [==============================] - 3s 5ms/step - loss: 0.0509 - mean_squared_logarithmic_error: 0.0509 - val_loss: 0.0485 - val_mean_squared_logarithmic_error: 0.0494\n",
            "Epoch 10/100\n",
            "481/481 [==============================] - 2s 5ms/step - loss: 0.0508 - mean_squared_logarithmic_error: 0.0508 - val_loss: 0.0482 - val_mean_squared_logarithmic_error: 0.0491\n",
            "Epoch 11/100\n",
            "481/481 [==============================] - 3s 6ms/step - loss: 0.0504 - mean_squared_logarithmic_error: 0.0504 - val_loss: 0.0481 - val_mean_squared_logarithmic_error: 0.0491\n",
            "Epoch 12/100\n",
            "481/481 [==============================] - 3s 7ms/step - loss: 0.0503 - mean_squared_logarithmic_error: 0.0503 - val_loss: 0.0483 - val_mean_squared_logarithmic_error: 0.0493\n",
            "Epoch 13/100\n",
            "481/481 [==============================] - 2s 5ms/step - loss: 0.0501 - mean_squared_logarithmic_error: 0.0501 - val_loss: 0.0479 - val_mean_squared_logarithmic_error: 0.0489\n",
            "Epoch 14/100\n",
            "481/481 [==============================] - 2s 5ms/step - loss: 0.0499 - mean_squared_logarithmic_error: 0.0499 - val_loss: 0.0480 - val_mean_squared_logarithmic_error: 0.0490\n",
            "Epoch 15/100\n",
            "481/481 [==============================] - 2s 5ms/step - loss: 0.0497 - mean_squared_logarithmic_error: 0.0497 - val_loss: 0.0483 - val_mean_squared_logarithmic_error: 0.0493\n",
            "Epoch 16/100\n",
            "481/481 [==============================] - 3s 5ms/step - loss: 0.0498 - mean_squared_logarithmic_error: 0.0498 - val_loss: 0.0481 - val_mean_squared_logarithmic_error: 0.0490\n",
            "Epoch 16: early stopping\n"
          ]
        },
        {
          "data": {
            "image/png": "[encoded data removed]",
            "text/plain": [
              "<Figure size 640x480 with 1 Axes>"
            ]
          },
          "metadata": {},
          "output_type": "display_data"
        },
        {
          "name": "stdout",
          "output_type": "stream",
          "text": [
            "601/601 [==============================] - 1s 2ms/step\n"
          ]
        },
        {
          "data": {
            "text/plain": [
              "11.601443767512452"
            ]
          },
          "execution_count": 77,
          "metadata": {},
          "output_type": "execute_result"
        }
      ],
      "source": [
        "# Creating model using the Sequential in tensorflow\n",
        "\n",
        "def build_model_using_sequential():\n",
        "  hidden_units1 = 150\n",
        "  hidden_units2 = 120\n",
        "  hidden_units3 = 130\n",
        "  learning_rate = 0.25\n",
        "  batch_s = 128\n",
        "  epp = 100\n",
        "\n",
        "  model = Sequential([\n",
        "    Dense(hidden_units1, kernel_initializer='normal', activation='relu'),\n",
        "    Dropout(0.2),\n",
        "    Dense(hidden_units2, kernel_initializer='normal', activation='relu'),\n",
        "    Dropout(0.2),\n",
        "    Dense(hidden_units3, kernel_initializer='normal', activation='relu'),\n",
        "    Dropout(0.2),\n",
        "    Dense(1, kernel_initializer='normal', activation='linear')])\n",
        "\n",
        "  # loss function\n",
        "  msle = MeanSquaredLogarithmicError()\n",
        "  model.compile(\n",
        "      loss=msle,\n",
        "      optimizer=tf.compat.v1.train.GradientDescentOptimizer(learning_rate, name = 'GradientDescent'),\n",
        "      metrics=[msle]\n",
        "  )\n",
        "\n",
        "  # train the model\n",
        "  history = model.fit(\n",
        "      x_train_scaled.values,\n",
        "      y_train.values,\n",
        "      epochs=epp,\n",
        "      batch_size=batch_s,\n",
        "      validation_split=0.2,\n",
        "      callbacks=[callback]\n",
        "  )\n",
        "\n",
        "  return model,history\n",
        "\n",
        "# build the model\n",
        "model,history2 = build_model_using_sequential()\n",
        "plot_history(history2, 'mean_squared_logarithmic_error')\n",
        "pred = model.predict(x_test_scaled)\n",
        "mean_squared_error(y_test,pred)"
      ]
    },
    {
      "attachments": {},
      "cell_type": "markdown",
      "metadata": {
        "id": "3KilEscRPdko"
      },
      "source": [
        "Three metric"
      ]
    },
    {
      "cell_type": "code",
      "execution_count": null,
      "metadata": {
        "id": "iH3ZaUFgNoxQ"
      },
      "outputs": [],
      "source": [
        "adamax = tf.keras.optimizers.Adamax(learning_rate=0.001,\n",
        "                                   beta_1=0.9,\n",
        "                                   beta_2=0.999,\n",
        "                                   epsilon=1e-07,\n",
        "                                   name='Adamax')"
      ]
    },
    {
      "cell_type": "code",
      "execution_count": null,
      "metadata": {
        "colab": {
          "base_uri": "https://localhost:8080/",
          "height": 1000
        },
        "id": "Asph5ujPNve6",
        "outputId": "fbbc00e3-75aa-440c-88ea-fc7cd0fd8f50"
      },
      "outputs": [
        {
          "name": "stdout",
          "output_type": "stream",
          "text": [
            "Epoch 1/100\n",
            "481/481 [==============================] - 4s 6ms/step - loss: 0.4024 - mean_squared_logarithmic_error: 0.4021 - val_loss: 0.0722 - val_mean_squared_logarithmic_error: 0.0729\n",
            "Epoch 2/100\n",
            "481/481 [==============================] - 4s 9ms/step - loss: 0.0715 - mean_squared_logarithmic_error: 0.0715 - val_loss: 0.0589 - val_mean_squared_logarithmic_error: 0.0597\n",
            "Epoch 3/100\n",
            "481/481 [==============================] - 3s 5ms/step - loss: 0.0619 - mean_squared_logarithmic_error: 0.0618 - val_loss: 0.0531 - val_mean_squared_logarithmic_error: 0.0540\n",
            "Epoch 4/100\n",
            "481/481 [==============================] - 3s 5ms/step - loss: 0.0582 - mean_squared_logarithmic_error: 0.0582 - val_loss: 0.0511 - val_mean_squared_logarithmic_error: 0.0520\n",
            "Epoch 5/100\n",
            "481/481 [==============================] - 3s 5ms/step - loss: 0.0564 - mean_squared_logarithmic_error: 0.0564 - val_loss: 0.0504 - val_mean_squared_logarithmic_error: 0.0514\n",
            "Epoch 6/100\n",
            "481/481 [==============================] - 3s 6ms/step - loss: 0.0556 - mean_squared_logarithmic_error: 0.0556 - val_loss: 0.0498 - val_mean_squared_logarithmic_error: 0.0507\n",
            "Epoch 7/100\n",
            "481/481 [==============================] - 4s 9ms/step - loss: 0.0548 - mean_squared_logarithmic_error: 0.0548 - val_loss: 0.0494 - val_mean_squared_logarithmic_error: 0.0504\n",
            "Epoch 8/100\n",
            "481/481 [==============================] - 3s 6ms/step - loss: 0.0542 - mean_squared_logarithmic_error: 0.0541 - val_loss: 0.0498 - val_mean_squared_logarithmic_error: 0.0507\n",
            "Epoch 9/100\n",
            "481/481 [==============================] - 3s 5ms/step - loss: 0.0539 - mean_squared_logarithmic_error: 0.0539 - val_loss: 0.0492 - val_mean_squared_logarithmic_error: 0.0502\n",
            "Epoch 10/100\n",
            "481/481 [==============================] - 3s 6ms/step - loss: 0.0533 - mean_squared_logarithmic_error: 0.0533 - val_loss: 0.0491 - val_mean_squared_logarithmic_error: 0.0501\n",
            "Epoch 11/100\n",
            "481/481 [==============================] - 3s 7ms/step - loss: 0.0526 - mean_squared_logarithmic_error: 0.0526 - val_loss: 0.0484 - val_mean_squared_logarithmic_error: 0.0494\n",
            "Epoch 12/100\n",
            "481/481 [==============================] - 5s 10ms/step - loss: 0.0526 - mean_squared_logarithmic_error: 0.0526 - val_loss: 0.0480 - val_mean_squared_logarithmic_error: 0.0490\n",
            "Epoch 13/100\n",
            "481/481 [==============================] - 4s 8ms/step - loss: 0.0525 - mean_squared_logarithmic_error: 0.0524 - val_loss: 0.0478 - val_mean_squared_logarithmic_error: 0.0488\n",
            "Epoch 14/100\n",
            "481/481 [==============================] - 3s 5ms/step - loss: 0.0517 - mean_squared_logarithmic_error: 0.0517 - val_loss: 0.0478 - val_mean_squared_logarithmic_error: 0.0487\n",
            "Epoch 15/100\n",
            "481/481 [==============================] - 3s 6ms/step - loss: 0.0514 - mean_squared_logarithmic_error: 0.0514 - val_loss: 0.0478 - val_mean_squared_logarithmic_error: 0.0487\n",
            "Epoch 16/100\n",
            "481/481 [==============================] - 3s 5ms/step - loss: 0.0512 - mean_squared_logarithmic_error: 0.0512 - val_loss: 0.0477 - val_mean_squared_logarithmic_error: 0.0487\n",
            "Epoch 17/100\n",
            "481/481 [==============================] - 3s 7ms/step - loss: 0.0514 - mean_squared_logarithmic_error: 0.0514 - val_loss: 0.0473 - val_mean_squared_logarithmic_error: 0.0483\n",
            "Epoch 18/100\n",
            "481/481 [==============================] - 4s 8ms/step - loss: 0.0509 - mean_squared_logarithmic_error: 0.0509 - val_loss: 0.0486 - val_mean_squared_logarithmic_error: 0.0496\n",
            "Epoch 19/100\n",
            "481/481 [==============================] - 3s 6ms/step - loss: 0.0510 - mean_squared_logarithmic_error: 0.0510 - val_loss: 0.0478 - val_mean_squared_logarithmic_error: 0.0487\n",
            "Epoch 20/100\n",
            "481/481 [==============================] - 3s 6ms/step - loss: 0.0507 - mean_squared_logarithmic_error: 0.0507 - val_loss: 0.0472 - val_mean_squared_logarithmic_error: 0.0482\n",
            "Epoch 21/100\n",
            "481/481 [==============================] - 3s 5ms/step - loss: 0.0509 - mean_squared_logarithmic_error: 0.0509 - val_loss: 0.0472 - val_mean_squared_logarithmic_error: 0.0482\n",
            "Epoch 22/100\n",
            "481/481 [==============================] - 3s 7ms/step - loss: 0.0504 - mean_squared_logarithmic_error: 0.0504 - val_loss: 0.0471 - val_mean_squared_logarithmic_error: 0.0481\n",
            "Epoch 23/100\n",
            "481/481 [==============================] - 4s 7ms/step - loss: 0.0503 - mean_squared_logarithmic_error: 0.0503 - val_loss: 0.0473 - val_mean_squared_logarithmic_error: 0.0483\n",
            "Epoch 24/100\n",
            "481/481 [==============================] - 3s 5ms/step - loss: 0.0505 - mean_squared_logarithmic_error: 0.0505 - val_loss: 0.0472 - val_mean_squared_logarithmic_error: 0.0481\n",
            "Epoch 25/100\n",
            "481/481 [==============================] - 3s 6ms/step - loss: 0.0501 - mean_squared_logarithmic_error: 0.0501 - val_loss: 0.0474 - val_mean_squared_logarithmic_error: 0.0483\n",
            "Epoch 25: early stopping\n"
          ]
        },
        {
          "data": {
            "image/png": "[encoded data removed]",
            "text/plain": [
              "<Figure size 640x480 with 1 Axes>"
            ]
          },
          "metadata": {},
          "output_type": "display_data"
        },
        {
          "name": "stdout",
          "output_type": "stream",
          "text": [
            "601/601 [==============================] - 1s 2ms/step\n"
          ]
        },
        {
          "data": {
            "text/plain": [
              "11.141036967316849"
            ]
          },
          "execution_count": 81,
          "metadata": {},
          "output_type": "execute_result"
        }
      ],
      "source": [
        "# Creating model using the Sequential in tensorflow\n",
        "\n",
        "def build_model_using_sequential():\n",
        "  hidden_units1 = 150\n",
        "  hidden_units2 = 120\n",
        "  hidden_units3 = 130\n",
        "  learning_rate = 0.25\n",
        "  batch_s = 128\n",
        "  epp = 100\n",
        "\n",
        "  model = Sequential([\n",
        "    Dense(hidden_units1, kernel_initializer='normal', activation='relu'),\n",
        "    Dropout(0.2),\n",
        "    Dense(hidden_units2, kernel_initializer='normal', activation='relu'),\n",
        "    Dropout(0.2),\n",
        "    Dense(hidden_units3, kernel_initializer='normal', activation='relu'),\n",
        "    Dropout(0.2),\n",
        "    Dense(1, kernel_initializer='normal', activation='linear')])\n",
        "\n",
        "  # loss function\n",
        "  msle = MeanSquaredLogarithmicError()\n",
        "  model.compile(\n",
        "      loss=msle,\n",
        "      optimizer=adamax,\n",
        "      metrics=[msle]\n",
        "  )\n",
        "\n",
        "  # train the model\n",
        "  history = model.fit(\n",
        "      x_train_scaled.values,\n",
        "      y_train.values,\n",
        "      epochs=epp,\n",
        "      batch_size=batch_s,\n",
        "      validation_split=0.2,\n",
        "      callbacks=[callback]\n",
        "  )\n",
        "\n",
        "  return model,history\n",
        "\n",
        "# build the model\n",
        "model,history2 = build_model_using_sequential()\n",
        "plot_history(history2, 'mean_squared_logarithmic_error')\n",
        "pred = model.predict(x_test_scaled)\n",
        "mean_squared_error(y_test,pred)"
      ]
    },
    {
      "cell_type": "code",
      "execution_count": null,
      "metadata": {
        "id": "6YcXkaqxzJuT"
      },
      "outputs": [],
      "source": [
        "callback = tf.keras.callbacks.EarlyStopping(\n",
        "    monitor='val_loss',\n",
        "    min_delta=0.00005,\n",
        "    patience=3,\n",
        "    verbose=2,\n",
        "    mode='min',\n",
        "    baseline=None,\n",
        "    restore_best_weights=False\n",
        ")"
      ]
    },
    {
      "cell_type": "code",
      "execution_count": null,
      "metadata": {
        "id": "DmnvLVrHtO3Y"
      },
      "outputs": [],
      "source": [
        "adamax = tf.keras.optimizers.Adamax(learning_rate=0.001,\n",
        "                                   beta_1=0.9,\n",
        "                                   beta_2=0.999,\n",
        "                                   epsilon=1e-07,\n",
        "                                   name='Adamax')"
      ]
    },
    {
      "cell_type": "code",
      "execution_count": null,
      "metadata": {
        "colab": {
          "base_uri": "https://localhost:8080/",
          "height": 1000
        },
        "id": "wMdHvhm3Nx6Q",
        "outputId": "cb2be600-3939-4c2b-b177-a4dae6f2e2e5"
      },
      "outputs": [
        {
          "name": "stdout",
          "output_type": "stream",
          "text": [
            "Epoch 1/100\n",
            "481/481 [==============================] - 4s 6ms/step - loss: 38.0248 - mse: 38.0248 - val_loss: 13.4356 - val_mse: 13.4356\n",
            "Epoch 2/100\n",
            "481/481 [==============================] - 2s 5ms/step - loss: 14.1536 - mse: 14.1536 - val_loss: 12.7394 - val_mse: 12.7394\n",
            "Epoch 3/100\n",
            "481/481 [==============================] - 3s 5ms/step - loss: 13.6179 - mse: 13.6179 - val_loss: 12.1479 - val_mse: 12.1479\n",
            "Epoch 4/100\n",
            "481/481 [==============================] - 4s 7ms/step - loss: 13.1940 - mse: 13.1940 - val_loss: 11.9749 - val_mse: 11.9749\n",
            "Epoch 5/100\n",
            "481/481 [==============================] - 3s 7ms/step - loss: 13.1444 - mse: 13.1444 - val_loss: 11.9034 - val_mse: 11.9034\n",
            "Epoch 6/100\n",
            "481/481 [==============================] - 3s 5ms/step - loss: 12.9705 - mse: 12.9705 - val_loss: 11.9235 - val_mse: 11.9235\n",
            "Epoch 7/100\n",
            "481/481 [==============================] - 4s 8ms/step - loss: 12.9391 - mse: 12.9391 - val_loss: 11.7682 - val_mse: 11.7682\n",
            "Epoch 8/100\n",
            "481/481 [==============================] - 6s 12ms/step - loss: 12.7801 - mse: 12.7801 - val_loss: 11.8702 - val_mse: 11.8702\n",
            "Epoch 9/100\n",
            "481/481 [==============================] - 5s 11ms/step - loss: 12.6130 - mse: 12.6130 - val_loss: 11.6443 - val_mse: 11.6443\n",
            "Epoch 10/100\n",
            "481/481 [==============================] - 3s 5ms/step - loss: 12.6376 - mse: 12.6376 - val_loss: 11.6249 - val_mse: 11.6249\n",
            "Epoch 11/100\n",
            "481/481 [==============================] - 3s 6ms/step - loss: 12.4486 - mse: 12.4486 - val_loss: 11.6784 - val_mse: 11.6784\n",
            "Epoch 12/100\n",
            "481/481 [==============================] - 5s 10ms/step - loss: 12.5699 - mse: 12.5699 - val_loss: 11.5264 - val_mse: 11.5264\n",
            "Epoch 13/100\n",
            "481/481 [==============================] - 3s 6ms/step - loss: 12.3074 - mse: 12.3074 - val_loss: 11.4733 - val_mse: 11.4733\n",
            "Epoch 14/100\n",
            "481/481 [==============================] - 3s 6ms/step - loss: 12.3049 - mse: 12.3049 - val_loss: 11.5006 - val_mse: 11.5006\n",
            "Epoch 15/100\n",
            "481/481 [==============================] - 2s 5ms/step - loss: 12.2529 - mse: 12.2529 - val_loss: 11.5458 - val_mse: 11.5458\n",
            "Epoch 16/100\n",
            "481/481 [==============================] - 2s 5ms/step - loss: 12.2794 - mse: 12.2794 - val_loss: 11.5227 - val_mse: 11.5227\n",
            "Epoch 16: early stopping\n"
          ]
        },
        {
          "data": {
            "image/png": "[encoded data removed]",
            "text/plain": [
              "<Figure size 640x480 with 1 Axes>"
            ]
          },
          "metadata": {},
          "output_type": "display_data"
        },
        {
          "name": "stdout",
          "output_type": "stream",
          "text": [
            "601/601 [==============================] - 1s 2ms/step\n"
          ]
        },
        {
          "data": {
            "text/plain": [
              "11.054399597115658"
            ]
          },
          "execution_count": 88,
          "metadata": {},
          "output_type": "execute_result"
        }
      ],
      "source": [
        "# Creating model using the Sequential in tensorflow\n",
        "\n",
        "def build_model_using_sequential():\n",
        "  hidden_units1 = 150\n",
        "  hidden_units2 = 120\n",
        "  hidden_units3 = 130\n",
        "  learning_rate = 0.25\n",
        "  batch_s = 128\n",
        "  epp = 100\n",
        "\n",
        "  model = Sequential([\n",
        "    Dense(hidden_units1, kernel_initializer='normal', activation='relu'),\n",
        "    Dropout(0.2),\n",
        "    Dense(hidden_units2, kernel_initializer='normal', activation='relu'),\n",
        "    Dropout(0.2),\n",
        "    Dense(hidden_units3, kernel_initializer='normal', activation='relu'),\n",
        "    Dropout(0.2),\n",
        "    Dense(1, kernel_initializer='normal', activation='linear')])\n",
        "\n",
        "  # loss function\n",
        "  msle = MeanSquaredLogarithmicError()\n",
        "  model.compile(\n",
        "      loss='mse',\n",
        "      optimizer=adamax,\n",
        "      metrics='mse'\n",
        "  )\n",
        "\n",
        "  # train the model\n",
        "  history = model.fit(\n",
        "      x_train_scaled.values,\n",
        "      y_train.values,\n",
        "      epochs=epp,\n",
        "      batch_size=batch_s,\n",
        "      validation_split=0.2,\n",
        "      callbacks=[callback]\n",
        "  )\n",
        "\n",
        "  return model,history\n",
        "\n",
        "# build the model\n",
        "model,history2 = build_model_using_sequential()\n",
        "plot_history(history2, 'mse')\n",
        "pred = model.predict(x_test_scaled)\n",
        "mean_squared_error(y_test,pred)"
      ]
    },
    {
      "cell_type": "code",
      "execution_count": null,
      "metadata": {
        "colab": {
          "base_uri": "https://localhost:8080/",
          "height": 424
        },
        "id": "0qaiCSpPwz-r",
        "outputId": "b72fea16-b80f-49ce-82f9-ef1a91f9fb21"
      },
      "outputs": [
        {
          "data": {
            "text/html": [
              "\n",
              "  <div id=\"df-8394f190-6f2f-47ee-a877-2d526e4a4560\">\n",
              "    <div class=\"colab-df-container\">\n",
              "      <div>\n",
              "<style scoped>\n",
              "    .dataframe tbody tr th:only-of-type {\n",
              "        vertical-align: middle;\n",
              "    }\n",
              "\n",
              "    .dataframe tbody tr th {\n",
              "        vertical-align: top;\n",
              "    }\n",
              "\n",
              "    .dataframe thead th {\n",
              "        text-align: right;\n",
              "    }\n",
              "</style>\n",
              "<table border=\"1\" class=\"dataframe\">\n",
              "  <thead>\n",
              "    <tr style=\"text-align: right;\">\n",
              "      <th></th>\n",
              "      <th>Actual</th>\n",
              "      <th>Pred</th>\n",
              "    </tr>\n",
              "  </thead>\n",
              "  <tbody>\n",
              "    <tr>\n",
              "      <th>55008</th>\n",
              "      <td>4.1</td>\n",
              "      <td>5.173818</td>\n",
              "    </tr>\n",
              "    <tr>\n",
              "      <th>27242</th>\n",
              "      <td>16.1</td>\n",
              "      <td>13.834305</td>\n",
              "    </tr>\n",
              "    <tr>\n",
              "      <th>67064</th>\n",
              "      <td>3.5</td>\n",
              "      <td>4.832965</td>\n",
              "    </tr>\n",
              "    <tr>\n",
              "      <th>61647</th>\n",
              "      <td>6.5</td>\n",
              "      <td>6.740461</td>\n",
              "    </tr>\n",
              "    <tr>\n",
              "      <th>94673</th>\n",
              "      <td>34.0</td>\n",
              "      <td>24.776331</td>\n",
              "    </tr>\n",
              "    <tr>\n",
              "      <th>...</th>\n",
              "      <td>...</td>\n",
              "      <td>...</td>\n",
              "    </tr>\n",
              "    <tr>\n",
              "      <th>616</th>\n",
              "      <td>16.5</td>\n",
              "      <td>18.250826</td>\n",
              "    </tr>\n",
              "    <tr>\n",
              "      <th>82545</th>\n",
              "      <td>4.9</td>\n",
              "      <td>6.067543</td>\n",
              "    </tr>\n",
              "    <tr>\n",
              "      <th>26030</th>\n",
              "      <td>2.9</td>\n",
              "      <td>5.374355</td>\n",
              "    </tr>\n",
              "    <tr>\n",
              "      <th>19567</th>\n",
              "      <td>5.3</td>\n",
              "      <td>7.659649</td>\n",
              "    </tr>\n",
              "    <tr>\n",
              "      <th>15142</th>\n",
              "      <td>9.5</td>\n",
              "      <td>7.790707</td>\n",
              "    </tr>\n",
              "  </tbody>\n",
              "</table>\n",
              "<p>19220 rows × 2 columns</p>\n",
              "</div>\n",
              "      <button class=\"colab-df-convert\" onclick=\"convertToInteractive('df-8394f190-6f2f-47ee-a877-2d526e4a4560')\"\n",
              "              title=\"Convert this dataframe to an interactive table.\"\n",
              "              style=\"display:none;\">\n",
              "        \n",
              "  <svg xmlns=\"http://www.w3.org/2000/svg\" height=\"24px\"viewBox=\"0 0 24 24\"\n",
              "       width=\"24px\">\n",
              "    <path d=\"M0 0h24v24H0V0z\" fill=\"none\"/>\n",
              "    <path d=\"M18.56 5.44l.94 2.06.94-2.06 2.06-.94-2.06-.94-.94-2.06-.94 2.06-2.06.94zm-11 1L8.5 8.5l.94-2.06 2.06-.94-2.06-.94L8.5 2.5l-.94 2.06-2.06.94zm10 10l.94 2.06.94-2.06 2.06-.94-2.06-.94-.94-2.06-.94 2.06-2.06.94z\"/><path d=\"M17.41 7.96l-1.37-1.37c-.4-.4-.92-.59-1.43-.59-.52 0-1.04.2-1.43.59L10.3 9.45l-7.72 7.72c-.78.78-.78 2.05 0 2.83L4 21.41c.39.39.9.59 1.41.59.51 0 1.02-.2 1.41-.59l7.78-7.78 2.81-2.81c.8-.78.8-2.07 0-2.86zM5.41 20L4 18.59l7.72-7.72 1.47 1.35L5.41 20z\"/>\n",
              "  </svg>\n",
              "      </button>\n",
              "      \n",
              "  <style>\n",
              "    .colab-df-container {\n",
              "      display:flex;\n",
              "      flex-wrap:wrap;\n",
              "      gap: 12px;\n",
              "    }\n",
              "\n",
              "    .colab-df-convert {\n",
              "      background-color: #E8F0FE;\n",
              "      border: none;\n",
              "      border-radius: 50%;\n",
              "      cursor: pointer;\n",
              "      display: none;\n",
              "      fill: #1967D2;\n",
              "      height: 32px;\n",
              "      padding: 0 0 0 0;\n",
              "      width: 32px;\n",
              "    }\n",
              "\n",
              "    .colab-df-convert:hover {\n",
              "      background-color: #E2EBFA;\n",
              "      box-shadow: 0px 1px 2px rgba(60, 64, 67, 0.3), 0px 1px 3px 1px rgba(60, 64, 67, 0.15);\n",
              "      fill: #174EA6;\n",
              "    }\n",
              "\n",
              "    [theme=dark] .colab-df-convert {\n",
              "      background-color: #3B4455;\n",
              "      fill: #D2E3FC;\n",
              "    }\n",
              "\n",
              "    [theme=dark] .colab-df-convert:hover {\n",
              "      background-color: #434B5C;\n",
              "      box-shadow: 0px 1px 3px 1px rgba(0, 0, 0, 0.15);\n",
              "      filter: drop-shadow(0px 1px 2px rgba(0, 0, 0, 0.3));\n",
              "      fill: #FFFFFF;\n",
              "    }\n",
              "  </style>\n",
              "\n",
              "      <script>\n",
              "        const buttonEl =\n",
              "          document.querySelector('#df-8394f190-6f2f-47ee-a877-2d526e4a4560 button.colab-df-convert');\n",
              "        buttonEl.style.display =\n",
              "          google.colab.kernel.accessAllowed ? 'block' : 'none';\n",
              "\n",
              "        async function convertToInteractive(key) {\n",
              "          const element = document.querySelector('#df-8394f190-6f2f-47ee-a877-2d526e4a4560');\n",
              "          const dataTable =\n",
              "            await google.colab.kernel.invokeFunction('convertToInteractive',\n",
              "                                                     [key], {});\n",
              "          if (!dataTable) return;\n",
              "\n",
              "          const docLinkHtml = 'Like what you see? Visit the ' +\n",
              "            '<a target=\"_blank\" href=https://colab.research.google.com/notebooks/data_table.ipynb>data table notebook</a>'\n",
              "            + ' to learn more about interactive tables.';\n",
              "          element.innerHTML = '';\n",
              "          dataTable['output_type'] = 'display_data';\n",
              "          await google.colab.output.renderOutput(dataTable, element);\n",
              "          const docLink = document.createElement('div');\n",
              "          docLink.innerHTML = docLinkHtml;\n",
              "          element.appendChild(docLink);\n",
              "        }\n",
              "      </script>\n",
              "    </div>\n",
              "  </div>\n",
              "  "
            ],
            "text/plain": [
              "       Actual       Pred\n",
              "55008     4.1   5.173818\n",
              "27242    16.1  13.834305\n",
              "67064     3.5   4.832965\n",
              "61647     6.5   6.740461\n",
              "94673    34.0  24.776331\n",
              "...       ...        ...\n",
              "616      16.5  18.250826\n",
              "82545     4.9   6.067543\n",
              "26030     2.9   5.374355\n",
              "19567     5.3   7.659649\n",
              "15142     9.5   7.790707\n",
              "\n",
              "[19220 rows x 2 columns]"
            ]
          },
          "execution_count": 89,
          "metadata": {},
          "output_type": "execute_result"
        }
      ],
      "source": [
        "df = pd.DataFrame()\n",
        "df['Actual'] = y_test\n",
        "df['Pred'] =  pred\n",
        "df"
      ]
    },
    {
      "cell_type": "code",
      "execution_count": null,
      "metadata": {
        "colab": {
          "base_uri": "https://localhost:8080/"
        },
        "id": "ReowsyV0tNpA",
        "outputId": "731d854e-157e-46ad-8798-992be82d77db"
      },
      "outputs": [
        {
          "data": {
            "text/plain": [
              "(0.11054399597115659, 0.019156867126639502)"
            ]
          },
          "execution_count": 96,
          "metadata": {},
          "output_type": "execute_result"
        }
      ],
      "source": [
        "mse = mean_squared_error(y_test,pred) * 0.01\n",
        "mae = mean_absolute_error(y_test,pred) * 0.01\n",
        "mse, mae"
      ]
    },
    {
      "cell_type": "code",
      "execution_count": null,
      "metadata": {
        "colab": {
          "base_uri": "https://localhost:8080/"
        },
        "id": "x_R_l9_yQcXR",
        "outputId": "238be10c-ee11-4274-be4b-98475f20a4a1"
      },
      "outputs": [
        {
          "data": {
            "text/plain": [
              "19220"
            ]
          },
          "execution_count": 91,
          "metadata": {},
          "output_type": "execute_result"
        }
      ],
      "source": [
        "pred.shape[0]"
      ]
    },
    {
      "cell_type": "code",
      "execution_count": null,
      "metadata": {
        "colab": {
          "base_uri": "https://localhost:8080/"
        },
        "id": "nDEuL_v4tkQ4",
        "outputId": "ac5d8e0d-1b7a-4061-d767-8b28ab0441fd"
      },
      "outputs": [
        {
          "name": "stdout",
          "output_type": "stream",
          "text": [
            "0.002\n"
          ]
        }
      ],
      "source": [
        "# binomial confidence interval\n",
        "from math import sqrt\n",
        "\n",
        "# We can calculate the 95% confidence interval (z = 1.96) as follows:\n",
        "interval = 1.96 * sqrt( (mae * (1 - mae)) / pred.shape[0])\n",
        "print('%.3f' % interval)"
      ]
    },
    {
      "cell_type": "code",
      "execution_count": null,
      "metadata": {
        "id": "uQDEtLAAwmC5"
      },
      "outputs": [],
      "source": [
        "df = df.assign(Diff = lambda x: (x['Pred']-x['Actual']))"
      ]
    },
    {
      "cell_type": "code",
      "execution_count": null,
      "metadata": {
        "colab": {
          "base_uri": "https://localhost:8080/",
          "height": 466
        },
        "id": "swghuc1-wPFj",
        "outputId": "385bbfa0-8f0a-4751-f742-ad7e8968817c"
      },
      "outputs": [
        {
          "data": {
            "text/plain": [
              "<Axes: xlabel='Diff', ylabel='Count'>"
            ]
          },
          "execution_count": 95,
          "metadata": {},
          "output_type": "execute_result"
        },
        {
          "data": {
            "image/png": "[encoded data removed]",
            "text/plain": [
              "<Figure size 640x480 with 1 Axes>"
            ]
          },
          "metadata": {},
          "output_type": "display_data"
        }
      ],
      "source": [
        "sns.histplot(df['Diff'])"
      ]
    },
    {
      "cell_type": "code",
      "execution_count": null,
      "metadata": {
        "id": "HfPBp-ET0gY3"
      },
      "outputs": [],
      "source": [
        "model.save('Flight.h5')"
      ]
    },
    {
      "cell_type": "code",
      "execution_count": 27,
      "metadata": {
        "id": "9MrbHaxGTnGp"
      },
      "outputs": [],
      "source": [
        "import pickle\n",
        "\n",
        "pickle_out = open(\"scaler.pkl\", \"wb\")  # wb = WRITE BYTE\n",
        "pickle.dump(scaler, pickle_out)\n",
        "pickle_out.close()"
      ]
    },
    {
      "cell_type": "code",
      "execution_count": 28,
      "metadata": {
        "id": "Y9DCp84OUDLp"
      },
      "outputs": [],
      "source": [
        "pickle_in = open(\"scaler.pkl\", \"rb\")  ## rb = READ BYTE\n",
        "scaler = pickle.load(pickle_in)"
      ]
    },
    {
      "cell_type": "code",
      "execution_count": null,
      "metadata": {
        "id": "JDvCMzvr2E-J"
      },
      "outputs": [],
      "source": [
        "x = keras.models.load_model(\"Flight.h5\")"
      ]
    },
    {
      "cell_type": "code",
      "execution_count": null,
      "metadata": {
        "colab": {
          "base_uri": "https://localhost:8080/"
        },
        "id": "yWQLUg2L2R8_",
        "outputId": "9e4430ce-2444-4b77-d8ad-cbfac3d8a8c0"
      },
      "outputs": [
        {
          "data": {
            "text/plain": [
              "array([-0.52606667, -0.72919248, -0.93550993, -1.23734462,  0.84228579,\n",
              "       -1.0430273 , -0.07806942])"
            ]
          },
          "execution_count": 116,
          "metadata": {},
          "output_type": "execute_result"
        }
      ],
      "source": [
        "np.array(x_test_scaled.values[0])"
      ]
    },
    {
      "cell_type": "code",
      "execution_count": null,
      "metadata": {
        "colab": {
          "base_uri": "https://localhost:8080/"
        },
        "id": "aYWaWOPU2J4J",
        "outputId": "0a752f56-3414-4059-e0c2-283e13788128"
      },
      "outputs": [
        {
          "name": "stderr",
          "output_type": "stream",
          "text": [
            "WARNING:tensorflow:5 out of the last 607 calls to <function Model.make_predict_function.<locals>.predict_function at 0x7f96a456eef0> triggered tf.function retracing. Tracing is expensive and the excessive number of tracings could be due to (1) creating @tf.function repeatedly in a loop, (2) passing tensors with different shapes, (3) passing Python objects instead of tensors. For (1), please define your @tf.function outside of the loop. For (2), @tf.function has reduce_retracing=True option that can avoid unnecessary retracing. For (3), please refer to https://www.tensorflow.org/guide/function#controlling_retracing and https://www.tensorflow.org/api_docs/python/tf/function for  more details.\n"
          ]
        },
        {
          "name": "stdout",
          "output_type": "stream",
          "text": [
            "1/1 [==============================] - 0s 376ms/step\n"
          ]
        },
        {
          "data": {
            "text/plain": [
              "array([[5.173817]], dtype=float32)"
            ]
          },
          "execution_count": 121,
          "metadata": {},
          "output_type": "execute_result"
        }
      ],
      "source": [
        "x.predict(np.array( [x_test_scaled.values[0],] ) )"
      ]
    }
  ],
  "metadata": {
    "colab": {
      "collapsed_sections": [
        "kChG7OIAMyz6",
        "bufXPgr_M5d1",
        "CMlahOfRNDOb",
        "csvZH0cUSKEL",
        "wHgaRcSPynHK"
      ],
      "provenance": []
    },
    "kernelspec": {
      "display_name": "Python 3",
      "name": "python3"
    },
    "language_info": {
      "codemirror_mode": {
        "name": "ipython",
        "version": 3
      },
      "file_extension": ".py",
      "mimetype": "text/x-python",
      "name": "python",
      "nbconvert_exporter": "python",
      "pygments_lexer": "ipython3",
      "version": "3.10.9"
    }
  },
  "nbformat": 4,
  "nbformat_minor": 0
}
